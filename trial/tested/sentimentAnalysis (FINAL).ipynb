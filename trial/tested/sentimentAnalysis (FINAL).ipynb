{
  "nbformat": 4,
  "nbformat_minor": 0,
  "metadata": {
    "colab": {
      "name": "Sentiment-Analysis.ipynb",
      "provenance": [],
      "collapsed_sections": []
    },
    "kernelspec": {
      "name": "python3",
      "display_name": "Python 3"
    },
    "language_info": {
      "name": "python"
    }
  },
  "cells": [
    {
      "cell_type": "code",
      "execution_count": 19,
      "metadata": {
        "id": "2idgu3aAvC54",
        "colab": {
          "base_uri": "https://localhost:8080/"
        },
        "outputId": "eabd96d2-2b16-49a0-9055-3faf2ade0348"
      },
      "outputs": [
        {
          "output_type": "stream",
          "name": "stdout",
          "text": [
            "There are 97 reviews in this hotel\n",
            "Review scrapping completed!\n"
          ]
        }
      ],
      "source": [
        "import requests\n",
        "from bs4 import BeautifulSoup as soup\n",
        "from random import randint\n",
        "from time import sleep\n",
        "\n",
        "# Get request from url\n",
        "a = 'https://www.tripadvisor.com/Hotel_Review-g297628-d1400046-Reviews-Hotel_City_Centaur-Bengaluru_Bangalore_District_Karnataka.html'\n",
        "a = a[:(a.find('Reviews')+7)] + '-or{}' + a[(a.find('Reviews')+7):]\n",
        "\n",
        "reviews = []\n",
        "\n",
        "headers = {'User-Agent':'Mozilla/5.0 (Windows NT 10.0; Win64; x64) AppleWebKit/537.36 (KHTML, like Gecko) Chrome/94.0.4606.81 Safari/537.36'}\n",
        "\n",
        "html = requests.get(a, headers = headers)\n",
        "element = soup(html.content, 'lxml')\n",
        "\n",
        "#Extracting number of review\n",
        "no_review = element.findAll('span', class_ = \"HFUqL\")\n",
        "no_review1 = no_review[0].text.replace(\" reviews\", \"\") # Deleting 'reviews' \n",
        "no_review2 = int(no_review1.replace(\",\", \"\")) # Deleting ','\n",
        "print(\"There are\",no_review2,\"reviews in this hotel\")\n",
        "    \n",
        "for i in range((no_review2//5)+1):\n",
        "    j = 5*i\n",
        "    a_new = a.replace(\"{}\",str(j))\n",
        "    html = requests.get(a_new, headers = headers)\n",
        "    sleep(1)\n",
        "    bsobj = soup(html.content, 'lxml')\n",
        "    for r in bsobj.findAll('q'):\n",
        "        reviews.append(r.span.text.strip())\n",
        "\n",
        "print(\"Review scrapping completed!\")"
      ]
    },
    {
      "cell_type": "code",
      "source": [
        "res = []\n",
        "for i in reviews:\n",
        "    if i not in res:\n",
        "        res.append(i)"
      ],
      "metadata": {
        "id": "w7KgOX7WSfTI"
      },
      "execution_count": 20,
      "outputs": []
    },
    {
      "cell_type": "code",
      "source": [
        "#print(\"------------------------------\")\n",
        "#print(\"Printing the reviews\")\n",
        "#print(\"------------------------------\")\n",
        "#for i in range(len(res)):\n",
        "#    print(res[i],\"\\n\")"
      ],
      "metadata": {
        "id": "0EOWXOwdvEZV"
      },
      "execution_count": 21,
      "outputs": []
    },
    {
      "cell_type": "markdown",
      "metadata": {
        "id": "73aa91aa"
      },
      "source": [
        "# Data cleaning"
      ]
    },
    {
      "cell_type": "code",
      "execution_count": 53,
      "metadata": {
        "id": "55d2a077"
      },
      "outputs": [],
      "source": [
        "import pandas as pd\n",
        "from string import *"
      ]
    },
    {
      "cell_type": "code",
      "execution_count": 54,
      "metadata": {
        "id": "9ac28071",
        "colab": {
          "base_uri": "https://localhost:8080/",
          "height": 423
        },
        "outputId": "c897c945-01b4-4678-d8ce-087095487363"
      },
      "outputs": [
        {
          "output_type": "execute_result",
          "data": {
            "text/plain": [
              "                                               review\n",
              "0   I am a regular guest in Hotel City Centaur, al...\n",
              "1   Wonderful hospitality, I really appreciate the...\n",
              "2   Very good experience, good size rooms clean ba...\n",
              "3   I had a very pleasant experience at Hotel City...\n",
              "4   Good hospitality, staff will do there best her...\n",
              "..                                                ...\n",
              "92  Iwas at bangalore with a group of 45 people in...\n",
              "93  I have booked this hotel for my family who is ...\n",
              "94  I was travelling with family in Karnataka and ...\n",
              "95  This hotel may have, at one point, been grand ...\n",
              "96  I had an idea that it should be a good hotel. ...\n",
              "\n",
              "[97 rows x 1 columns]"
            ],
            "text/html": [
              "\n",
              "  <div id=\"df-e0d44402-d41e-44ab-b57e-c4ca1b9d72eb\">\n",
              "    <div class=\"colab-df-container\">\n",
              "      <div>\n",
              "<style scoped>\n",
              "    .dataframe tbody tr th:only-of-type {\n",
              "        vertical-align: middle;\n",
              "    }\n",
              "\n",
              "    .dataframe tbody tr th {\n",
              "        vertical-align: top;\n",
              "    }\n",
              "\n",
              "    .dataframe thead th {\n",
              "        text-align: right;\n",
              "    }\n",
              "</style>\n",
              "<table border=\"1\" class=\"dataframe\">\n",
              "  <thead>\n",
              "    <tr style=\"text-align: right;\">\n",
              "      <th></th>\n",
              "      <th>review</th>\n",
              "    </tr>\n",
              "  </thead>\n",
              "  <tbody>\n",
              "    <tr>\n",
              "      <th>0</th>\n",
              "      <td>I am a regular guest in Hotel City Centaur, al...</td>\n",
              "    </tr>\n",
              "    <tr>\n",
              "      <th>1</th>\n",
              "      <td>Wonderful hospitality, I really appreciate the...</td>\n",
              "    </tr>\n",
              "    <tr>\n",
              "      <th>2</th>\n",
              "      <td>Very good experience, good size rooms clean ba...</td>\n",
              "    </tr>\n",
              "    <tr>\n",
              "      <th>3</th>\n",
              "      <td>I had a very pleasant experience at Hotel City...</td>\n",
              "    </tr>\n",
              "    <tr>\n",
              "      <th>4</th>\n",
              "      <td>Good hospitality, staff will do there best her...</td>\n",
              "    </tr>\n",
              "    <tr>\n",
              "      <th>...</th>\n",
              "      <td>...</td>\n",
              "    </tr>\n",
              "    <tr>\n",
              "      <th>92</th>\n",
              "      <td>Iwas at bangalore with a group of 45 people in...</td>\n",
              "    </tr>\n",
              "    <tr>\n",
              "      <th>93</th>\n",
              "      <td>I have booked this hotel for my family who is ...</td>\n",
              "    </tr>\n",
              "    <tr>\n",
              "      <th>94</th>\n",
              "      <td>I was travelling with family in Karnataka and ...</td>\n",
              "    </tr>\n",
              "    <tr>\n",
              "      <th>95</th>\n",
              "      <td>This hotel may have, at one point, been grand ...</td>\n",
              "    </tr>\n",
              "    <tr>\n",
              "      <th>96</th>\n",
              "      <td>I had an idea that it should be a good hotel. ...</td>\n",
              "    </tr>\n",
              "  </tbody>\n",
              "</table>\n",
              "<p>97 rows × 1 columns</p>\n",
              "</div>\n",
              "      <button class=\"colab-df-convert\" onclick=\"convertToInteractive('df-e0d44402-d41e-44ab-b57e-c4ca1b9d72eb')\"\n",
              "              title=\"Convert this dataframe to an interactive table.\"\n",
              "              style=\"display:none;\">\n",
              "        \n",
              "  <svg xmlns=\"http://www.w3.org/2000/svg\" height=\"24px\"viewBox=\"0 0 24 24\"\n",
              "       width=\"24px\">\n",
              "    <path d=\"M0 0h24v24H0V0z\" fill=\"none\"/>\n",
              "    <path d=\"M18.56 5.44l.94 2.06.94-2.06 2.06-.94-2.06-.94-.94-2.06-.94 2.06-2.06.94zm-11 1L8.5 8.5l.94-2.06 2.06-.94-2.06-.94L8.5 2.5l-.94 2.06-2.06.94zm10 10l.94 2.06.94-2.06 2.06-.94-2.06-.94-.94-2.06-.94 2.06-2.06.94z\"/><path d=\"M17.41 7.96l-1.37-1.37c-.4-.4-.92-.59-1.43-.59-.52 0-1.04.2-1.43.59L10.3 9.45l-7.72 7.72c-.78.78-.78 2.05 0 2.83L4 21.41c.39.39.9.59 1.41.59.51 0 1.02-.2 1.41-.59l7.78-7.78 2.81-2.81c.8-.78.8-2.07 0-2.86zM5.41 20L4 18.59l7.72-7.72 1.47 1.35L5.41 20z\"/>\n",
              "  </svg>\n",
              "      </button>\n",
              "      \n",
              "  <style>\n",
              "    .colab-df-container {\n",
              "      display:flex;\n",
              "      flex-wrap:wrap;\n",
              "      gap: 12px;\n",
              "    }\n",
              "\n",
              "    .colab-df-convert {\n",
              "      background-color: #E8F0FE;\n",
              "      border: none;\n",
              "      border-radius: 50%;\n",
              "      cursor: pointer;\n",
              "      display: none;\n",
              "      fill: #1967D2;\n",
              "      height: 32px;\n",
              "      padding: 0 0 0 0;\n",
              "      width: 32px;\n",
              "    }\n",
              "\n",
              "    .colab-df-convert:hover {\n",
              "      background-color: #E2EBFA;\n",
              "      box-shadow: 0px 1px 2px rgba(60, 64, 67, 0.3), 0px 1px 3px 1px rgba(60, 64, 67, 0.15);\n",
              "      fill: #174EA6;\n",
              "    }\n",
              "\n",
              "    [theme=dark] .colab-df-convert {\n",
              "      background-color: #3B4455;\n",
              "      fill: #D2E3FC;\n",
              "    }\n",
              "\n",
              "    [theme=dark] .colab-df-convert:hover {\n",
              "      background-color: #434B5C;\n",
              "      box-shadow: 0px 1px 3px 1px rgba(0, 0, 0, 0.15);\n",
              "      filter: drop-shadow(0px 1px 2px rgba(0, 0, 0, 0.3));\n",
              "      fill: #FFFFFF;\n",
              "    }\n",
              "  </style>\n",
              "\n",
              "      <script>\n",
              "        const buttonEl =\n",
              "          document.querySelector('#df-e0d44402-d41e-44ab-b57e-c4ca1b9d72eb button.colab-df-convert');\n",
              "        buttonEl.style.display =\n",
              "          google.colab.kernel.accessAllowed ? 'block' : 'none';\n",
              "\n",
              "        async function convertToInteractive(key) {\n",
              "          const element = document.querySelector('#df-e0d44402-d41e-44ab-b57e-c4ca1b9d72eb');\n",
              "          const dataTable =\n",
              "            await google.colab.kernel.invokeFunction('convertToInteractive',\n",
              "                                                     [key], {});\n",
              "          if (!dataTable) return;\n",
              "\n",
              "          const docLinkHtml = 'Like what you see? Visit the ' +\n",
              "            '<a target=\"_blank\" href=https://colab.research.google.com/notebooks/data_table.ipynb>data table notebook</a>'\n",
              "            + ' to learn more about interactive tables.';\n",
              "          element.innerHTML = '';\n",
              "          dataTable['output_type'] = 'display_data';\n",
              "          await google.colab.output.renderOutput(dataTable, element);\n",
              "          const docLink = document.createElement('div');\n",
              "          docLink.innerHTML = docLinkHtml;\n",
              "          element.appendChild(docLink);\n",
              "        }\n",
              "      </script>\n",
              "    </div>\n",
              "  </div>\n",
              "  "
            ]
          },
          "metadata": {},
          "execution_count": 54
        }
      ],
      "source": [
        "d = {'review': res}\n",
        "df = pd.DataFrame(data=d)\n",
        "df"
      ]
    },
    {
      "cell_type": "code",
      "source": [
        "#Storing review in google drive\n",
        "from google.colab import drive\n",
        "\n",
        "drive.mount('/content/drive')\n",
        "path = '/content/drive/My Drive/output1.csv'\n",
        "\n",
        "with open(path, 'w', encoding = 'utf-8-sig') as f:\n",
        "  df.to_csv(f)"
      ],
      "metadata": {
        "id": "3pPXxgWyVLgd"
      },
      "execution_count": null,
      "outputs": []
    },
    {
      "cell_type": "markdown",
      "metadata": {
        "id": "da29e6ec"
      },
      "source": [
        "## Correcting Spelling"
      ]
    },
    {
      "cell_type": "code",
      "execution_count": 55,
      "metadata": {
        "id": "3f798149"
      },
      "outputs": [],
      "source": [
        "#Install textblob library\n",
        "#!pip install textblob\n",
        "from textblob import TextBlob"
      ]
    },
    {
      "cell_type": "code",
      "execution_count": 56,
      "metadata": {
        "id": "d411a13f",
        "colab": {
          "base_uri": "https://localhost:8080/",
          "height": 423
        },
        "outputId": "e6c08fac-bf76-40e0-d6c7-9db5567bb560"
      },
      "outputs": [
        {
          "output_type": "execute_result",
          "data": {
            "text/plain": [
              "                                               review  \\\n",
              "0   I am a regular guest in Hotel City Centaur, al...   \n",
              "1   Wonderful hospitality, I really appreciate the...   \n",
              "2   Very good experience, good size rooms clean ba...   \n",
              "3   I had a very pleasant experience at Hotel City...   \n",
              "4   Good hospitality, staff will do there best her...   \n",
              "..                                                ...   \n",
              "92  Iwas at bangalore with a group of 45 people in...   \n",
              "93  I have booked this hotel for my family who is ...   \n",
              "94  I was travelling with family in Karnataka and ...   \n",
              "95  This hotel may have, at one point, been grand ...   \n",
              "96  I had an idea that it should be a good hotel. ...   \n",
              "\n",
              "                                           review_old  \n",
              "0   I am a regular guest in Hotel City Centaur, al...  \n",
              "1   Wonderful hospitality, I really appreciate the...  \n",
              "2   Very good experience, good size rooms clean ba...  \n",
              "3   I had a very pleasant experience at Hotel City...  \n",
              "4   Good hospitality, staff will do there best her...  \n",
              "..                                                ...  \n",
              "92  Was at bangalore with a group of 45 people inc...  \n",
              "93  I have booked this hotel for my family who is ...  \n",
              "94  I was travelling with family in Karnataka and ...  \n",
              "95  His hotel may have, at one point, been grand a...  \n",
              "96  I had an idea that it should be a good hotel. ...  \n",
              "\n",
              "[97 rows x 2 columns]"
            ],
            "text/html": [
              "\n",
              "  <div id=\"df-b9b1666d-3883-4ece-adac-944a5673c739\">\n",
              "    <div class=\"colab-df-container\">\n",
              "      <div>\n",
              "<style scoped>\n",
              "    .dataframe tbody tr th:only-of-type {\n",
              "        vertical-align: middle;\n",
              "    }\n",
              "\n",
              "    .dataframe tbody tr th {\n",
              "        vertical-align: top;\n",
              "    }\n",
              "\n",
              "    .dataframe thead th {\n",
              "        text-align: right;\n",
              "    }\n",
              "</style>\n",
              "<table border=\"1\" class=\"dataframe\">\n",
              "  <thead>\n",
              "    <tr style=\"text-align: right;\">\n",
              "      <th></th>\n",
              "      <th>review</th>\n",
              "      <th>review_old</th>\n",
              "    </tr>\n",
              "  </thead>\n",
              "  <tbody>\n",
              "    <tr>\n",
              "      <th>0</th>\n",
              "      <td>I am a regular guest in Hotel City Centaur, al...</td>\n",
              "      <td>I am a regular guest in Hotel City Centaur, al...</td>\n",
              "    </tr>\n",
              "    <tr>\n",
              "      <th>1</th>\n",
              "      <td>Wonderful hospitality, I really appreciate the...</td>\n",
              "      <td>Wonderful hospitality, I really appreciate the...</td>\n",
              "    </tr>\n",
              "    <tr>\n",
              "      <th>2</th>\n",
              "      <td>Very good experience, good size rooms clean ba...</td>\n",
              "      <td>Very good experience, good size rooms clean ba...</td>\n",
              "    </tr>\n",
              "    <tr>\n",
              "      <th>3</th>\n",
              "      <td>I had a very pleasant experience at Hotel City...</td>\n",
              "      <td>I had a very pleasant experience at Hotel City...</td>\n",
              "    </tr>\n",
              "    <tr>\n",
              "      <th>4</th>\n",
              "      <td>Good hospitality, staff will do there best her...</td>\n",
              "      <td>Good hospitality, staff will do there best her...</td>\n",
              "    </tr>\n",
              "    <tr>\n",
              "      <th>...</th>\n",
              "      <td>...</td>\n",
              "      <td>...</td>\n",
              "    </tr>\n",
              "    <tr>\n",
              "      <th>92</th>\n",
              "      <td>Iwas at bangalore with a group of 45 people in...</td>\n",
              "      <td>Was at bangalore with a group of 45 people inc...</td>\n",
              "    </tr>\n",
              "    <tr>\n",
              "      <th>93</th>\n",
              "      <td>I have booked this hotel for my family who is ...</td>\n",
              "      <td>I have booked this hotel for my family who is ...</td>\n",
              "    </tr>\n",
              "    <tr>\n",
              "      <th>94</th>\n",
              "      <td>I was travelling with family in Karnataka and ...</td>\n",
              "      <td>I was travelling with family in Karnataka and ...</td>\n",
              "    </tr>\n",
              "    <tr>\n",
              "      <th>95</th>\n",
              "      <td>This hotel may have, at one point, been grand ...</td>\n",
              "      <td>His hotel may have, at one point, been grand a...</td>\n",
              "    </tr>\n",
              "    <tr>\n",
              "      <th>96</th>\n",
              "      <td>I had an idea that it should be a good hotel. ...</td>\n",
              "      <td>I had an idea that it should be a good hotel. ...</td>\n",
              "    </tr>\n",
              "  </tbody>\n",
              "</table>\n",
              "<p>97 rows × 2 columns</p>\n",
              "</div>\n",
              "      <button class=\"colab-df-convert\" onclick=\"convertToInteractive('df-b9b1666d-3883-4ece-adac-944a5673c739')\"\n",
              "              title=\"Convert this dataframe to an interactive table.\"\n",
              "              style=\"display:none;\">\n",
              "        \n",
              "  <svg xmlns=\"http://www.w3.org/2000/svg\" height=\"24px\"viewBox=\"0 0 24 24\"\n",
              "       width=\"24px\">\n",
              "    <path d=\"M0 0h24v24H0V0z\" fill=\"none\"/>\n",
              "    <path d=\"M18.56 5.44l.94 2.06.94-2.06 2.06-.94-2.06-.94-.94-2.06-.94 2.06-2.06.94zm-11 1L8.5 8.5l.94-2.06 2.06-.94-2.06-.94L8.5 2.5l-.94 2.06-2.06.94zm10 10l.94 2.06.94-2.06 2.06-.94-2.06-.94-.94-2.06-.94 2.06-2.06.94z\"/><path d=\"M17.41 7.96l-1.37-1.37c-.4-.4-.92-.59-1.43-.59-.52 0-1.04.2-1.43.59L10.3 9.45l-7.72 7.72c-.78.78-.78 2.05 0 2.83L4 21.41c.39.39.9.59 1.41.59.51 0 1.02-.2 1.41-.59l7.78-7.78 2.81-2.81c.8-.78.8-2.07 0-2.86zM5.41 20L4 18.59l7.72-7.72 1.47 1.35L5.41 20z\"/>\n",
              "  </svg>\n",
              "      </button>\n",
              "      \n",
              "  <style>\n",
              "    .colab-df-container {\n",
              "      display:flex;\n",
              "      flex-wrap:wrap;\n",
              "      gap: 12px;\n",
              "    }\n",
              "\n",
              "    .colab-df-convert {\n",
              "      background-color: #E8F0FE;\n",
              "      border: none;\n",
              "      border-radius: 50%;\n",
              "      cursor: pointer;\n",
              "      display: none;\n",
              "      fill: #1967D2;\n",
              "      height: 32px;\n",
              "      padding: 0 0 0 0;\n",
              "      width: 32px;\n",
              "    }\n",
              "\n",
              "    .colab-df-convert:hover {\n",
              "      background-color: #E2EBFA;\n",
              "      box-shadow: 0px 1px 2px rgba(60, 64, 67, 0.3), 0px 1px 3px 1px rgba(60, 64, 67, 0.15);\n",
              "      fill: #174EA6;\n",
              "    }\n",
              "\n",
              "    [theme=dark] .colab-df-convert {\n",
              "      background-color: #3B4455;\n",
              "      fill: #D2E3FC;\n",
              "    }\n",
              "\n",
              "    [theme=dark] .colab-df-convert:hover {\n",
              "      background-color: #434B5C;\n",
              "      box-shadow: 0px 1px 3px 1px rgba(0, 0, 0, 0.15);\n",
              "      filter: drop-shadow(0px 1px 2px rgba(0, 0, 0, 0.3));\n",
              "      fill: #FFFFFF;\n",
              "    }\n",
              "  </style>\n",
              "\n",
              "      <script>\n",
              "        const buttonEl =\n",
              "          document.querySelector('#df-b9b1666d-3883-4ece-adac-944a5673c739 button.colab-df-convert');\n",
              "        buttonEl.style.display =\n",
              "          google.colab.kernel.accessAllowed ? 'block' : 'none';\n",
              "\n",
              "        async function convertToInteractive(key) {\n",
              "          const element = document.querySelector('#df-b9b1666d-3883-4ece-adac-944a5673c739');\n",
              "          const dataTable =\n",
              "            await google.colab.kernel.invokeFunction('convertToInteractive',\n",
              "                                                     [key], {});\n",
              "          if (!dataTable) return;\n",
              "\n",
              "          const docLinkHtml = 'Like what you see? Visit the ' +\n",
              "            '<a target=\"_blank\" href=https://colab.research.google.com/notebooks/data_table.ipynb>data table notebook</a>'\n",
              "            + ' to learn more about interactive tables.';\n",
              "          element.innerHTML = '';\n",
              "          dataTable['output_type'] = 'display_data';\n",
              "          await google.colab.output.renderOutput(dataTable, element);\n",
              "          const docLink = document.createElement('div');\n",
              "          docLink.innerHTML = docLinkHtml;\n",
              "          element.appendChild(docLink);\n",
              "        }\n",
              "      </script>\n",
              "    </div>\n",
              "  </div>\n",
              "  "
            ]
          },
          "metadata": {},
          "execution_count": 56
        }
      ],
      "source": [
        "df['review_old'] = df['review'].apply(lambda x: str(TextBlob(x).correct()))\n",
        "df"
      ]
    },
    {
      "cell_type": "markdown",
      "metadata": {
        "id": "58516822"
      },
      "source": [
        "## Lowercase"
      ]
    },
    {
      "cell_type": "code",
      "execution_count": 57,
      "metadata": {
        "id": "14ee40fc",
        "colab": {
          "base_uri": "https://localhost:8080/",
          "height": 423
        },
        "outputId": "e1d5a3a0-fa9f-4b2e-b036-e506f8f14a9f"
      },
      "outputs": [
        {
          "output_type": "execute_result",
          "data": {
            "text/plain": [
              "                                               review  \\\n",
              "0   I am a regular guest in Hotel City Centaur, al...   \n",
              "1   Wonderful hospitality, I really appreciate the...   \n",
              "2   Very good experience, good size rooms clean ba...   \n",
              "3   I had a very pleasant experience at Hotel City...   \n",
              "4   Good hospitality, staff will do there best her...   \n",
              "..                                                ...   \n",
              "92  Iwas at bangalore with a group of 45 people in...   \n",
              "93  I have booked this hotel for my family who is ...   \n",
              "94  I was travelling with family in Karnataka and ...   \n",
              "95  This hotel may have, at one point, been grand ...   \n",
              "96  I had an idea that it should be a good hotel. ...   \n",
              "\n",
              "                                           review_old  \\\n",
              "0   I am a regular guest in Hotel City Centaur, al...   \n",
              "1   Wonderful hospitality, I really appreciate the...   \n",
              "2   Very good experience, good size rooms clean ba...   \n",
              "3   I had a very pleasant experience at Hotel City...   \n",
              "4   Good hospitality, staff will do there best her...   \n",
              "..                                                ...   \n",
              "92  Was at bangalore with a group of 45 people inc...   \n",
              "93  I have booked this hotel for my family who is ...   \n",
              "94  I was travelling with family in Karnataka and ...   \n",
              "95  His hotel may have, at one point, been grand a...   \n",
              "96  I had an idea that it should be a good hotel. ...   \n",
              "\n",
              "                                           review_new  \n",
              "0   i am a regular guest in hotel city centaur, al...  \n",
              "1   wonderful hospitality, i really appreciate the...  \n",
              "2   very good experience, good size rooms clean ba...  \n",
              "3   i had a very pleasant experience at hotel city...  \n",
              "4   good hospitality, staff will do there best her...  \n",
              "..                                                ...  \n",
              "92  was at bangalore with a group of 45 people inc...  \n",
              "93  i have booked this hotel for my family who is ...  \n",
              "94  i was travelling with family in karnataka and ...  \n",
              "95  his hotel may have, at one point, been grand a...  \n",
              "96  i had an idea that it should be a good hotel. ...  \n",
              "\n",
              "[97 rows x 3 columns]"
            ],
            "text/html": [
              "\n",
              "  <div id=\"df-d9e1b470-5a77-4548-ba25-a0c2f5f6327e\">\n",
              "    <div class=\"colab-df-container\">\n",
              "      <div>\n",
              "<style scoped>\n",
              "    .dataframe tbody tr th:only-of-type {\n",
              "        vertical-align: middle;\n",
              "    }\n",
              "\n",
              "    .dataframe tbody tr th {\n",
              "        vertical-align: top;\n",
              "    }\n",
              "\n",
              "    .dataframe thead th {\n",
              "        text-align: right;\n",
              "    }\n",
              "</style>\n",
              "<table border=\"1\" class=\"dataframe\">\n",
              "  <thead>\n",
              "    <tr style=\"text-align: right;\">\n",
              "      <th></th>\n",
              "      <th>review</th>\n",
              "      <th>review_old</th>\n",
              "      <th>review_new</th>\n",
              "    </tr>\n",
              "  </thead>\n",
              "  <tbody>\n",
              "    <tr>\n",
              "      <th>0</th>\n",
              "      <td>I am a regular guest in Hotel City Centaur, al...</td>\n",
              "      <td>I am a regular guest in Hotel City Centaur, al...</td>\n",
              "      <td>i am a regular guest in hotel city centaur, al...</td>\n",
              "    </tr>\n",
              "    <tr>\n",
              "      <th>1</th>\n",
              "      <td>Wonderful hospitality, I really appreciate the...</td>\n",
              "      <td>Wonderful hospitality, I really appreciate the...</td>\n",
              "      <td>wonderful hospitality, i really appreciate the...</td>\n",
              "    </tr>\n",
              "    <tr>\n",
              "      <th>2</th>\n",
              "      <td>Very good experience, good size rooms clean ba...</td>\n",
              "      <td>Very good experience, good size rooms clean ba...</td>\n",
              "      <td>very good experience, good size rooms clean ba...</td>\n",
              "    </tr>\n",
              "    <tr>\n",
              "      <th>3</th>\n",
              "      <td>I had a very pleasant experience at Hotel City...</td>\n",
              "      <td>I had a very pleasant experience at Hotel City...</td>\n",
              "      <td>i had a very pleasant experience at hotel city...</td>\n",
              "    </tr>\n",
              "    <tr>\n",
              "      <th>4</th>\n",
              "      <td>Good hospitality, staff will do there best her...</td>\n",
              "      <td>Good hospitality, staff will do there best her...</td>\n",
              "      <td>good hospitality, staff will do there best her...</td>\n",
              "    </tr>\n",
              "    <tr>\n",
              "      <th>...</th>\n",
              "      <td>...</td>\n",
              "      <td>...</td>\n",
              "      <td>...</td>\n",
              "    </tr>\n",
              "    <tr>\n",
              "      <th>92</th>\n",
              "      <td>Iwas at bangalore with a group of 45 people in...</td>\n",
              "      <td>Was at bangalore with a group of 45 people inc...</td>\n",
              "      <td>was at bangalore with a group of 45 people inc...</td>\n",
              "    </tr>\n",
              "    <tr>\n",
              "      <th>93</th>\n",
              "      <td>I have booked this hotel for my family who is ...</td>\n",
              "      <td>I have booked this hotel for my family who is ...</td>\n",
              "      <td>i have booked this hotel for my family who is ...</td>\n",
              "    </tr>\n",
              "    <tr>\n",
              "      <th>94</th>\n",
              "      <td>I was travelling with family in Karnataka and ...</td>\n",
              "      <td>I was travelling with family in Karnataka and ...</td>\n",
              "      <td>i was travelling with family in karnataka and ...</td>\n",
              "    </tr>\n",
              "    <tr>\n",
              "      <th>95</th>\n",
              "      <td>This hotel may have, at one point, been grand ...</td>\n",
              "      <td>His hotel may have, at one point, been grand a...</td>\n",
              "      <td>his hotel may have, at one point, been grand a...</td>\n",
              "    </tr>\n",
              "    <tr>\n",
              "      <th>96</th>\n",
              "      <td>I had an idea that it should be a good hotel. ...</td>\n",
              "      <td>I had an idea that it should be a good hotel. ...</td>\n",
              "      <td>i had an idea that it should be a good hotel. ...</td>\n",
              "    </tr>\n",
              "  </tbody>\n",
              "</table>\n",
              "<p>97 rows × 3 columns</p>\n",
              "</div>\n",
              "      <button class=\"colab-df-convert\" onclick=\"convertToInteractive('df-d9e1b470-5a77-4548-ba25-a0c2f5f6327e')\"\n",
              "              title=\"Convert this dataframe to an interactive table.\"\n",
              "              style=\"display:none;\">\n",
              "        \n",
              "  <svg xmlns=\"http://www.w3.org/2000/svg\" height=\"24px\"viewBox=\"0 0 24 24\"\n",
              "       width=\"24px\">\n",
              "    <path d=\"M0 0h24v24H0V0z\" fill=\"none\"/>\n",
              "    <path d=\"M18.56 5.44l.94 2.06.94-2.06 2.06-.94-2.06-.94-.94-2.06-.94 2.06-2.06.94zm-11 1L8.5 8.5l.94-2.06 2.06-.94-2.06-.94L8.5 2.5l-.94 2.06-2.06.94zm10 10l.94 2.06.94-2.06 2.06-.94-2.06-.94-.94-2.06-.94 2.06-2.06.94z\"/><path d=\"M17.41 7.96l-1.37-1.37c-.4-.4-.92-.59-1.43-.59-.52 0-1.04.2-1.43.59L10.3 9.45l-7.72 7.72c-.78.78-.78 2.05 0 2.83L4 21.41c.39.39.9.59 1.41.59.51 0 1.02-.2 1.41-.59l7.78-7.78 2.81-2.81c.8-.78.8-2.07 0-2.86zM5.41 20L4 18.59l7.72-7.72 1.47 1.35L5.41 20z\"/>\n",
              "  </svg>\n",
              "      </button>\n",
              "      \n",
              "  <style>\n",
              "    .colab-df-container {\n",
              "      display:flex;\n",
              "      flex-wrap:wrap;\n",
              "      gap: 12px;\n",
              "    }\n",
              "\n",
              "    .colab-df-convert {\n",
              "      background-color: #E8F0FE;\n",
              "      border: none;\n",
              "      border-radius: 50%;\n",
              "      cursor: pointer;\n",
              "      display: none;\n",
              "      fill: #1967D2;\n",
              "      height: 32px;\n",
              "      padding: 0 0 0 0;\n",
              "      width: 32px;\n",
              "    }\n",
              "\n",
              "    .colab-df-convert:hover {\n",
              "      background-color: #E2EBFA;\n",
              "      box-shadow: 0px 1px 2px rgba(60, 64, 67, 0.3), 0px 1px 3px 1px rgba(60, 64, 67, 0.15);\n",
              "      fill: #174EA6;\n",
              "    }\n",
              "\n",
              "    [theme=dark] .colab-df-convert {\n",
              "      background-color: #3B4455;\n",
              "      fill: #D2E3FC;\n",
              "    }\n",
              "\n",
              "    [theme=dark] .colab-df-convert:hover {\n",
              "      background-color: #434B5C;\n",
              "      box-shadow: 0px 1px 3px 1px rgba(0, 0, 0, 0.15);\n",
              "      filter: drop-shadow(0px 1px 2px rgba(0, 0, 0, 0.3));\n",
              "      fill: #FFFFFF;\n",
              "    }\n",
              "  </style>\n",
              "\n",
              "      <script>\n",
              "        const buttonEl =\n",
              "          document.querySelector('#df-d9e1b470-5a77-4548-ba25-a0c2f5f6327e button.colab-df-convert');\n",
              "        buttonEl.style.display =\n",
              "          google.colab.kernel.accessAllowed ? 'block' : 'none';\n",
              "\n",
              "        async function convertToInteractive(key) {\n",
              "          const element = document.querySelector('#df-d9e1b470-5a77-4548-ba25-a0c2f5f6327e');\n",
              "          const dataTable =\n",
              "            await google.colab.kernel.invokeFunction('convertToInteractive',\n",
              "                                                     [key], {});\n",
              "          if (!dataTable) return;\n",
              "\n",
              "          const docLinkHtml = 'Like what you see? Visit the ' +\n",
              "            '<a target=\"_blank\" href=https://colab.research.google.com/notebooks/data_table.ipynb>data table notebook</a>'\n",
              "            + ' to learn more about interactive tables.';\n",
              "          element.innerHTML = '';\n",
              "          dataTable['output_type'] = 'display_data';\n",
              "          await google.colab.output.renderOutput(dataTable, element);\n",
              "          const docLink = document.createElement('div');\n",
              "          docLink.innerHTML = docLinkHtml;\n",
              "          element.appendChild(docLink);\n",
              "        }\n",
              "      </script>\n",
              "    </div>\n",
              "  </div>\n",
              "  "
            ]
          },
          "metadata": {},
          "execution_count": 57
        }
      ],
      "source": [
        "df['review_new'] = df['review_old'].apply(lambda x: \" \".join(x.lower() \n",
        "for x in x.split()))\n",
        "df"
      ]
    },
    {
      "cell_type": "markdown",
      "metadata": {
        "id": "2542486e"
      },
      "source": [
        "## Removing punctuation"
      ]
    },
    {
      "cell_type": "code",
      "execution_count": 58,
      "metadata": {
        "id": "9edd60f5"
      },
      "outputs": [],
      "source": [
        "df['review_old'] = df['review_new']\n",
        "df['review_new'] = df['review_old'].str.replace('[^\\w\\s]',\"\", regex=True)"
      ]
    },
    {
      "cell_type": "code",
      "execution_count": 59,
      "metadata": {
        "id": "6be21294",
        "colab": {
          "base_uri": "https://localhost:8080/",
          "height": 423
        },
        "outputId": "b95ab490-5e79-45e1-d51c-eab985aeeb68"
      },
      "outputs": [
        {
          "output_type": "execute_result",
          "data": {
            "text/plain": [
              "                                               review  \\\n",
              "0   I am a regular guest in Hotel City Centaur, al...   \n",
              "1   Wonderful hospitality, I really appreciate the...   \n",
              "2   Very good experience, good size rooms clean ba...   \n",
              "3   I had a very pleasant experience at Hotel City...   \n",
              "4   Good hospitality, staff will do there best her...   \n",
              "..                                                ...   \n",
              "92  Iwas at bangalore with a group of 45 people in...   \n",
              "93  I have booked this hotel for my family who is ...   \n",
              "94  I was travelling with family in Karnataka and ...   \n",
              "95  This hotel may have, at one point, been grand ...   \n",
              "96  I had an idea that it should be a good hotel. ...   \n",
              "\n",
              "                                           review_old  \\\n",
              "0   i am a regular guest in hotel city centaur, al...   \n",
              "1   wonderful hospitality, i really appreciate the...   \n",
              "2   very good experience, good size rooms clean ba...   \n",
              "3   i had a very pleasant experience at hotel city...   \n",
              "4   good hospitality, staff will do there best her...   \n",
              "..                                                ...   \n",
              "92  was at bangalore with a group of 45 people inc...   \n",
              "93  i have booked this hotel for my family who is ...   \n",
              "94  i was travelling with family in karnataka and ...   \n",
              "95  his hotel may have, at one point, been grand a...   \n",
              "96  i had an idea that it should be a good hotel. ...   \n",
              "\n",
              "                                           review_new  \n",
              "0   i am a regular guest in hotel city centaur all...  \n",
              "1   wonderful hospitality i really appreciate the ...  \n",
              "2   very good experience good size rooms clean bat...  \n",
              "3   i had a very pleasant experience at hotel city...  \n",
              "4   good hospitality staff will do there best here...  \n",
              "..                                                ...  \n",
              "92  was at bangalore with a group of 45 people inc...  \n",
              "93  i have booked this hotel for my family who is ...  \n",
              "94  i was travelling with family in karnataka and ...  \n",
              "95  his hotel may have at one point been grand and...  \n",
              "96  i had an idea that it should be a good hotel b...  \n",
              "\n",
              "[97 rows x 3 columns]"
            ],
            "text/html": [
              "\n",
              "  <div id=\"df-132bec2a-a840-4426-b54a-74f94b8dd16e\">\n",
              "    <div class=\"colab-df-container\">\n",
              "      <div>\n",
              "<style scoped>\n",
              "    .dataframe tbody tr th:only-of-type {\n",
              "        vertical-align: middle;\n",
              "    }\n",
              "\n",
              "    .dataframe tbody tr th {\n",
              "        vertical-align: top;\n",
              "    }\n",
              "\n",
              "    .dataframe thead th {\n",
              "        text-align: right;\n",
              "    }\n",
              "</style>\n",
              "<table border=\"1\" class=\"dataframe\">\n",
              "  <thead>\n",
              "    <tr style=\"text-align: right;\">\n",
              "      <th></th>\n",
              "      <th>review</th>\n",
              "      <th>review_old</th>\n",
              "      <th>review_new</th>\n",
              "    </tr>\n",
              "  </thead>\n",
              "  <tbody>\n",
              "    <tr>\n",
              "      <th>0</th>\n",
              "      <td>I am a regular guest in Hotel City Centaur, al...</td>\n",
              "      <td>i am a regular guest in hotel city centaur, al...</td>\n",
              "      <td>i am a regular guest in hotel city centaur all...</td>\n",
              "    </tr>\n",
              "    <tr>\n",
              "      <th>1</th>\n",
              "      <td>Wonderful hospitality, I really appreciate the...</td>\n",
              "      <td>wonderful hospitality, i really appreciate the...</td>\n",
              "      <td>wonderful hospitality i really appreciate the ...</td>\n",
              "    </tr>\n",
              "    <tr>\n",
              "      <th>2</th>\n",
              "      <td>Very good experience, good size rooms clean ba...</td>\n",
              "      <td>very good experience, good size rooms clean ba...</td>\n",
              "      <td>very good experience good size rooms clean bat...</td>\n",
              "    </tr>\n",
              "    <tr>\n",
              "      <th>3</th>\n",
              "      <td>I had a very pleasant experience at Hotel City...</td>\n",
              "      <td>i had a very pleasant experience at hotel city...</td>\n",
              "      <td>i had a very pleasant experience at hotel city...</td>\n",
              "    </tr>\n",
              "    <tr>\n",
              "      <th>4</th>\n",
              "      <td>Good hospitality, staff will do there best her...</td>\n",
              "      <td>good hospitality, staff will do there best her...</td>\n",
              "      <td>good hospitality staff will do there best here...</td>\n",
              "    </tr>\n",
              "    <tr>\n",
              "      <th>...</th>\n",
              "      <td>...</td>\n",
              "      <td>...</td>\n",
              "      <td>...</td>\n",
              "    </tr>\n",
              "    <tr>\n",
              "      <th>92</th>\n",
              "      <td>Iwas at bangalore with a group of 45 people in...</td>\n",
              "      <td>was at bangalore with a group of 45 people inc...</td>\n",
              "      <td>was at bangalore with a group of 45 people inc...</td>\n",
              "    </tr>\n",
              "    <tr>\n",
              "      <th>93</th>\n",
              "      <td>I have booked this hotel for my family who is ...</td>\n",
              "      <td>i have booked this hotel for my family who is ...</td>\n",
              "      <td>i have booked this hotel for my family who is ...</td>\n",
              "    </tr>\n",
              "    <tr>\n",
              "      <th>94</th>\n",
              "      <td>I was travelling with family in Karnataka and ...</td>\n",
              "      <td>i was travelling with family in karnataka and ...</td>\n",
              "      <td>i was travelling with family in karnataka and ...</td>\n",
              "    </tr>\n",
              "    <tr>\n",
              "      <th>95</th>\n",
              "      <td>This hotel may have, at one point, been grand ...</td>\n",
              "      <td>his hotel may have, at one point, been grand a...</td>\n",
              "      <td>his hotel may have at one point been grand and...</td>\n",
              "    </tr>\n",
              "    <tr>\n",
              "      <th>96</th>\n",
              "      <td>I had an idea that it should be a good hotel. ...</td>\n",
              "      <td>i had an idea that it should be a good hotel. ...</td>\n",
              "      <td>i had an idea that it should be a good hotel b...</td>\n",
              "    </tr>\n",
              "  </tbody>\n",
              "</table>\n",
              "<p>97 rows × 3 columns</p>\n",
              "</div>\n",
              "      <button class=\"colab-df-convert\" onclick=\"convertToInteractive('df-132bec2a-a840-4426-b54a-74f94b8dd16e')\"\n",
              "              title=\"Convert this dataframe to an interactive table.\"\n",
              "              style=\"display:none;\">\n",
              "        \n",
              "  <svg xmlns=\"http://www.w3.org/2000/svg\" height=\"24px\"viewBox=\"0 0 24 24\"\n",
              "       width=\"24px\">\n",
              "    <path d=\"M0 0h24v24H0V0z\" fill=\"none\"/>\n",
              "    <path d=\"M18.56 5.44l.94 2.06.94-2.06 2.06-.94-2.06-.94-.94-2.06-.94 2.06-2.06.94zm-11 1L8.5 8.5l.94-2.06 2.06-.94-2.06-.94L8.5 2.5l-.94 2.06-2.06.94zm10 10l.94 2.06.94-2.06 2.06-.94-2.06-.94-.94-2.06-.94 2.06-2.06.94z\"/><path d=\"M17.41 7.96l-1.37-1.37c-.4-.4-.92-.59-1.43-.59-.52 0-1.04.2-1.43.59L10.3 9.45l-7.72 7.72c-.78.78-.78 2.05 0 2.83L4 21.41c.39.39.9.59 1.41.59.51 0 1.02-.2 1.41-.59l7.78-7.78 2.81-2.81c.8-.78.8-2.07 0-2.86zM5.41 20L4 18.59l7.72-7.72 1.47 1.35L5.41 20z\"/>\n",
              "  </svg>\n",
              "      </button>\n",
              "      \n",
              "  <style>\n",
              "    .colab-df-container {\n",
              "      display:flex;\n",
              "      flex-wrap:wrap;\n",
              "      gap: 12px;\n",
              "    }\n",
              "\n",
              "    .colab-df-convert {\n",
              "      background-color: #E8F0FE;\n",
              "      border: none;\n",
              "      border-radius: 50%;\n",
              "      cursor: pointer;\n",
              "      display: none;\n",
              "      fill: #1967D2;\n",
              "      height: 32px;\n",
              "      padding: 0 0 0 0;\n",
              "      width: 32px;\n",
              "    }\n",
              "\n",
              "    .colab-df-convert:hover {\n",
              "      background-color: #E2EBFA;\n",
              "      box-shadow: 0px 1px 2px rgba(60, 64, 67, 0.3), 0px 1px 3px 1px rgba(60, 64, 67, 0.15);\n",
              "      fill: #174EA6;\n",
              "    }\n",
              "\n",
              "    [theme=dark] .colab-df-convert {\n",
              "      background-color: #3B4455;\n",
              "      fill: #D2E3FC;\n",
              "    }\n",
              "\n",
              "    [theme=dark] .colab-df-convert:hover {\n",
              "      background-color: #434B5C;\n",
              "      box-shadow: 0px 1px 3px 1px rgba(0, 0, 0, 0.15);\n",
              "      filter: drop-shadow(0px 1px 2px rgba(0, 0, 0, 0.3));\n",
              "      fill: #FFFFFF;\n",
              "    }\n",
              "  </style>\n",
              "\n",
              "      <script>\n",
              "        const buttonEl =\n",
              "          document.querySelector('#df-132bec2a-a840-4426-b54a-74f94b8dd16e button.colab-df-convert');\n",
              "        buttonEl.style.display =\n",
              "          google.colab.kernel.accessAllowed ? 'block' : 'none';\n",
              "\n",
              "        async function convertToInteractive(key) {\n",
              "          const element = document.querySelector('#df-132bec2a-a840-4426-b54a-74f94b8dd16e');\n",
              "          const dataTable =\n",
              "            await google.colab.kernel.invokeFunction('convertToInteractive',\n",
              "                                                     [key], {});\n",
              "          if (!dataTable) return;\n",
              "\n",
              "          const docLinkHtml = 'Like what you see? Visit the ' +\n",
              "            '<a target=\"_blank\" href=https://colab.research.google.com/notebooks/data_table.ipynb>data table notebook</a>'\n",
              "            + ' to learn more about interactive tables.';\n",
              "          element.innerHTML = '';\n",
              "          dataTable['output_type'] = 'display_data';\n",
              "          await google.colab.output.renderOutput(dataTable, element);\n",
              "          const docLink = document.createElement('div');\n",
              "          docLink.innerHTML = docLinkHtml;\n",
              "          element.appendChild(docLink);\n",
              "        }\n",
              "      </script>\n",
              "    </div>\n",
              "  </div>\n",
              "  "
            ]
          },
          "metadata": {},
          "execution_count": 59
        }
      ],
      "source": [
        "df"
      ]
    },
    {
      "cell_type": "markdown",
      "metadata": {
        "id": "8ad48d48"
      },
      "source": [
        "## Standardizing text"
      ]
    },
    {
      "cell_type": "code",
      "execution_count": 60,
      "metadata": {
        "id": "2a4583d5"
      },
      "outputs": [],
      "source": [
        "lookup_dict = {'ur':'your', \"u\" : \"you\", \"brb\" : \"be right back\", \"idk\" : \"i do not know\", \"idts\" : \"i do not think so\", \"ig\" : \"i guess\",\n",
        "              \"ttyl\" : \"talk to you later\"}\n",
        "df['review_old'] = df['review_new']"
      ]
    },
    {
      "cell_type": "code",
      "execution_count": 61,
      "metadata": {
        "id": "a542dc3d"
      },
      "outputs": [],
      "source": [
        "for i in range(len(df)):\n",
        "    words = df['review_new'][i].split()\n",
        "    new_text = \" \"\n",
        "    new_words = []\n",
        "    for word in words:\n",
        "        if word in lookup_dict:\n",
        "            word = lookup_dict[word]\n",
        "            new_words.append(word)\n",
        "        else:\n",
        "            new_words.append(word)\n",
        "    new_text = new_text.join(new_words)\n",
        "    df[\"review_new\"][i] = new_text"
      ]
    },
    {
      "cell_type": "code",
      "execution_count": 62,
      "metadata": {
        "id": "9bed4d43",
        "colab": {
          "base_uri": "https://localhost:8080/",
          "height": 423
        },
        "outputId": "8d035325-5aaf-47e9-d47b-6ce98c14b630"
      },
      "outputs": [
        {
          "output_type": "execute_result",
          "data": {
            "text/plain": [
              "                                               review  \\\n",
              "0   I am a regular guest in Hotel City Centaur, al...   \n",
              "1   Wonderful hospitality, I really appreciate the...   \n",
              "2   Very good experience, good size rooms clean ba...   \n",
              "3   I had a very pleasant experience at Hotel City...   \n",
              "4   Good hospitality, staff will do there best her...   \n",
              "..                                                ...   \n",
              "92  Iwas at bangalore with a group of 45 people in...   \n",
              "93  I have booked this hotel for my family who is ...   \n",
              "94  I was travelling with family in Karnataka and ...   \n",
              "95  This hotel may have, at one point, been grand ...   \n",
              "96  I had an idea that it should be a good hotel. ...   \n",
              "\n",
              "                                           review_old  \\\n",
              "0   i am a regular guest in hotel city centaur all...   \n",
              "1   wonderful hospitality i really appreciate the ...   \n",
              "2   very good experience good size rooms clean bat...   \n",
              "3   i had a very pleasant experience at hotel city...   \n",
              "4   good hospitality staff will do there best here...   \n",
              "..                                                ...   \n",
              "92  was at bangalore with a group of 45 people inc...   \n",
              "93  i have booked this hotel for my family who is ...   \n",
              "94  i was travelling with family in karnataka and ...   \n",
              "95  his hotel may have at one point been grand and...   \n",
              "96  i had an idea that it should be a good hotel b...   \n",
              "\n",
              "                                           review_new  \n",
              "0   i am a regular guest in hotel city centaur all...  \n",
              "1   wonderful hospitality i really appreciate the ...  \n",
              "2   very good experience good size rooms clean bat...  \n",
              "3   i had a very pleasant experience at hotel city...  \n",
              "4   good hospitality staff will do there best here...  \n",
              "..                                                ...  \n",
              "92  was at bangalore with a group of 45 people inc...  \n",
              "93  i have booked this hotel for my family who is ...  \n",
              "94  i was travelling with family in karnataka and ...  \n",
              "95  his hotel may have at one point been grand and...  \n",
              "96  i had an idea that it should be a good hotel b...  \n",
              "\n",
              "[97 rows x 3 columns]"
            ],
            "text/html": [
              "\n",
              "  <div id=\"df-fffb98c5-a76d-4003-9c31-f172f1f85781\">\n",
              "    <div class=\"colab-df-container\">\n",
              "      <div>\n",
              "<style scoped>\n",
              "    .dataframe tbody tr th:only-of-type {\n",
              "        vertical-align: middle;\n",
              "    }\n",
              "\n",
              "    .dataframe tbody tr th {\n",
              "        vertical-align: top;\n",
              "    }\n",
              "\n",
              "    .dataframe thead th {\n",
              "        text-align: right;\n",
              "    }\n",
              "</style>\n",
              "<table border=\"1\" class=\"dataframe\">\n",
              "  <thead>\n",
              "    <tr style=\"text-align: right;\">\n",
              "      <th></th>\n",
              "      <th>review</th>\n",
              "      <th>review_old</th>\n",
              "      <th>review_new</th>\n",
              "    </tr>\n",
              "  </thead>\n",
              "  <tbody>\n",
              "    <tr>\n",
              "      <th>0</th>\n",
              "      <td>I am a regular guest in Hotel City Centaur, al...</td>\n",
              "      <td>i am a regular guest in hotel city centaur all...</td>\n",
              "      <td>i am a regular guest in hotel city centaur all...</td>\n",
              "    </tr>\n",
              "    <tr>\n",
              "      <th>1</th>\n",
              "      <td>Wonderful hospitality, I really appreciate the...</td>\n",
              "      <td>wonderful hospitality i really appreciate the ...</td>\n",
              "      <td>wonderful hospitality i really appreciate the ...</td>\n",
              "    </tr>\n",
              "    <tr>\n",
              "      <th>2</th>\n",
              "      <td>Very good experience, good size rooms clean ba...</td>\n",
              "      <td>very good experience good size rooms clean bat...</td>\n",
              "      <td>very good experience good size rooms clean bat...</td>\n",
              "    </tr>\n",
              "    <tr>\n",
              "      <th>3</th>\n",
              "      <td>I had a very pleasant experience at Hotel City...</td>\n",
              "      <td>i had a very pleasant experience at hotel city...</td>\n",
              "      <td>i had a very pleasant experience at hotel city...</td>\n",
              "    </tr>\n",
              "    <tr>\n",
              "      <th>4</th>\n",
              "      <td>Good hospitality, staff will do there best her...</td>\n",
              "      <td>good hospitality staff will do there best here...</td>\n",
              "      <td>good hospitality staff will do there best here...</td>\n",
              "    </tr>\n",
              "    <tr>\n",
              "      <th>...</th>\n",
              "      <td>...</td>\n",
              "      <td>...</td>\n",
              "      <td>...</td>\n",
              "    </tr>\n",
              "    <tr>\n",
              "      <th>92</th>\n",
              "      <td>Iwas at bangalore with a group of 45 people in...</td>\n",
              "      <td>was at bangalore with a group of 45 people inc...</td>\n",
              "      <td>was at bangalore with a group of 45 people inc...</td>\n",
              "    </tr>\n",
              "    <tr>\n",
              "      <th>93</th>\n",
              "      <td>I have booked this hotel for my family who is ...</td>\n",
              "      <td>i have booked this hotel for my family who is ...</td>\n",
              "      <td>i have booked this hotel for my family who is ...</td>\n",
              "    </tr>\n",
              "    <tr>\n",
              "      <th>94</th>\n",
              "      <td>I was travelling with family in Karnataka and ...</td>\n",
              "      <td>i was travelling with family in karnataka and ...</td>\n",
              "      <td>i was travelling with family in karnataka and ...</td>\n",
              "    </tr>\n",
              "    <tr>\n",
              "      <th>95</th>\n",
              "      <td>This hotel may have, at one point, been grand ...</td>\n",
              "      <td>his hotel may have at one point been grand and...</td>\n",
              "      <td>his hotel may have at one point been grand and...</td>\n",
              "    </tr>\n",
              "    <tr>\n",
              "      <th>96</th>\n",
              "      <td>I had an idea that it should be a good hotel. ...</td>\n",
              "      <td>i had an idea that it should be a good hotel b...</td>\n",
              "      <td>i had an idea that it should be a good hotel b...</td>\n",
              "    </tr>\n",
              "  </tbody>\n",
              "</table>\n",
              "<p>97 rows × 3 columns</p>\n",
              "</div>\n",
              "      <button class=\"colab-df-convert\" onclick=\"convertToInteractive('df-fffb98c5-a76d-4003-9c31-f172f1f85781')\"\n",
              "              title=\"Convert this dataframe to an interactive table.\"\n",
              "              style=\"display:none;\">\n",
              "        \n",
              "  <svg xmlns=\"http://www.w3.org/2000/svg\" height=\"24px\"viewBox=\"0 0 24 24\"\n",
              "       width=\"24px\">\n",
              "    <path d=\"M0 0h24v24H0V0z\" fill=\"none\"/>\n",
              "    <path d=\"M18.56 5.44l.94 2.06.94-2.06 2.06-.94-2.06-.94-.94-2.06-.94 2.06-2.06.94zm-11 1L8.5 8.5l.94-2.06 2.06-.94-2.06-.94L8.5 2.5l-.94 2.06-2.06.94zm10 10l.94 2.06.94-2.06 2.06-.94-2.06-.94-.94-2.06-.94 2.06-2.06.94z\"/><path d=\"M17.41 7.96l-1.37-1.37c-.4-.4-.92-.59-1.43-.59-.52 0-1.04.2-1.43.59L10.3 9.45l-7.72 7.72c-.78.78-.78 2.05 0 2.83L4 21.41c.39.39.9.59 1.41.59.51 0 1.02-.2 1.41-.59l7.78-7.78 2.81-2.81c.8-.78.8-2.07 0-2.86zM5.41 20L4 18.59l7.72-7.72 1.47 1.35L5.41 20z\"/>\n",
              "  </svg>\n",
              "      </button>\n",
              "      \n",
              "  <style>\n",
              "    .colab-df-container {\n",
              "      display:flex;\n",
              "      flex-wrap:wrap;\n",
              "      gap: 12px;\n",
              "    }\n",
              "\n",
              "    .colab-df-convert {\n",
              "      background-color: #E8F0FE;\n",
              "      border: none;\n",
              "      border-radius: 50%;\n",
              "      cursor: pointer;\n",
              "      display: none;\n",
              "      fill: #1967D2;\n",
              "      height: 32px;\n",
              "      padding: 0 0 0 0;\n",
              "      width: 32px;\n",
              "    }\n",
              "\n",
              "    .colab-df-convert:hover {\n",
              "      background-color: #E2EBFA;\n",
              "      box-shadow: 0px 1px 2px rgba(60, 64, 67, 0.3), 0px 1px 3px 1px rgba(60, 64, 67, 0.15);\n",
              "      fill: #174EA6;\n",
              "    }\n",
              "\n",
              "    [theme=dark] .colab-df-convert {\n",
              "      background-color: #3B4455;\n",
              "      fill: #D2E3FC;\n",
              "    }\n",
              "\n",
              "    [theme=dark] .colab-df-convert:hover {\n",
              "      background-color: #434B5C;\n",
              "      box-shadow: 0px 1px 3px 1px rgba(0, 0, 0, 0.15);\n",
              "      filter: drop-shadow(0px 1px 2px rgba(0, 0, 0, 0.3));\n",
              "      fill: #FFFFFF;\n",
              "    }\n",
              "  </style>\n",
              "\n",
              "      <script>\n",
              "        const buttonEl =\n",
              "          document.querySelector('#df-fffb98c5-a76d-4003-9c31-f172f1f85781 button.colab-df-convert');\n",
              "        buttonEl.style.display =\n",
              "          google.colab.kernel.accessAllowed ? 'block' : 'none';\n",
              "\n",
              "        async function convertToInteractive(key) {\n",
              "          const element = document.querySelector('#df-fffb98c5-a76d-4003-9c31-f172f1f85781');\n",
              "          const dataTable =\n",
              "            await google.colab.kernel.invokeFunction('convertToInteractive',\n",
              "                                                     [key], {});\n",
              "          if (!dataTable) return;\n",
              "\n",
              "          const docLinkHtml = 'Like what you see? Visit the ' +\n",
              "            '<a target=\"_blank\" href=https://colab.research.google.com/notebooks/data_table.ipynb>data table notebook</a>'\n",
              "            + ' to learn more about interactive tables.';\n",
              "          element.innerHTML = '';\n",
              "          dataTable['output_type'] = 'display_data';\n",
              "          await google.colab.output.renderOutput(dataTable, element);\n",
              "          const docLink = document.createElement('div');\n",
              "          docLink.innerHTML = docLinkHtml;\n",
              "          element.appendChild(docLink);\n",
              "        }\n",
              "      </script>\n",
              "    </div>\n",
              "  </div>\n",
              "  "
            ]
          },
          "metadata": {},
          "execution_count": 62
        }
      ],
      "source": [
        "df"
      ]
    },
    {
      "cell_type": "markdown",
      "metadata": {
        "id": "cb4555ef"
      },
      "source": [
        "## Removing stop words (i, had, with, it)"
      ]
    },
    {
      "cell_type": "code",
      "execution_count": 63,
      "metadata": {
        "id": "bfcc7d44",
        "colab": {
          "base_uri": "https://localhost:8080/"
        },
        "outputId": "262b8e8f-b80e-4af4-9e27-cb2a94af8537"
      },
      "outputs": [
        {
          "output_type": "stream",
          "name": "stdout",
          "text": [
            "[nltk_data] Downloading package stopwords to /root/nltk_data...\n",
            "[nltk_data]   Package stopwords is already up-to-date!\n"
          ]
        }
      ],
      "source": [
        "import nltk\n",
        "nltk.download('stopwords')\n",
        "from nltk.corpus import stopwords"
      ]
    },
    {
      "cell_type": "code",
      "execution_count": 64,
      "metadata": {
        "id": "45ce7ba6"
      },
      "outputs": [],
      "source": [
        "df['review_old'] = df['review_new']\n",
        "\n",
        "#stop = stopwords.words('english')\n",
        "stop = ['i', 'me', 'my', 'myself', 'we', 'our', 'ours', 'ourselves', 'you', \"you're\", \"you've\", \"you'll\", \"you'd\", 'your', 'yours', 'yourself', 'yourselves', 'he', 'him', 'his', 'himself', 'she', \"she's\", 'her', 'hers', 'herself', 'it', \"it's\", 'its', 'itself', 'they', 'them', 'their', 'theirs', 'themselves', 'what', 'which', 'who', 'whom', 'this', 'that', \"that'll\", 'these', 'those', 'am', 'is', 'are', 'was', 'were', 'be', 'been', 'being', 'have', 'has', 'had', 'having', 'do', 'does', 'did', 'doing', 'a', 'an', 'the', 'and', 'but', 'if', 'or', 'because', 'as', 'until', 'while', 'of', 'at', 'by', 'for', 'with', 'about', 'against', 'between', 'into', 'through', 'during', 'before', 'after', 'above', 'below', 'to', 'from', 'up', 'down', 'in', 'out', 'on', 'off', 'over', 'under', 'again', 'further', 'then', 'once', 'here', 'there', 'when', 'where', 'why', 'how', 'all', 'any', 'both', 'each', 'few', 'more', 'most', 'other', 'some', 'such', 'only', 'own', 'same', 'so', 'than', 's', 't', 'can', 'will', 'just', 'should', \"should've\", 'now', 'd', 'll', 'm', 'o', 're', 've', 'y']\n",
        "df['review_new'] = df['review_old'].apply(lambda x: \" \".join(x for x in x.split() if x not in stop))"
      ]
    },
    {
      "cell_type": "code",
      "execution_count": 65,
      "metadata": {
        "id": "cf979e93",
        "colab": {
          "base_uri": "https://localhost:8080/",
          "height": 423
        },
        "outputId": "24e39063-dba4-48c2-c782-9ca08569ca0c"
      },
      "outputs": [
        {
          "output_type": "execute_result",
          "data": {
            "text/plain": [
              "                                               review  \\\n",
              "0   I am a regular guest in Hotel City Centaur, al...   \n",
              "1   Wonderful hospitality, I really appreciate the...   \n",
              "2   Very good experience, good size rooms clean ba...   \n",
              "3   I had a very pleasant experience at Hotel City...   \n",
              "4   Good hospitality, staff will do there best her...   \n",
              "..                                                ...   \n",
              "92  Iwas at bangalore with a group of 45 people in...   \n",
              "93  I have booked this hotel for my family who is ...   \n",
              "94  I was travelling with family in Karnataka and ...   \n",
              "95  This hotel may have, at one point, been grand ...   \n",
              "96  I had an idea that it should be a good hotel. ...   \n",
              "\n",
              "                                           review_old  \\\n",
              "0   i am a regular guest in hotel city centaur all...   \n",
              "1   wonderful hospitality i really appreciate the ...   \n",
              "2   very good experience good size rooms clean bat...   \n",
              "3   i had a very pleasant experience at hotel city...   \n",
              "4   good hospitality staff will do there best here...   \n",
              "..                                                ...   \n",
              "92  was at bangalore with a group of 45 people inc...   \n",
              "93  i have booked this hotel for my family who is ...   \n",
              "94  i was travelling with family in karnataka and ...   \n",
              "95  his hotel may have at one point been grand and...   \n",
              "96  i had an idea that it should be a good hotel b...   \n",
              "\n",
              "                                           review_new  \n",
              "0   regular guest hotel city centaur staff behavio...  \n",
              "1   wonderful hospitality really appreciate staff ...  \n",
              "2   very good experience good size rooms clean bat...  \n",
              "3   very pleasant experience hotel city centaur ho...  \n",
              "4   good hospitality staff best help rooms awesome...  \n",
              "..                                                ...  \n",
              "92  bangalore group 45 people including women atte...  \n",
              "93  booked hotel family visiting bangalore trip un...  \n",
              "94  travelling family karnataka stay bangalore nig...  \n",
              "95  hotel may one point grand worth 3000night no e...  \n",
              "96  idea good hotel building photo send good bu si...  \n",
              "\n",
              "[97 rows x 3 columns]"
            ],
            "text/html": [
              "\n",
              "  <div id=\"df-28e0b500-8ace-450c-9723-a53c71e6a0d1\">\n",
              "    <div class=\"colab-df-container\">\n",
              "      <div>\n",
              "<style scoped>\n",
              "    .dataframe tbody tr th:only-of-type {\n",
              "        vertical-align: middle;\n",
              "    }\n",
              "\n",
              "    .dataframe tbody tr th {\n",
              "        vertical-align: top;\n",
              "    }\n",
              "\n",
              "    .dataframe thead th {\n",
              "        text-align: right;\n",
              "    }\n",
              "</style>\n",
              "<table border=\"1\" class=\"dataframe\">\n",
              "  <thead>\n",
              "    <tr style=\"text-align: right;\">\n",
              "      <th></th>\n",
              "      <th>review</th>\n",
              "      <th>review_old</th>\n",
              "      <th>review_new</th>\n",
              "    </tr>\n",
              "  </thead>\n",
              "  <tbody>\n",
              "    <tr>\n",
              "      <th>0</th>\n",
              "      <td>I am a regular guest in Hotel City Centaur, al...</td>\n",
              "      <td>i am a regular guest in hotel city centaur all...</td>\n",
              "      <td>regular guest hotel city centaur staff behavio...</td>\n",
              "    </tr>\n",
              "    <tr>\n",
              "      <th>1</th>\n",
              "      <td>Wonderful hospitality, I really appreciate the...</td>\n",
              "      <td>wonderful hospitality i really appreciate the ...</td>\n",
              "      <td>wonderful hospitality really appreciate staff ...</td>\n",
              "    </tr>\n",
              "    <tr>\n",
              "      <th>2</th>\n",
              "      <td>Very good experience, good size rooms clean ba...</td>\n",
              "      <td>very good experience good size rooms clean bat...</td>\n",
              "      <td>very good experience good size rooms clean bat...</td>\n",
              "    </tr>\n",
              "    <tr>\n",
              "      <th>3</th>\n",
              "      <td>I had a very pleasant experience at Hotel City...</td>\n",
              "      <td>i had a very pleasant experience at hotel city...</td>\n",
              "      <td>very pleasant experience hotel city centaur ho...</td>\n",
              "    </tr>\n",
              "    <tr>\n",
              "      <th>4</th>\n",
              "      <td>Good hospitality, staff will do there best her...</td>\n",
              "      <td>good hospitality staff will do there best here...</td>\n",
              "      <td>good hospitality staff best help rooms awesome...</td>\n",
              "    </tr>\n",
              "    <tr>\n",
              "      <th>...</th>\n",
              "      <td>...</td>\n",
              "      <td>...</td>\n",
              "      <td>...</td>\n",
              "    </tr>\n",
              "    <tr>\n",
              "      <th>92</th>\n",
              "      <td>Iwas at bangalore with a group of 45 people in...</td>\n",
              "      <td>was at bangalore with a group of 45 people inc...</td>\n",
              "      <td>bangalore group 45 people including women atte...</td>\n",
              "    </tr>\n",
              "    <tr>\n",
              "      <th>93</th>\n",
              "      <td>I have booked this hotel for my family who is ...</td>\n",
              "      <td>i have booked this hotel for my family who is ...</td>\n",
              "      <td>booked hotel family visiting bangalore trip un...</td>\n",
              "    </tr>\n",
              "    <tr>\n",
              "      <th>94</th>\n",
              "      <td>I was travelling with family in Karnataka and ...</td>\n",
              "      <td>i was travelling with family in karnataka and ...</td>\n",
              "      <td>travelling family karnataka stay bangalore nig...</td>\n",
              "    </tr>\n",
              "    <tr>\n",
              "      <th>95</th>\n",
              "      <td>This hotel may have, at one point, been grand ...</td>\n",
              "      <td>his hotel may have at one point been grand and...</td>\n",
              "      <td>hotel may one point grand worth 3000night no e...</td>\n",
              "    </tr>\n",
              "    <tr>\n",
              "      <th>96</th>\n",
              "      <td>I had an idea that it should be a good hotel. ...</td>\n",
              "      <td>i had an idea that it should be a good hotel b...</td>\n",
              "      <td>idea good hotel building photo send good bu si...</td>\n",
              "    </tr>\n",
              "  </tbody>\n",
              "</table>\n",
              "<p>97 rows × 3 columns</p>\n",
              "</div>\n",
              "      <button class=\"colab-df-convert\" onclick=\"convertToInteractive('df-28e0b500-8ace-450c-9723-a53c71e6a0d1')\"\n",
              "              title=\"Convert this dataframe to an interactive table.\"\n",
              "              style=\"display:none;\">\n",
              "        \n",
              "  <svg xmlns=\"http://www.w3.org/2000/svg\" height=\"24px\"viewBox=\"0 0 24 24\"\n",
              "       width=\"24px\">\n",
              "    <path d=\"M0 0h24v24H0V0z\" fill=\"none\"/>\n",
              "    <path d=\"M18.56 5.44l.94 2.06.94-2.06 2.06-.94-2.06-.94-.94-2.06-.94 2.06-2.06.94zm-11 1L8.5 8.5l.94-2.06 2.06-.94-2.06-.94L8.5 2.5l-.94 2.06-2.06.94zm10 10l.94 2.06.94-2.06 2.06-.94-2.06-.94-.94-2.06-.94 2.06-2.06.94z\"/><path d=\"M17.41 7.96l-1.37-1.37c-.4-.4-.92-.59-1.43-.59-.52 0-1.04.2-1.43.59L10.3 9.45l-7.72 7.72c-.78.78-.78 2.05 0 2.83L4 21.41c.39.39.9.59 1.41.59.51 0 1.02-.2 1.41-.59l7.78-7.78 2.81-2.81c.8-.78.8-2.07 0-2.86zM5.41 20L4 18.59l7.72-7.72 1.47 1.35L5.41 20z\"/>\n",
              "  </svg>\n",
              "      </button>\n",
              "      \n",
              "  <style>\n",
              "    .colab-df-container {\n",
              "      display:flex;\n",
              "      flex-wrap:wrap;\n",
              "      gap: 12px;\n",
              "    }\n",
              "\n",
              "    .colab-df-convert {\n",
              "      background-color: #E8F0FE;\n",
              "      border: none;\n",
              "      border-radius: 50%;\n",
              "      cursor: pointer;\n",
              "      display: none;\n",
              "      fill: #1967D2;\n",
              "      height: 32px;\n",
              "      padding: 0 0 0 0;\n",
              "      width: 32px;\n",
              "    }\n",
              "\n",
              "    .colab-df-convert:hover {\n",
              "      background-color: #E2EBFA;\n",
              "      box-shadow: 0px 1px 2px rgba(60, 64, 67, 0.3), 0px 1px 3px 1px rgba(60, 64, 67, 0.15);\n",
              "      fill: #174EA6;\n",
              "    }\n",
              "\n",
              "    [theme=dark] .colab-df-convert {\n",
              "      background-color: #3B4455;\n",
              "      fill: #D2E3FC;\n",
              "    }\n",
              "\n",
              "    [theme=dark] .colab-df-convert:hover {\n",
              "      background-color: #434B5C;\n",
              "      box-shadow: 0px 1px 3px 1px rgba(0, 0, 0, 0.15);\n",
              "      filter: drop-shadow(0px 1px 2px rgba(0, 0, 0, 0.3));\n",
              "      fill: #FFFFFF;\n",
              "    }\n",
              "  </style>\n",
              "\n",
              "      <script>\n",
              "        const buttonEl =\n",
              "          document.querySelector('#df-28e0b500-8ace-450c-9723-a53c71e6a0d1 button.colab-df-convert');\n",
              "        buttonEl.style.display =\n",
              "          google.colab.kernel.accessAllowed ? 'block' : 'none';\n",
              "\n",
              "        async function convertToInteractive(key) {\n",
              "          const element = document.querySelector('#df-28e0b500-8ace-450c-9723-a53c71e6a0d1');\n",
              "          const dataTable =\n",
              "            await google.colab.kernel.invokeFunction('convertToInteractive',\n",
              "                                                     [key], {});\n",
              "          if (!dataTable) return;\n",
              "\n",
              "          const docLinkHtml = 'Like what you see? Visit the ' +\n",
              "            '<a target=\"_blank\" href=https://colab.research.google.com/notebooks/data_table.ipynb>data table notebook</a>'\n",
              "            + ' to learn more about interactive tables.';\n",
              "          element.innerHTML = '';\n",
              "          dataTable['output_type'] = 'display_data';\n",
              "          await google.colab.output.renderOutput(dataTable, element);\n",
              "          const docLink = document.createElement('div');\n",
              "          docLink.innerHTML = docLinkHtml;\n",
              "          element.appendChild(docLink);\n",
              "        }\n",
              "      </script>\n",
              "    </div>\n",
              "  </div>\n",
              "  "
            ]
          },
          "metadata": {},
          "execution_count": 65
        }
      ],
      "source": [
        "df"
      ]
    },
    {
      "cell_type": "markdown",
      "source": [
        "# Lemmatizing"
      ],
      "metadata": {
        "id": "G1KbaBG1EF_e"
      }
    },
    {
      "cell_type": "code",
      "source": [
        "df['review_old'] = df['review_new']\n",
        "import spacy\n",
        "nlp = spacy.load('en')\n",
        "for i in range(len(df)):\n",
        "  doc = nlp(df['review_old'][i])\n",
        "  new_text = \" \"\n",
        "  new_words = []\n",
        "  for token in doc:\n",
        "    if token.lemma_ == '-PRON-':\n",
        "      token.lemma_ = token.orth_\n",
        "    word = token.lemma_\n",
        "    new_words.append(word)\n",
        "  new_text = new_text.join(new_words)\n",
        "  df[\"review_new\"][i] = new_text"
      ],
      "metadata": {
        "id": "HqmI3a-tMMpb"
      },
      "execution_count": 66,
      "outputs": []
    },
    {
      "cell_type": "code",
      "source": [
        "print(df['review_old'][4])\n",
        "print(df['review_new'][4])"
      ],
      "metadata": {
        "id": "fOYeaedYIwhy",
        "colab": {
          "base_uri": "https://localhost:8080/"
        },
        "outputId": "54bc595e-a9e4-4e3e-bf28-b28e1efbacff"
      },
      "execution_count": 67,
      "outputs": [
        {
          "output_type": "stream",
          "name": "stdout",
          "text": [
            "good hospitality staff best help rooms awesome very maintained looks newly renovated vocation close railway station opposite retro station service good bathroom clean very comfortable stay\n",
            "good hospitality staff good help room awesome very maintain look newly renovate vocation close railway station opposite retro station service good bathroom clean very comfortable stay\n"
          ]
        }
      ]
    },
    {
      "cell_type": "code",
      "source": [
        "df"
      ],
      "metadata": {
        "id": "DVd-SvITItIU",
        "colab": {
          "base_uri": "https://localhost:8080/",
          "height": 423
        },
        "outputId": "e976196e-4f8f-430a-f181-ce5d71348f6e"
      },
      "execution_count": 68,
      "outputs": [
        {
          "output_type": "execute_result",
          "data": {
            "text/plain": [
              "                                               review  \\\n",
              "0   I am a regular guest in Hotel City Centaur, al...   \n",
              "1   Wonderful hospitality, I really appreciate the...   \n",
              "2   Very good experience, good size rooms clean ba...   \n",
              "3   I had a very pleasant experience at Hotel City...   \n",
              "4   Good hospitality, staff will do there best her...   \n",
              "..                                                ...   \n",
              "92  Iwas at bangalore with a group of 45 people in...   \n",
              "93  I have booked this hotel for my family who is ...   \n",
              "94  I was travelling with family in Karnataka and ...   \n",
              "95  This hotel may have, at one point, been grand ...   \n",
              "96  I had an idea that it should be a good hotel. ...   \n",
              "\n",
              "                                           review_old  \\\n",
              "0   regular guest hotel city centaur staff behavio...   \n",
              "1   wonderful hospitality really appreciate staff ...   \n",
              "2   very good experience good size rooms clean bat...   \n",
              "3   very pleasant experience hotel city centaur ho...   \n",
              "4   good hospitality staff best help rooms awesome...   \n",
              "..                                                ...   \n",
              "92  bangalore group 45 people including women atte...   \n",
              "93  booked hotel family visiting bangalore trip un...   \n",
              "94  travelling family karnataka stay bangalore nig...   \n",
              "95  hotel may one point grand worth 3000night no e...   \n",
              "96  idea good hotel building photo send good bu si...   \n",
              "\n",
              "                                           review_new  \n",
              "0   regular guest hotel city centaur staff behavio...  \n",
              "1   wonderful hospitality really appreciate staff ...  \n",
              "2   very good experience good size room clean bath...  \n",
              "3   very pleasant experience hotel city centaur ho...  \n",
              "4   good hospitality staff good help room awesome ...  \n",
              "..                                                ...  \n",
              "92  bangalore group 45 people include woman attend...  \n",
              "93  book hotel family visit bangalore trip unfortu...  \n",
              "94  travel family karnataka stay bangalore night a...  \n",
              "95  hotel may one point grand worth 3000night no e...  \n",
              "96  idea good hotel building photo send good bu si...  \n",
              "\n",
              "[97 rows x 3 columns]"
            ],
            "text/html": [
              "\n",
              "  <div id=\"df-0a274cb3-fac6-42aa-9c5c-5a7b2686cf9a\">\n",
              "    <div class=\"colab-df-container\">\n",
              "      <div>\n",
              "<style scoped>\n",
              "    .dataframe tbody tr th:only-of-type {\n",
              "        vertical-align: middle;\n",
              "    }\n",
              "\n",
              "    .dataframe tbody tr th {\n",
              "        vertical-align: top;\n",
              "    }\n",
              "\n",
              "    .dataframe thead th {\n",
              "        text-align: right;\n",
              "    }\n",
              "</style>\n",
              "<table border=\"1\" class=\"dataframe\">\n",
              "  <thead>\n",
              "    <tr style=\"text-align: right;\">\n",
              "      <th></th>\n",
              "      <th>review</th>\n",
              "      <th>review_old</th>\n",
              "      <th>review_new</th>\n",
              "    </tr>\n",
              "  </thead>\n",
              "  <tbody>\n",
              "    <tr>\n",
              "      <th>0</th>\n",
              "      <td>I am a regular guest in Hotel City Centaur, al...</td>\n",
              "      <td>regular guest hotel city centaur staff behavio...</td>\n",
              "      <td>regular guest hotel city centaur staff behavio...</td>\n",
              "    </tr>\n",
              "    <tr>\n",
              "      <th>1</th>\n",
              "      <td>Wonderful hospitality, I really appreciate the...</td>\n",
              "      <td>wonderful hospitality really appreciate staff ...</td>\n",
              "      <td>wonderful hospitality really appreciate staff ...</td>\n",
              "    </tr>\n",
              "    <tr>\n",
              "      <th>2</th>\n",
              "      <td>Very good experience, good size rooms clean ba...</td>\n",
              "      <td>very good experience good size rooms clean bat...</td>\n",
              "      <td>very good experience good size room clean bath...</td>\n",
              "    </tr>\n",
              "    <tr>\n",
              "      <th>3</th>\n",
              "      <td>I had a very pleasant experience at Hotel City...</td>\n",
              "      <td>very pleasant experience hotel city centaur ho...</td>\n",
              "      <td>very pleasant experience hotel city centaur ho...</td>\n",
              "    </tr>\n",
              "    <tr>\n",
              "      <th>4</th>\n",
              "      <td>Good hospitality, staff will do there best her...</td>\n",
              "      <td>good hospitality staff best help rooms awesome...</td>\n",
              "      <td>good hospitality staff good help room awesome ...</td>\n",
              "    </tr>\n",
              "    <tr>\n",
              "      <th>...</th>\n",
              "      <td>...</td>\n",
              "      <td>...</td>\n",
              "      <td>...</td>\n",
              "    </tr>\n",
              "    <tr>\n",
              "      <th>92</th>\n",
              "      <td>Iwas at bangalore with a group of 45 people in...</td>\n",
              "      <td>bangalore group 45 people including women atte...</td>\n",
              "      <td>bangalore group 45 people include woman attend...</td>\n",
              "    </tr>\n",
              "    <tr>\n",
              "      <th>93</th>\n",
              "      <td>I have booked this hotel for my family who is ...</td>\n",
              "      <td>booked hotel family visiting bangalore trip un...</td>\n",
              "      <td>book hotel family visit bangalore trip unfortu...</td>\n",
              "    </tr>\n",
              "    <tr>\n",
              "      <th>94</th>\n",
              "      <td>I was travelling with family in Karnataka and ...</td>\n",
              "      <td>travelling family karnataka stay bangalore nig...</td>\n",
              "      <td>travel family karnataka stay bangalore night a...</td>\n",
              "    </tr>\n",
              "    <tr>\n",
              "      <th>95</th>\n",
              "      <td>This hotel may have, at one point, been grand ...</td>\n",
              "      <td>hotel may one point grand worth 3000night no e...</td>\n",
              "      <td>hotel may one point grand worth 3000night no e...</td>\n",
              "    </tr>\n",
              "    <tr>\n",
              "      <th>96</th>\n",
              "      <td>I had an idea that it should be a good hotel. ...</td>\n",
              "      <td>idea good hotel building photo send good bu si...</td>\n",
              "      <td>idea good hotel building photo send good bu si...</td>\n",
              "    </tr>\n",
              "  </tbody>\n",
              "</table>\n",
              "<p>97 rows × 3 columns</p>\n",
              "</div>\n",
              "      <button class=\"colab-df-convert\" onclick=\"convertToInteractive('df-0a274cb3-fac6-42aa-9c5c-5a7b2686cf9a')\"\n",
              "              title=\"Convert this dataframe to an interactive table.\"\n",
              "              style=\"display:none;\">\n",
              "        \n",
              "  <svg xmlns=\"http://www.w3.org/2000/svg\" height=\"24px\"viewBox=\"0 0 24 24\"\n",
              "       width=\"24px\">\n",
              "    <path d=\"M0 0h24v24H0V0z\" fill=\"none\"/>\n",
              "    <path d=\"M18.56 5.44l.94 2.06.94-2.06 2.06-.94-2.06-.94-.94-2.06-.94 2.06-2.06.94zm-11 1L8.5 8.5l.94-2.06 2.06-.94-2.06-.94L8.5 2.5l-.94 2.06-2.06.94zm10 10l.94 2.06.94-2.06 2.06-.94-2.06-.94-.94-2.06-.94 2.06-2.06.94z\"/><path d=\"M17.41 7.96l-1.37-1.37c-.4-.4-.92-.59-1.43-.59-.52 0-1.04.2-1.43.59L10.3 9.45l-7.72 7.72c-.78.78-.78 2.05 0 2.83L4 21.41c.39.39.9.59 1.41.59.51 0 1.02-.2 1.41-.59l7.78-7.78 2.81-2.81c.8-.78.8-2.07 0-2.86zM5.41 20L4 18.59l7.72-7.72 1.47 1.35L5.41 20z\"/>\n",
              "  </svg>\n",
              "      </button>\n",
              "      \n",
              "  <style>\n",
              "    .colab-df-container {\n",
              "      display:flex;\n",
              "      flex-wrap:wrap;\n",
              "      gap: 12px;\n",
              "    }\n",
              "\n",
              "    .colab-df-convert {\n",
              "      background-color: #E8F0FE;\n",
              "      border: none;\n",
              "      border-radius: 50%;\n",
              "      cursor: pointer;\n",
              "      display: none;\n",
              "      fill: #1967D2;\n",
              "      height: 32px;\n",
              "      padding: 0 0 0 0;\n",
              "      width: 32px;\n",
              "    }\n",
              "\n",
              "    .colab-df-convert:hover {\n",
              "      background-color: #E2EBFA;\n",
              "      box-shadow: 0px 1px 2px rgba(60, 64, 67, 0.3), 0px 1px 3px 1px rgba(60, 64, 67, 0.15);\n",
              "      fill: #174EA6;\n",
              "    }\n",
              "\n",
              "    [theme=dark] .colab-df-convert {\n",
              "      background-color: #3B4455;\n",
              "      fill: #D2E3FC;\n",
              "    }\n",
              "\n",
              "    [theme=dark] .colab-df-convert:hover {\n",
              "      background-color: #434B5C;\n",
              "      box-shadow: 0px 1px 3px 1px rgba(0, 0, 0, 0.15);\n",
              "      filter: drop-shadow(0px 1px 2px rgba(0, 0, 0, 0.3));\n",
              "      fill: #FFFFFF;\n",
              "    }\n",
              "  </style>\n",
              "\n",
              "      <script>\n",
              "        const buttonEl =\n",
              "          document.querySelector('#df-0a274cb3-fac6-42aa-9c5c-5a7b2686cf9a button.colab-df-convert');\n",
              "        buttonEl.style.display =\n",
              "          google.colab.kernel.accessAllowed ? 'block' : 'none';\n",
              "\n",
              "        async function convertToInteractive(key) {\n",
              "          const element = document.querySelector('#df-0a274cb3-fac6-42aa-9c5c-5a7b2686cf9a');\n",
              "          const dataTable =\n",
              "            await google.colab.kernel.invokeFunction('convertToInteractive',\n",
              "                                                     [key], {});\n",
              "          if (!dataTable) return;\n",
              "\n",
              "          const docLinkHtml = 'Like what you see? Visit the ' +\n",
              "            '<a target=\"_blank\" href=https://colab.research.google.com/notebooks/data_table.ipynb>data table notebook</a>'\n",
              "            + ' to learn more about interactive tables.';\n",
              "          element.innerHTML = '';\n",
              "          dataTable['output_type'] = 'display_data';\n",
              "          await google.colab.output.renderOutput(dataTable, element);\n",
              "          const docLink = document.createElement('div');\n",
              "          docLink.innerHTML = docLinkHtml;\n",
              "          element.appendChild(docLink);\n",
              "        }\n",
              "      </script>\n",
              "    </div>\n",
              "  </div>\n",
              "  "
            ]
          },
          "metadata": {},
          "execution_count": 68
        }
      ]
    },
    {
      "cell_type": "markdown",
      "metadata": {
        "id": "f0654fe1"
      },
      "source": [
        "## Tokenizing Text"
      ]
    },
    {
      "cell_type": "code",
      "execution_count": 69,
      "metadata": {
        "id": "648282ff",
        "colab": {
          "base_uri": "https://localhost:8080/"
        },
        "outputId": "64b7b74e-ba0e-4804-be0d-0d274e302af9"
      },
      "outputs": [
        {
          "output_type": "stream",
          "name": "stdout",
          "text": [
            "[nltk_data] Downloading package punkt to /root/nltk_data...\n",
            "[nltk_data]   Package punkt is already up-to-date!\n"
          ]
        },
        {
          "output_type": "execute_result",
          "data": {
            "text/plain": [
              "True"
            ]
          },
          "metadata": {},
          "execution_count": 69
        }
      ],
      "source": [
        "import nltk\n",
        "nltk.download('punkt')"
      ]
    },
    {
      "cell_type": "code",
      "source": [
        "df['review_old'] = df['review_new']"
      ],
      "metadata": {
        "id": "bk-p3mAmBiwG"
      },
      "execution_count": 70,
      "outputs": []
    },
    {
      "cell_type": "code",
      "source": [
        "for i in range(len(df)):\n",
        "  df['review_new'][i] = nltk.word_tokenize(df['review_old'][i])"
      ],
      "metadata": {
        "id": "qiIffHWwBD7o"
      },
      "execution_count": 71,
      "outputs": []
    },
    {
      "cell_type": "code",
      "source": [
        "df"
      ],
      "metadata": {
        "id": "ngisHpA3CEXe",
        "colab": {
          "base_uri": "https://localhost:8080/",
          "height": 423
        },
        "outputId": "32348daf-bfa8-4881-bf6a-2df5b38aafa0"
      },
      "execution_count": 72,
      "outputs": [
        {
          "output_type": "execute_result",
          "data": {
            "text/plain": [
              "                                               review  \\\n",
              "0   I am a regular guest in Hotel City Centaur, al...   \n",
              "1   Wonderful hospitality, I really appreciate the...   \n",
              "2   Very good experience, good size rooms clean ba...   \n",
              "3   I had a very pleasant experience at Hotel City...   \n",
              "4   Good hospitality, staff will do there best her...   \n",
              "..                                                ...   \n",
              "92  Iwas at bangalore with a group of 45 people in...   \n",
              "93  I have booked this hotel for my family who is ...   \n",
              "94  I was travelling with family in Karnataka and ...   \n",
              "95  This hotel may have, at one point, been grand ...   \n",
              "96  I had an idea that it should be a good hotel. ...   \n",
              "\n",
              "                                           review_old  \\\n",
              "0   regular guest hotel city centaur staff behavio...   \n",
              "1   wonderful hospitality really appreciate staff ...   \n",
              "2   very good experience good size room clean bath...   \n",
              "3   very pleasant experience hotel city centaur ho...   \n",
              "4   good hospitality staff good help room awesome ...   \n",
              "..                                                ...   \n",
              "92  bangalore group 45 people include woman attend...   \n",
              "93  book hotel family visit bangalore trip unfortu...   \n",
              "94  travel family karnataka stay bangalore night a...   \n",
              "95  hotel may one point grand worth 3000night no e...   \n",
              "96  idea good hotel building photo send good bu si...   \n",
              "\n",
              "                                           review_new  \n",
              "0   [regular, guest, hotel, city, centaur, staff, ...  \n",
              "1   [wonderful, hospitality, really, appreciate, s...  \n",
              "2   [very, good, experience, good, size, room, cle...  \n",
              "3   [very, pleasant, experience, hotel, city, cent...  \n",
              "4   [good, hospitality, staff, good, help, room, a...  \n",
              "..                                                ...  \n",
              "92  [bangalore, group, 45, people, include, woman,...  \n",
              "93  [book, hotel, family, visit, bangalore, trip, ...  \n",
              "94  [travel, family, karnataka, stay, bangalore, n...  \n",
              "95  [hotel, may, one, point, grand, worth, 3000nig...  \n",
              "96  [idea, good, hotel, building, photo, send, goo...  \n",
              "\n",
              "[97 rows x 3 columns]"
            ],
            "text/html": [
              "\n",
              "  <div id=\"df-d1858924-f48c-4480-9f58-8e3182e474de\">\n",
              "    <div class=\"colab-df-container\">\n",
              "      <div>\n",
              "<style scoped>\n",
              "    .dataframe tbody tr th:only-of-type {\n",
              "        vertical-align: middle;\n",
              "    }\n",
              "\n",
              "    .dataframe tbody tr th {\n",
              "        vertical-align: top;\n",
              "    }\n",
              "\n",
              "    .dataframe thead th {\n",
              "        text-align: right;\n",
              "    }\n",
              "</style>\n",
              "<table border=\"1\" class=\"dataframe\">\n",
              "  <thead>\n",
              "    <tr style=\"text-align: right;\">\n",
              "      <th></th>\n",
              "      <th>review</th>\n",
              "      <th>review_old</th>\n",
              "      <th>review_new</th>\n",
              "    </tr>\n",
              "  </thead>\n",
              "  <tbody>\n",
              "    <tr>\n",
              "      <th>0</th>\n",
              "      <td>I am a regular guest in Hotel City Centaur, al...</td>\n",
              "      <td>regular guest hotel city centaur staff behavio...</td>\n",
              "      <td>[regular, guest, hotel, city, centaur, staff, ...</td>\n",
              "    </tr>\n",
              "    <tr>\n",
              "      <th>1</th>\n",
              "      <td>Wonderful hospitality, I really appreciate the...</td>\n",
              "      <td>wonderful hospitality really appreciate staff ...</td>\n",
              "      <td>[wonderful, hospitality, really, appreciate, s...</td>\n",
              "    </tr>\n",
              "    <tr>\n",
              "      <th>2</th>\n",
              "      <td>Very good experience, good size rooms clean ba...</td>\n",
              "      <td>very good experience good size room clean bath...</td>\n",
              "      <td>[very, good, experience, good, size, room, cle...</td>\n",
              "    </tr>\n",
              "    <tr>\n",
              "      <th>3</th>\n",
              "      <td>I had a very pleasant experience at Hotel City...</td>\n",
              "      <td>very pleasant experience hotel city centaur ho...</td>\n",
              "      <td>[very, pleasant, experience, hotel, city, cent...</td>\n",
              "    </tr>\n",
              "    <tr>\n",
              "      <th>4</th>\n",
              "      <td>Good hospitality, staff will do there best her...</td>\n",
              "      <td>good hospitality staff good help room awesome ...</td>\n",
              "      <td>[good, hospitality, staff, good, help, room, a...</td>\n",
              "    </tr>\n",
              "    <tr>\n",
              "      <th>...</th>\n",
              "      <td>...</td>\n",
              "      <td>...</td>\n",
              "      <td>...</td>\n",
              "    </tr>\n",
              "    <tr>\n",
              "      <th>92</th>\n",
              "      <td>Iwas at bangalore with a group of 45 people in...</td>\n",
              "      <td>bangalore group 45 people include woman attend...</td>\n",
              "      <td>[bangalore, group, 45, people, include, woman,...</td>\n",
              "    </tr>\n",
              "    <tr>\n",
              "      <th>93</th>\n",
              "      <td>I have booked this hotel for my family who is ...</td>\n",
              "      <td>book hotel family visit bangalore trip unfortu...</td>\n",
              "      <td>[book, hotel, family, visit, bangalore, trip, ...</td>\n",
              "    </tr>\n",
              "    <tr>\n",
              "      <th>94</th>\n",
              "      <td>I was travelling with family in Karnataka and ...</td>\n",
              "      <td>travel family karnataka stay bangalore night a...</td>\n",
              "      <td>[travel, family, karnataka, stay, bangalore, n...</td>\n",
              "    </tr>\n",
              "    <tr>\n",
              "      <th>95</th>\n",
              "      <td>This hotel may have, at one point, been grand ...</td>\n",
              "      <td>hotel may one point grand worth 3000night no e...</td>\n",
              "      <td>[hotel, may, one, point, grand, worth, 3000nig...</td>\n",
              "    </tr>\n",
              "    <tr>\n",
              "      <th>96</th>\n",
              "      <td>I had an idea that it should be a good hotel. ...</td>\n",
              "      <td>idea good hotel building photo send good bu si...</td>\n",
              "      <td>[idea, good, hotel, building, photo, send, goo...</td>\n",
              "    </tr>\n",
              "  </tbody>\n",
              "</table>\n",
              "<p>97 rows × 3 columns</p>\n",
              "</div>\n",
              "      <button class=\"colab-df-convert\" onclick=\"convertToInteractive('df-d1858924-f48c-4480-9f58-8e3182e474de')\"\n",
              "              title=\"Convert this dataframe to an interactive table.\"\n",
              "              style=\"display:none;\">\n",
              "        \n",
              "  <svg xmlns=\"http://www.w3.org/2000/svg\" height=\"24px\"viewBox=\"0 0 24 24\"\n",
              "       width=\"24px\">\n",
              "    <path d=\"M0 0h24v24H0V0z\" fill=\"none\"/>\n",
              "    <path d=\"M18.56 5.44l.94 2.06.94-2.06 2.06-.94-2.06-.94-.94-2.06-.94 2.06-2.06.94zm-11 1L8.5 8.5l.94-2.06 2.06-.94-2.06-.94L8.5 2.5l-.94 2.06-2.06.94zm10 10l.94 2.06.94-2.06 2.06-.94-2.06-.94-.94-2.06-.94 2.06-2.06.94z\"/><path d=\"M17.41 7.96l-1.37-1.37c-.4-.4-.92-.59-1.43-.59-.52 0-1.04.2-1.43.59L10.3 9.45l-7.72 7.72c-.78.78-.78 2.05 0 2.83L4 21.41c.39.39.9.59 1.41.59.51 0 1.02-.2 1.41-.59l7.78-7.78 2.81-2.81c.8-.78.8-2.07 0-2.86zM5.41 20L4 18.59l7.72-7.72 1.47 1.35L5.41 20z\"/>\n",
              "  </svg>\n",
              "      </button>\n",
              "      \n",
              "  <style>\n",
              "    .colab-df-container {\n",
              "      display:flex;\n",
              "      flex-wrap:wrap;\n",
              "      gap: 12px;\n",
              "    }\n",
              "\n",
              "    .colab-df-convert {\n",
              "      background-color: #E8F0FE;\n",
              "      border: none;\n",
              "      border-radius: 50%;\n",
              "      cursor: pointer;\n",
              "      display: none;\n",
              "      fill: #1967D2;\n",
              "      height: 32px;\n",
              "      padding: 0 0 0 0;\n",
              "      width: 32px;\n",
              "    }\n",
              "\n",
              "    .colab-df-convert:hover {\n",
              "      background-color: #E2EBFA;\n",
              "      box-shadow: 0px 1px 2px rgba(60, 64, 67, 0.3), 0px 1px 3px 1px rgba(60, 64, 67, 0.15);\n",
              "      fill: #174EA6;\n",
              "    }\n",
              "\n",
              "    [theme=dark] .colab-df-convert {\n",
              "      background-color: #3B4455;\n",
              "      fill: #D2E3FC;\n",
              "    }\n",
              "\n",
              "    [theme=dark] .colab-df-convert:hover {\n",
              "      background-color: #434B5C;\n",
              "      box-shadow: 0px 1px 3px 1px rgba(0, 0, 0, 0.15);\n",
              "      filter: drop-shadow(0px 1px 2px rgba(0, 0, 0, 0.3));\n",
              "      fill: #FFFFFF;\n",
              "    }\n",
              "  </style>\n",
              "\n",
              "      <script>\n",
              "        const buttonEl =\n",
              "          document.querySelector('#df-d1858924-f48c-4480-9f58-8e3182e474de button.colab-df-convert');\n",
              "        buttonEl.style.display =\n",
              "          google.colab.kernel.accessAllowed ? 'block' : 'none';\n",
              "\n",
              "        async function convertToInteractive(key) {\n",
              "          const element = document.querySelector('#df-d1858924-f48c-4480-9f58-8e3182e474de');\n",
              "          const dataTable =\n",
              "            await google.colab.kernel.invokeFunction('convertToInteractive',\n",
              "                                                     [key], {});\n",
              "          if (!dataTable) return;\n",
              "\n",
              "          const docLinkHtml = 'Like what you see? Visit the ' +\n",
              "            '<a target=\"_blank\" href=https://colab.research.google.com/notebooks/data_table.ipynb>data table notebook</a>'\n",
              "            + ' to learn more about interactive tables.';\n",
              "          element.innerHTML = '';\n",
              "          dataTable['output_type'] = 'display_data';\n",
              "          await google.colab.output.renderOutput(dataTable, element);\n",
              "          const docLink = document.createElement('div');\n",
              "          docLink.innerHTML = docLinkHtml;\n",
              "          element.appendChild(docLink);\n",
              "        }\n",
              "      </script>\n",
              "    </div>\n",
              "  </div>\n",
              "  "
            ]
          },
          "metadata": {},
          "execution_count": 72
        }
      ]
    },
    {
      "cell_type": "markdown",
      "source": [
        "# Analysis"
      ],
      "metadata": {
        "id": "vadrFbQxP8Gr"
      }
    },
    {
      "cell_type": "markdown",
      "source": [
        "## Example 1 (Positive Review)"
      ],
      "metadata": {
        "id": "yNwFOXyGWquL"
      }
    },
    {
      "cell_type": "code",
      "source": [
        "#import libraries\n",
        "from textblob import TextBlob\n",
        "#TextBlob has a pre trained sentiment prediction model\n",
        "blob = TextBlob(df['review_old'][5])\n",
        "blob.sentiment"
      ],
      "metadata": {
        "id": "0Y_pLcqVOBom",
        "colab": {
          "base_uri": "https://localhost:8080/"
        },
        "outputId": "20314388-1f54-41ff-f880-ae11da6ffc41"
      },
      "execution_count": 73,
      "outputs": [
        {
          "output_type": "execute_result",
          "data": {
            "text/plain": [
              "Sentiment(polarity=0.48, subjectivity=0.6575)"
            ]
          },
          "metadata": {},
          "execution_count": 73
        }
      ]
    },
    {
      "cell_type": "code",
      "source": [
        "df['review_old'][5]"
      ],
      "metadata": {
        "id": "KgqkQc3MQFZt",
        "colab": {
          "base_uri": "https://localhost:8080/",
          "height": 53
        },
        "outputId": "f81eabef-5f9c-411b-dca1-d51ac39556c7"
      },
      "execution_count": 74,
      "outputs": [
        {
          "output_type": "execute_result",
          "data": {
            "text/plain": [
              "'celebrated friend wedding facility really nice food very good staff courteous arrangement very professionally do decoration beautiful enjoy stay big room accommodate unto 6 people thank service'"
            ],
            "application/vnd.google.colaboratory.intrinsic+json": {
              "type": "string"
            }
          },
          "metadata": {},
          "execution_count": 74
        }
      ]
    },
    {
      "cell_type": "markdown",
      "source": [
        "## Example 2 (Negative Review)"
      ],
      "metadata": {
        "id": "dfrYJKlEWtKv"
      }
    },
    {
      "cell_type": "code",
      "source": [
        "#import libraries\n",
        "from textblob import TextBlob\n",
        "#TextBlob has a pre trained sentiment prediction model\n",
        "blob = TextBlob(df['review_old'][45])\n",
        "blob.sentiment"
      ],
      "metadata": {
        "id": "G_RAufPiWo05",
        "colab": {
          "base_uri": "https://localhost:8080/"
        },
        "outputId": "7dfdb998-ce96-4e96-91f3-ec48f34b1e5b"
      },
      "execution_count": 75,
      "outputs": [
        {
          "output_type": "execute_result",
          "data": {
            "text/plain": [
              "Sentiment(polarity=-0.04999999999999996, subjectivity=0.7166666666666666)"
            ]
          },
          "metadata": {},
          "execution_count": 75
        }
      ]
    },
    {
      "cell_type": "code",
      "source": [
        "df['review'][45]"
      ],
      "metadata": {
        "id": "euCkh1eRWpDy",
        "colab": {
          "base_uri": "https://localhost:8080/",
          "height": 70
        },
        "outputId": "5577e3dd-f73e-4595-da67-24abffdbcfdb"
      },
      "execution_count": null,
      "outputs": [
        {
          "output_type": "execute_result",
          "data": {
            "text/plain": [
              "'Rooms we were very dirty. My grandparents stayed in this hotel twice and we did not get hot water in the morning when we wanted to shower. If i call up the reception, the lady said that she cannot do anything as she does  not know what to do. When i spoke to the manager Mr. Sanjeev, he was very very rude and he said you cannot call for every small problem. He told us if we want we can check out. Very very rude of him. He should be fired.'"
            ],
            "application/vnd.google.colaboratory.intrinsic+json": {
              "type": "string"
            }
          },
          "metadata": {},
          "execution_count": 29
        }
      ]
    },
    {
      "cell_type": "markdown",
      "source": [
        "# Bar plot"
      ],
      "metadata": {
        "id": "42ySmmO8kdIz"
      }
    },
    {
      "cell_type": "code",
      "source": [
        "sentiment = []\n",
        "pos_review = []\n",
        "neg_review = []\n",
        "from textblob import TextBlob\n",
        "for i in range(len(df)):\n",
        "  blob = TextBlob(df['review_old'][i])\n",
        "  sentiment.append(blob.sentiment[0])\n",
        "  if(blob.sentiment[0]>0):\n",
        "    pos_review.append(df['review_old'][i])\n",
        "  else:\n",
        "    neg_review.append(df['review_old'][i])"
      ],
      "metadata": {
        "id": "S6pNVSmhgrm4"
      },
      "execution_count": 76,
      "outputs": []
    },
    {
      "cell_type": "code",
      "source": [
        "n_pos = len(pos_review)\n",
        "n_neg = len(neg_review)\n",
        "print(\"There are\",n_pos,\"positive and\",n_neg,\"negative reviews\")"
      ],
      "metadata": {
        "id": "uP2x2O1sARJt",
        "colab": {
          "base_uri": "https://localhost:8080/"
        },
        "outputId": "50f3b584-3c13-4d58-c09b-6353e6894c8e"
      },
      "execution_count": 77,
      "outputs": [
        {
          "output_type": "stream",
          "name": "stdout",
          "text": [
            "There are 66 positive and 31 negative reviews\n"
          ]
        }
      ]
    },
    {
      "cell_type": "code",
      "source": [
        "import numpy as np\n",
        "import matplotlib.pyplot as plt\n",
        "data = {'Positive':n_pos, 'negative':n_neg}"
      ],
      "metadata": {
        "id": "v8POGerwkhFQ"
      },
      "execution_count": 78,
      "outputs": []
    },
    {
      "cell_type": "code",
      "source": [
        "sentiment = data.keys()\n",
        "counts = data.values()\n",
        "  \n",
        "fig = plt.figure(figsize = (5, 5))\n",
        "\n",
        "plt.bar(sentiment, counts, color =['red', 'blue'])\n",
        " \n",
        "plt.xlabel(\"Sentiment\")\n",
        "plt.ylabel(\"Frequency\")\n",
        "plt.title(\"Sentiment Analysis\")\n",
        "plt.show()"
      ],
      "metadata": {
        "id": "5xmhsjchjgff",
        "colab": {
          "base_uri": "https://localhost:8080/",
          "height": 350
        },
        "outputId": "f18579c2-7123-4cd8-b1e1-9df82f6229b4"
      },
      "execution_count": 79,
      "outputs": [
        {
          "output_type": "display_data",
          "data": {
            "text/plain": [
              "<Figure size 360x360 with 1 Axes>"
            ],
            "image/png": "[encoded data removed]"
          },
          "metadata": {
            "needs_background": "light"
          }
        }
      ]
    },
    {
      "cell_type": "markdown",
      "source": [
        "# Pie Chart"
      ],
      "metadata": {
        "id": "djIastlfMJT3"
      }
    },
    {
      "cell_type": "code",
      "source": [
        "colors = ['red', 'blue']\n",
        "plt.pie(counts, labels=sentiment, autopct='%1.1f%%', startangle=45, colors=colors)\n",
        "plt.axis('equal') \n",
        "plt.title(\"Sentiment Analysis\")\n",
        "plt.show()"
      ],
      "metadata": {
        "colab": {
          "base_uri": "https://localhost:8080/",
          "height": 264
        },
        "id": "19dtp1z6I_93",
        "outputId": "81e10acd-a4c6-4f2d-91a7-8f1f126b9397"
      },
      "execution_count": 80,
      "outputs": [
        {
          "output_type": "display_data",
          "data": {
            "text/plain": [
              "<Figure size 432x288 with 1 Axes>"
            ],
            "image/png": "[encoded data removed]"
          },
          "metadata": {}
        }
      ]
    },
    {
      "cell_type": "markdown",
      "source": [
        "# Exploring Text Data"
      ],
      "metadata": {
        "id": "3gcdaJdqD4to"
      }
    },
    {
      "cell_type": "code",
      "source": [
        "import nltk\n",
        "#nltk.download(\"all\")"
      ],
      "metadata": {
        "id": "8Erb4AwIEiJe"
      },
      "execution_count": 81,
      "outputs": []
    },
    {
      "cell_type": "markdown",
      "source": [
        "## Counting words"
      ],
      "metadata": {
        "id": "t1sx4GuMHwcj"
      }
    },
    {
      "cell_type": "code",
      "source": [
        "pos_rev_tok = []\n",
        "neg_rev_tok = []\n",
        "for i in range(len(pos_review)):\n",
        "  pos_rev_tok.append(nltk.word_tokenize(pos_review[i]))\n",
        "for i in range(len(neg_review)):\n",
        "  neg_rev_tok.append(nltk.word_tokenize(neg_review[i]))"
      ],
      "metadata": {
        "id": "9sHnahoWB358"
      },
      "execution_count": 82,
      "outputs": []
    },
    {
      "cell_type": "code",
      "source": [
        "combined_pos_review = []\n",
        "combined_neg_review = []\n",
        "for i in range(len(pos_rev_tok)):\n",
        "  for j in range(len(pos_rev_tok[i])):\n",
        "    combined_pos_review.append(pos_rev_tok[i][j])\n",
        "for i in range(len(neg_rev_tok)):\n",
        "  for j in range(len(neg_rev_tok[i])):\n",
        "    combined_neg_review.append(neg_rev_tok[i][j])"
      ],
      "metadata": {
        "id": "YQ3XXUeNIuVL"
      },
      "execution_count": 83,
      "outputs": []
    },
    {
      "cell_type": "code",
      "source": [
        "print(len(combined_pos_review), \"words in the positive review\")\n",
        "print(len(combined_neg_review), \"words in the negative review\")"
      ],
      "metadata": {
        "id": "CjF0jwW8JOKp",
        "colab": {
          "base_uri": "https://localhost:8080/"
        },
        "outputId": "882de620-5c0a-4bfa-92af-5b81ba47bf70"
      },
      "execution_count": 84,
      "outputs": [
        {
          "output_type": "stream",
          "name": "stdout",
          "text": [
            "2864 words in the positive review\n",
            "1581 words in the negative review\n"
          ]
        }
      ]
    },
    {
      "cell_type": "markdown",
      "source": [
        "## Frequency of words"
      ],
      "metadata": {
        "id": "nKajEFczH1_t"
      }
    },
    {
      "cell_type": "code",
      "source": [
        "from nltk.probability import FreqDist\n",
        "from nltk.corpus import stopwords\n",
        "import string"
      ],
      "metadata": {
        "id": "LfThj-l6HPqk"
      },
      "execution_count": 85,
      "outputs": []
    },
    {
      "cell_type": "code",
      "source": [
        "pos_frequency_dist = nltk.FreqDist(combined_pos_review)\n",
        "neg_frequency_dist = nltk.FreqDist(combined_neg_review)"
      ],
      "metadata": {
        "id": "_trfz_doHvda"
      },
      "execution_count": 86,
      "outputs": []
    },
    {
      "cell_type": "code",
      "source": [
        "pos_sorted_values = sorted(pos_frequency_dist.values(), reverse=True) # Sort the values\n",
        "pos_sorted_dict = {}\n",
        "\n",
        "for i in pos_sorted_values:\n",
        "    for k in pos_frequency_dist.keys():\n",
        "        if pos_frequency_dist[k] == i:\n",
        "            pos_sorted_dict[k] = pos_frequency_dist[k]\n",
        "            break\n",
        "\n",
        "print(pos_sorted_dict)"
      ],
      "metadata": {
        "colab": {
          "base_uri": "https://localhost:8080/"
        },
        "id": "EzoGUcjv87YT",
        "outputId": "6e4e3216-5854-4c53-d4ed-389af60ec8be"
      },
      "execution_count": 87,
      "outputs": [
        {
          "output_type": "stream",
          "name": "stdout",
          "text": [
            "{'hotel': 118, 'good': 101, 'room': 87, 'very': 80, 'not': 53, 'stay': 51, 'staff': 48, 'station': 45, 'service': 23, 'clean': 21, 'bangalore': 20, 'railway': 19, 'get': 17, 'helpful': 16, 'city': 15, 'take': 14, 'really': 13, 'happy': 12, 'food': 11, 'comfortable': 10, 'opposite': 9, 'wife': 8, 'size': 7, 'bed': 6, 'centaur': 5, 'guest': 4, 'talk': 3, 'transport': 2, 'regular': 1}\n"
          ]
        }
      ]
    },
    {
      "cell_type": "code",
      "source": [
        "pos_word = list(pos_sorted_dict.keys())[:10]\n",
        "pos_counts = list(pos_sorted_dict.values())[:10]\n",
        "plt.bar(pos_word, pos_counts)\n",
        "plt.xticks(rotation=45, ha='right')\n",
        "plt.title(\"Positive Review Word Frequency\")\n",
        "plt.show()"
      ],
      "metadata": {
        "id": "WpSDCM3JMJNT",
        "colab": {
          "base_uri": "https://localhost:8080/",
          "height": 304
        },
        "outputId": "eea0d887-cdf9-4cfb-a5f4-72cb69cc466b"
      },
      "execution_count": 88,
      "outputs": [
        {
          "output_type": "display_data",
          "data": {
            "text/plain": [
              "<Figure size 432x288 with 1 Axes>"
            ],
            "image/png": "[encoded data removed]"
          },
          "metadata": {
            "needs_background": "light"
          }
        }
      ]
    },
    {
      "cell_type": "code",
      "source": [
        "neg_sorted_values = sorted(neg_frequency_dist.values(), reverse=True) # Sort the values\n",
        "neg_sorted_dict = {}\n",
        "\n",
        "for i in neg_sorted_values:\n",
        "    for k in neg_frequency_dist.keys():\n",
        "        if neg_frequency_dist[k] == i:\n",
        "            neg_sorted_dict[k] = neg_frequency_dist[k]\n",
        "            break\n",
        "\n",
        "print(neg_sorted_dict)"
      ],
      "metadata": {
        "colab": {
          "base_uri": "https://localhost:8080/"
        },
        "id": "Cnbuyzwj--9f",
        "outputId": "0e236519-f8f6-48b5-e738-1e2771a40e13"
      },
      "execution_count": 89,
      "outputs": [
        {
          "output_type": "stream",
          "name": "stdout",
          "text": [
            "{'not': 82, 'hotel': 63, 'room': 46, 'bad': 28, 'work': 21, 'stay': 17, 'no': 16, 'very': 15, 'good': 12, 'bed': 11, 'lift': 10, 'ever': 9, 'see': 8, 'railway': 7, 'station': 6, 'toilet': 5, 'give': 4, 'bus': 3, 'majestic': 2, 'valuable': 1}\n"
          ]
        }
      ]
    },
    {
      "cell_type": "code",
      "source": [
        "neg_word = list(neg_sorted_dict.keys())[:10]\n",
        "neg_counts = list(neg_sorted_dict.values())[:10]\n",
        "plt.bar(neg_word, neg_counts)\n",
        "plt.xticks(rotation=45, ha='right')\n",
        "plt.title(\"Negative Review Word Frequency\")\n",
        "plt.show()"
      ],
      "metadata": {
        "colab": {
          "base_uri": "https://localhost:8080/",
          "height": 296
        },
        "id": "xKw0y81o-1qC",
        "outputId": "41306b6f-d190-46db-c7c5-fcc854014e36"
      },
      "execution_count": 90,
      "outputs": [
        {
          "output_type": "display_data",
          "data": {
            "text/plain": [
              "<Figure size 432x288 with 1 Axes>"
            ],
            "image/png": "[encoded data removed]"
          },
          "metadata": {
            "needs_background": "light"
          }
        }
      ]
    },
    {
      "cell_type": "markdown",
      "source": [
        "## Word Cloud"
      ],
      "metadata": {
        "id": "TNr-tLX-N5se"
      }
    },
    {
      "cell_type": "code",
      "source": [
        "!pip install wordcloud\n",
        "from wordcloud import WordCloud"
      ],
      "metadata": {
        "id": "CuCz79DhLW3l",
        "colab": {
          "base_uri": "https://localhost:8080/"
        },
        "outputId": "2d11ecc3-d46b-407a-e5bf-2fb60c249a52"
      },
      "execution_count": 91,
      "outputs": [
        {
          "output_type": "stream",
          "name": "stdout",
          "text": [
            "Requirement already satisfied: wordcloud in /usr/local/lib/python3.7/dist-packages (1.5.0)\n",
            "Requirement already satisfied: pillow in /usr/local/lib/python3.7/dist-packages (from wordcloud) (7.1.2)\n",
            "Requirement already satisfied: numpy>=1.6.1 in /usr/local/lib/python3.7/dist-packages (from wordcloud) (1.21.6)\n"
          ]
        }
      ]
    },
    {
      "cell_type": "code",
      "source": [
        "wcloud = WordCloud().generate_from_frequencies(pos_frequency_dist)\n",
        "\n",
        "import matplotlib.pyplot as plt\n",
        "plt.imshow(wcloud, interpolation='bilinear')\n",
        "plt.title(\"Positive Review Word Cloud\")\n",
        "plt.show()"
      ],
      "metadata": {
        "id": "zmnrFucAN9Wm",
        "colab": {
          "base_uri": "https://localhost:8080/",
          "height": 231
        },
        "outputId": "f603c182-8720-467e-8dc9-2134357587bf"
      },
      "execution_count": 92,
      "outputs": [
        {
          "output_type": "display_data",
          "data": {
            "text/plain": [
              "<Figure size 432x288 with 1 Axes>"
            ],
            "image/png": "[encoded data removed]"
          },
          "metadata": {
            "needs_background": "light"
          }
        }
      ]
    },
    {
      "cell_type": "code",
      "source": [
        "wcloud = WordCloud().generate_from_frequencies(neg_frequency_dist)\n",
        "\n",
        "import matplotlib.pyplot as plt\n",
        "plt.imshow(wcloud, interpolation='bilinear')\n",
        "plt.title(\"Negative Review Word Cloud\")\n",
        "plt.show()"
      ],
      "metadata": {
        "id": "AbADM9khA8y7",
        "colab": {
          "base_uri": "https://localhost:8080/",
          "height": 231
        },
        "outputId": "dd216a70-b63e-474a-b23a-ad4574a5c869"
      },
      "execution_count": 93,
      "outputs": [
        {
          "output_type": "display_data",
          "data": {
            "text/plain": [
              "<Figure size 432x288 with 1 Axes>"
            ],
            "image/png": "[encoded data removed]"
          },
          "metadata": {
            "needs_background": "light"
          }
        }
      ]
    }
  ]
}