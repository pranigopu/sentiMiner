{
 "cells": [
  {
   "cell_type": "markdown",
   "metadata": {},
   "source": [
    "# References"
   ]
  },
  {
   "cell_type": "markdown",
   "metadata": {},
   "source": [
    "1. Intro to Tensors:<br>https://www.tensorflow.org/guide/tensor/\n",
    "2. Broadcasting in TensorFlow:<br>https://www.tensorflow.org/api_docs/python/tf/broadcast_to"
   ]
  },
  {
   "cell_type": "markdown",
   "metadata": {},
   "source": [
    "# Necessary imports"
   ]
  },
  {
   "cell_type": "code",
   "execution_count": 3,
   "metadata": {},
   "outputs": [],
   "source": [
    "import tensorflow as tf # For accessing TensorFlow library\n",
    "import numpy as np # For accessing NumPy library"
   ]
  },
  {
   "cell_type": "markdown",
   "metadata": {},
   "source": [
    "# Definition"
   ]
  },
  {
   "cell_type": "markdown",
   "metadata": {},
   "source": [
    "Tensors are **immutable null-dimensional, one-dimensional or multi-dimensional arrays** with a uniform type (the data type is given in the field **dtype**)."
   ]
  },
  {
   "cell_type": "markdown",
   "metadata": {},
   "source": [
    "# Basic terms"
   ]
  },
  {
   "cell_type": "markdown",
   "metadata": {},
   "source": [
    "**Axis / Dimension**: A separate sequence among a sequence of sequences.<br>\n",
    "**Shape**: The tuple containing the number of elements in each axis of the tensor. <br>\n",
    "**Rank**: Number of axes a tensor has. So, scalar => rank 0, vector => rank 1, matrix => rank 2...<br>\n",
    "**Size**: Total size of the vector i.e. product of the shape vector."
   ]
  },
  {
   "cell_type": "markdown",
   "metadata": {},
   "source": [
    "Axes are generally defined for batches, the sample data set and the features of the data set (i.e. potential predictors of a certain variable). Sample data sets are 2-dimensional, having axes for width and height. Hence, a typical tensor would be of rank 4."
   ]
  },
  {
   "cell_type": "markdown",
   "metadata": {},
   "source": [
    "# CREATION METHOD 1: Converting non-tensor objects"
   ]
  },
  {
   "cell_type": "markdown",
   "metadata": {},
   "source": [
    "We can use any Python object shaped liked tensors ex. homogenous lists and tuples, arrays or matrices, and convert them to tensor objects. Even single-valued constants can be converted to tensor objects. Many functions in the TensorFlow library automatically convert such objects to tensor objects, but many also accept only tensor objects as arguments, requiring an explicit conversion."
   ]
  },
  {
   "cell_type": "code",
   "execution_count": 27,
   "metadata": {},
   "outputs": [
    {
     "name": "stdout",
     "output_type": "stream",
     "text": [
      "\n",
      "tensor1: tf.Tensor(1, shape=(), dtype=int32)\n",
      "\n",
      "tensor2: tf.Tensor([1 2 3], shape=(3,), dtype=int32)\n",
      "\n",
      "tensor3: tf.Tensor(\n",
      "[[1 2 3]\n",
      " [3 4 5]], shape=(2, 3), dtype=int64)\n"
     ]
    }
   ],
   "source": [
    "tensor1 = tf.convert_to_tensor(1)\n",
    "tensor2 = tf.convert_to_tensor([1, 2, 3])\n",
    "tensor3 = tf.convert_to_tensor(np.matrix([[1, 2, 3], [3, 4, 5]]))\n",
    "\n",
    "print(\"\\ntensor1:\", tensor1)\n",
    "print(\"\\ntensor2:\", tensor2)\n",
    "print(\"\\ntensor3:\", tensor3)"
   ]
  },
  {
   "cell_type": "markdown",
   "metadata": {},
   "source": [
    "# CREATION METHOD 2: Defining a constant tensor"
   ]
  },
  {
   "cell_type": "markdown",
   "metadata": {},
   "source": [
    "The function 'constant' creates a constant tensor object. The data types of the elements can be numerical or non-numerical. However, the data type should be the same for all elements. If the **dtype** field is not given, the function will simply consider the data type of the element with the most general data type as its **dtype** i.e. the data type that can represent all the data. For example, if float and integer values are given for a single tensor, the **dtype** will be float, or more specifically, float32."
   ]
  },
  {
   "cell_type": "markdown",
   "metadata": {},
   "source": [
    "# Tensor ranks"
   ]
  },
  {
   "cell_type": "code",
   "execution_count": 98,
   "metadata": {},
   "outputs": [
    {
     "name": "stdout",
     "output_type": "stream",
     "text": [
      "tf.Tensor(2, shape=(), dtype=int32)\n"
     ]
    }
   ],
   "source": [
    "print(tf.constant(2))\n",
    "# A constant tensor with one element, and data type 'int32'.\n",
    "# Dimensions (i.e. shape) are empty as it is one integer.\n",
    "# This is a scalar tensor, or rank 0 tensor i.e. tensor with no axes."
   ]
  },
  {
   "cell_type": "code",
   "execution_count": 25,
   "metadata": {},
   "outputs": [
    {
     "name": "stdout",
     "output_type": "stream",
     "text": [
      "tf.Tensor([1 2 3 4], shape=(4,), dtype=int32)\n"
     ]
    }
   ],
   "source": [
    "print(tf.constant([1, 2, 3, 4]))\n",
    "# This is a constant tensor with 4 elements, and data type 'int32'.\n",
    "# Dimensions (i.e. shape) are 4 rows and 0 columns.\n",
    "# This is a vector tensor, or rank 1 tensor i.e. tensor with one axis."
   ]
  },
  {
   "cell_type": "code",
   "execution_count": 40,
   "metadata": {},
   "outputs": [
    {
     "name": "stdout",
     "output_type": "stream",
     "text": [
      "tf.Tensor(\n",
      "[[ 1.   2.4  3.   4. ]\n",
      " [-1.  -2.6 -3.  -4. ]], shape=(2, 4), dtype=float32)\n"
     ]
    }
   ],
   "source": [
    "print(tf.constant([[1, 2.4, 3, 4], [-1, -2.6, -3, -4]]))\n",
    "# This is a constant tensor with 8 elements, and data type 'float32'.\n",
    "# Dimensions (i.e. shape) are 2 rows and 4 columns.\n",
    "# This is a matrix tensor, or rank 2 tensor i.e. tensor with two axes."
   ]
  },
  {
   "cell_type": "markdown",
   "metadata": {},
   "source": [
    "Instead of giving lists, we can give any numerical data type or sequential data type, such tuples, arrays, matrices, etc."
   ]
  },
  {
   "cell_type": "code",
   "execution_count": 34,
   "metadata": {},
   "outputs": [
    {
     "name": "stdout",
     "output_type": "stream",
     "text": [
      "tf.Tensor(\n",
      "[[1 2 3]\n",
      " [1 2 4]], shape=(2, 3), dtype=int64)\n"
     ]
    }
   ],
   "source": [
    "# Demonstrating constant tensor construction using matrix...\n",
    "print(tf.constant(np.matrix([[1, 2, 3], [1, 2, 4]])))"
   ]
  },
  {
   "cell_type": "markdown",
   "metadata": {},
   "source": [
    "**NOTE 1**: Tensors can have more axes than two. Hence, there can be tensors of rank 3, rank 4, etc..<br>\n",
    "**NOTE 2**: You can specify the data type through the argument 'dtype', as in **tf.constant(x, dtype = int32)**"
   ]
  },
  {
   "cell_type": "markdown",
   "metadata": {},
   "source": [
    "# Tensor attributes"
   ]
  },
  {
   "cell_type": "code",
   "execution_count": 41,
   "metadata": {},
   "outputs": [
    {
     "name": "stdout",
     "output_type": "stream",
     "text": [
      "\n",
      "Simply printing the tensor...\n",
      "tf.Tensor(\n",
      "[[1 2]\n",
      " [3 4]], shape=(2, 2), dtype=int32)\n",
      "\n",
      "Data type of the tensor...\n",
      "<dtype: 'int32'>\n",
      "\n",
      "Shape of the tensor...\n",
      "(2, 2)\n",
      "\n",
      "Rank of the tensor...\n",
      "tf.Tensor(2, shape=(), dtype=int32)\n",
      "\n",
      "Size of the tensor...\n",
      "tf.Tensor(4, shape=(), dtype=int32)\n"
     ]
    }
   ],
   "source": [
    "# Consider the following tensor...\n",
    "myTensor = tf.constant([[1, 2], [3, 4]])\n",
    "print(\"\\nSimply printing the tensor...\")\n",
    "print(myTensor)\n",
    "print(\"\\nData type of the tensor...\")\n",
    "print(myTensor.dtype)\n",
    "print(\"\\nShape of the tensor...\")\n",
    "print(myTensor.shape)\n",
    "print(\"\\nRank of the tensor...\")\n",
    "print(tf.rank(myTensor)) # Number of dimensions (is 2 for any matrix)\n",
    "print(\"\\nSize of the tensor...\")\n",
    "print(tf.size(myTensor)) # Number of elements (3x3 = 9)"
   ]
  },
  {
   "cell_type": "markdown",
   "metadata": {},
   "source": [
    "**NOTE**: The rank and size functions return tensor objects containing the required values. To obtain single values, we must use the '.numpy' method, (as discussed in the 'Converting tensors to NumPy n-dimensional arrays' subsection in the 'Operations' section)"
   ]
  },
  {
   "cell_type": "markdown",
   "metadata": {},
   "source": [
    "# Indexing"
   ]
  },
  {
   "cell_type": "code",
   "execution_count": 14,
   "metadata": {},
   "outputs": [],
   "source": [
    "# Consider the following tensor...\n",
    "myTensor = tf.constant(\n",
    "    [\n",
    "        [1, 2, 3],\n",
    "        [4, 5, 6],\n",
    "        [7, 8, 9]\n",
    "    ])"
   ]
  },
  {
   "cell_type": "markdown",
   "metadata": {},
   "source": [
    "## Simple indexing"
   ]
  },
  {
   "cell_type": "code",
   "execution_count": 15,
   "metadata": {},
   "outputs": [
    {
     "name": "stdout",
     "output_type": "stream",
     "text": [
      "\n",
      "Printing each row...\n",
      "tf.Tensor([1 2 3], shape=(3,), dtype=int32)\n",
      "tf.Tensor([4 5 6], shape=(3,), dtype=int32)\n",
      "tf.Tensor([7 8 9], shape=(3,), dtype=int32)\n",
      "\n",
      "Printing each column...\n",
      "tf.Tensor([1 4 7], shape=(3,), dtype=int32)\n",
      "tf.Tensor([2 5 8], shape=(3,), dtype=int32)\n",
      "tf.Tensor([3 6 9], shape=(3,), dtype=int32)\n",
      "\n",
      "Printing each element...\n",
      "tf.Tensor(1, shape=(), dtype=int32)\n",
      "tf.Tensor(2, shape=(), dtype=int32)\n",
      "tf.Tensor(3, shape=(), dtype=int32)\n",
      "tf.Tensor(4, shape=(), dtype=int32)\n",
      "tf.Tensor(5, shape=(), dtype=int32)\n",
      "tf.Tensor(6, shape=(), dtype=int32)\n",
      "tf.Tensor(7, shape=(), dtype=int32)\n",
      "tf.Tensor(8, shape=(), dtype=int32)\n",
      "tf.Tensor(9, shape=(), dtype=int32)\n"
     ]
    }
   ],
   "source": [
    "# Row indexing\n",
    "print(\"\\nPrinting each row...\")\n",
    "for i in range(0, 3): print(myTensor[i])\n",
    "    \n",
    "# Column indexing\n",
    "print(\"\\nPrinting each column...\")\n",
    "for i in range(0, 3): print(myTensor[:, i])\n",
    "\n",
    "# Element indexing\n",
    "print(\"\\nPrinting each element...\")\n",
    "for i in range(0, 3):\n",
    "    for j in range(0, 3):\n",
    "        print(myTensor[i, j])"
   ]
  },
  {
   "cell_type": "markdown",
   "metadata": {},
   "source": [
    "**NOTE**: Doing something like **for t in myTensor: print(t)** will print all the rows. Hence, you can say that each element of a tensor is represented by a row, which can itself have mutliple elements."
   ]
  },
  {
   "cell_type": "markdown",
   "metadata": {},
   "source": [
    "## Slicing"
   ]
  },
  {
   "cell_type": "code",
   "execution_count": 16,
   "metadata": {},
   "outputs": [
    {
     "name": "stdout",
     "output_type": "stream",
     "text": [
      "\n",
      "Last two elements of the first row...\n",
      "tf.Tensor([2 3], shape=(2,), dtype=int32)\n",
      "\n",
      "Bottom left four elements...\n",
      "tf.Tensor(\n",
      "[[2 3]\n",
      " [5 6]\n",
      " [8 9]], shape=(3, 2), dtype=int32)\n"
     ]
    }
   ],
   "source": [
    "# Slicing\n",
    "print(\"\\nLast two elements of the first row...\")\n",
    "print(myTensor[0, 1:3])\n",
    "print(\"\\nBottom left four elements...\")\n",
    "print(myTensor[0:3, 1:3])"
   ]
  },
  {
   "cell_type": "markdown",
   "metadata": {},
   "source": [
    "## Negative indexing"
   ]
  },
  {
   "cell_type": "code",
   "execution_count": 17,
   "metadata": {},
   "outputs": [
    {
     "name": "stdout",
     "output_type": "stream",
     "text": [
      "\n",
      "Last row...\n",
      "tf.Tensor([7 8 9], shape=(3,), dtype=int32)\n",
      "\n",
      "Last column...\n",
      "tf.Tensor([3 6 9], shape=(3,), dtype=int32)\n",
      "\n",
      "Last element...\n",
      "tf.Tensor(9, shape=(), dtype=int32)\n"
     ]
    }
   ],
   "source": [
    "print(\"\\nLast row...\")\n",
    "print(myTensor[-1])\n",
    "print(\"\\nLast column...\")\n",
    "print(myTensor[:, -1])\n",
    "print(\"\\nLast element...\")\n",
    "print(myTensor[-1, -1])"
   ]
  },
  {
   "cell_type": "markdown",
   "metadata": {},
   "source": [
    "# Functions"
   ]
  },
  {
   "cell_type": "markdown",
   "metadata": {},
   "source": [
    "## Typecasting"
   ]
  },
  {
   "cell_type": "markdown",
   "metadata": {},
   "source": [
    "You can convert the data type (dtype) of the values of your tensor through the TensorFlow function **cast**. Note that applying this function will create a new tensor, not alter the original tensor."
   ]
  },
  {
   "cell_type": "code",
   "execution_count": 123,
   "metadata": {},
   "outputs": [
    {
     "name": "stdout",
     "output_type": "stream",
     "text": [
      "tf.Tensor(2, shape=(), dtype=int32)\n"
     ]
    }
   ],
   "source": [
    "tensor1 = tf.constant(2.3, dtype = tf.float32)\n",
    "tensor2 = tf.cast(myTensor, dtype = tf.int32)\n",
    "print(tensor2)"
   ]
  },
  {
   "cell_type": "markdown",
   "metadata": {},
   "source": [
    "## Converting tensors to NumPy n-dimensional arrays"
   ]
  },
  {
   "cell_type": "markdown",
   "metadata": {},
   "source": [
    "For doing this, we use the '.numpy' function, which returns a separate NumPy array."
   ]
  },
  {
   "cell_type": "code",
   "execution_count": 31,
   "metadata": {},
   "outputs": [
    {
     "name": "stdout",
     "output_type": "stream",
     "text": [
      "\n",
      "Full tensor...\n",
      "[[1 2 3]\n",
      " [4 5 6]\n",
      " [7 8 9]]\n",
      "\n",
      "First row...\n",
      "[1 2 3]\n",
      "\n",
      "First column...\n",
      "[1 4 7]\n",
      "\n",
      "First element...\n",
      "1\n"
     ]
    }
   ],
   "source": [
    "myTensor = tf.constant(\n",
    "    [\n",
    "        [1, 2, 3],\n",
    "        [4, 5, 6],\n",
    "        [7, 8, 9]\n",
    "    ])\n",
    "print(\"\\nFull tensor...\")\n",
    "print(myTensor.numpy())\n",
    "print(\"\\nFirst row...\")\n",
    "print(myTensor[0].numpy())\n",
    "print(\"\\nFirst column...\")\n",
    "print(myTensor[:, 0].numpy())\n",
    "print(\"\\nFirst element...\")\n",
    "print(myTensor[0, 0].numpy())"
   ]
  },
  {
   "cell_type": "code",
   "execution_count": 32,
   "metadata": {},
   "outputs": [
    {
     "name": "stdout",
     "output_type": "stream",
     "text": [
      "<class 'numpy.ndarray'>\n"
     ]
    }
   ],
   "source": [
    "# Confirming the return type of the .numpy function...\n",
    "print(type(myTensor.numpy()))"
   ]
  },
  {
   "cell_type": "markdown",
   "metadata": {},
   "source": [
    "Using this function, we can obtain the rank and size of a tensor as a proper value (instead of a tensor object, which is the usual output of the TensorFlow functions **rank** and **size**."
   ]
  },
  {
   "cell_type": "code",
   "execution_count": 38,
   "metadata": {},
   "outputs": [
    {
     "name": "stdout",
     "output_type": "stream",
     "text": [
      "Rank: 2\n",
      "Size: 9\n"
     ]
    }
   ],
   "source": [
    "print(\"Rank:\", tf.rank(myTensor).numpy()) # Number of dimensions (is 2 for any matrix)\n",
    "print(\"Size:\", tf.size(myTensor).numpy()) # Number of elements (3x3 = 9)"
   ]
  },
  {
   "cell_type": "markdown",
   "metadata": {},
   "source": [
    "## Reshaping"
   ]
  },
  {
   "cell_type": "markdown",
   "metadata": {},
   "source": [
    "You can efficiently change the shape of the tensor using the TensorFlow function **reshape**."
   ]
  },
  {
   "cell_type": "code",
   "execution_count": 140,
   "metadata": {},
   "outputs": [
    {
     "name": "stdout",
     "output_type": "stream",
     "text": [
      "\n",
      "tensor1...\n",
      "tf.Tensor([1 2 3 4], shape=(4,), dtype=int32)\n",
      "\n",
      "tensor2...\n",
      "tf.Tensor(\n",
      "[[1 2]\n",
      " [3 4]], shape=(2, 2), dtype=int32)\n",
      "\n",
      "tensor3...\n",
      "tf.Tensor(\n",
      "[[1]\n",
      " [2]\n",
      " [3]\n",
      " [4]], shape=(4, 1), dtype=int32)\n"
     ]
    }
   ],
   "source": [
    "tensor1 = tf.constant([1, 2, 3, 4])\n",
    "tensor2 = tf.reshape(tensor1, (2, 2))\n",
    "tensor3 = tf.reshape(tensor2, (4, 1))\n",
    "# 1st argument => tensor to be reshaped\n",
    "# 2nd argument => shape sequence (list, tuple or vector)\n",
    "print(\"\\ntensor1...\")\n",
    "print(tensor1)\n",
    "print(\"\\ntensor2...\")\n",
    "print(tensor2)\n",
    "print(\"\\ntensor3...\")\n",
    "print(tensor3)"
   ]
  },
  {
   "cell_type": "markdown",
   "metadata": {},
   "source": [
    "## Broadcasting"
   ]
  },
  {
   "cell_type": "markdown",
   "metadata": {},
   "source": [
    "Broadcasting is the process of making the shapes of arrays compatible for arithmetic operations. Two shapes are compatible if for each dimension pair they are either equal or one of them is one. In broadcasting, the smaller array is transformed appropriately according to larger array (i.e. the smaller array is broadcasted to the larger array) such that the arithmetic operations can be performed on these arrays. This process happens automatically under the right conditions (discussed below). This can also be done deliberately, as we will see here..."
   ]
  },
  {
   "cell_type": "code",
   "execution_count": 21,
   "metadata": {},
   "outputs": [],
   "source": [
    "tensor1 = tf.constant([1, 2, 3])\n",
    "tensor2 = tf.broadcast_to(tensor1, [3, 3]) # 2 rows, 3 columns\n",
    "tensor3 = tf.broadcast_to(tensor1, [3, 3]) # 3 rows, 3 columns"
   ]
  },
  {
   "cell_type": "code",
   "execution_count": 20,
   "metadata": {},
   "outputs": [
    {
     "name": "stdout",
     "output_type": "stream",
     "text": [
      "\n",
      "tensor1: tf.Tensor([1 2 3], shape=(3,), dtype=int32)\n",
      "\n",
      "tensor2: tf.Tensor([[1 2 3]], shape=(1, 3), dtype=int32)\n",
      "\n",
      "tensor3: tf.Tensor(\n",
      "[[1 2 3]\n",
      " [1 2 3]\n",
      " [1 2 3]], shape=(3, 3), dtype=int32)\n"
     ]
    }
   ],
   "source": [
    "print(\"\\ntensor1:\", tensor1)\n",
    "print(\"\\ntensor2:\", tensor2)\n",
    "print(\"\\ntensor3:\", tensor3)"
   ]
  },
  {
   "cell_type": "markdown",
   "metadata": {},
   "source": [
    "Here, the TensorFlow function **broadcast_to** transforms and replicates the original data structure within the tensor based on the given dimensions. But it does not allow truncation of the original data, hence reshaping into a dimension is only possible if the original data can be replicated completely. Note that this function creates a new persistent tensor object, not just a temporary result."
   ]
  },
  {
   "cell_type": "markdown",
   "metadata": {},
   "source": [
    "**Note on automatic broadcasting**<br>\n",
    "Operating on tensors can result in automatic broadcasting. The matrix addition of tensor containing matrix M to tensor containing matrix N will broadcast the result if the result of the M is one of the following:\n",
    "1. Single-valued constant\n",
    "2. Has same number of columns as N, and perfectly divides the number of rows in N\n",
    "3. Has same number of rows as N, and perfectly divides the number of columns in N"
   ]
  },
  {
   "cell_type": "markdown",
   "metadata": {},
   "source": [
    "# Topics not covered"
   ]
  },
  {
   "cell_type": "markdown",
   "metadata": {},
   "source": [
    "1. Operations on tensors\n",
    "2. Ragged tensors\n",
    "3. Sparse tensors"
   ]
  }
 ],
 "metadata": {
  "kernelspec": {
   "display_name": "Python 3",
   "language": "python",
   "name": "python3"
  },
  "language_info": {
   "codemirror_mode": {
    "name": "ipython",
    "version": 3
   },
   "file_extension": ".py",
   "mimetype": "text/x-python",
   "name": "python",
   "nbconvert_exporter": "python",
   "pygments_lexer": "ipython3",
   "version": "3.8.5"
  }
 },
 "nbformat": 4,
 "nbformat_minor": 4
}
