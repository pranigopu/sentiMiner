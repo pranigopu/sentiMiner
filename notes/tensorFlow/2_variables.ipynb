{
 "cells": [
  {
   "cell_type": "markdown",
   "metadata": {},
   "source": [
    "# References"
   ]
  },
  {
   "cell_type": "markdown",
   "metadata": {},
   "source": [
    "1. Intro to variables (in TensorFlow):<br>https://www.tensorflow.org/guide/variable\n",
    "2. Mastering TensorFlow Variables:<br>https://towardsdatascience.com/mastering-tensorflow-variables-in-5-easy-step-5ba8062a1756\n",
    "3. Trainable vs. non-trainable variables:<br>https://stackoverflow.com/questions/48460057/what-does-it-mean-that-a-tf-variable-is-trainable-in-tensorflow"
   ]
  },
  {
   "cell_type": "markdown",
   "metadata": {},
   "source": [
    "# Necessary imports"
   ]
  },
  {
   "cell_type": "code",
   "execution_count": 1,
   "metadata": {},
   "outputs": [],
   "source": [
    "import tensorflow as tf # For accessing TensorFlow library\n",
    "import numpy as np # For accessing NumPy library"
   ]
  },
  {
   "cell_type": "markdown",
   "metadata": {},
   "source": [
    "# Definition"
   ]
  },
  {
   "cell_type": "markdown",
   "metadata": {},
   "source": [
    "Variables in TensorFlow are **mutable null-dimensional, one-dimensional or multi-dimensional arrays** with a uniform type (the data type is given in the field **dtype**). It is the preferred object type for representing a shared and persistent state that you can manipulate with any operation, including TensorFlow models.\n",
    "<br><br>\n",
    "**_Tensors vs. Variables_**\n",
    "<br>\n",
    "The most important difference between Variables and Tensors is mutability i.e. values of a 'Variable' object can be updated. Unlike Tensors, Variables cannot be reshaped. You can apply the TensorFlow function **reshape** on Variables, but it will create a new Tensor with the given shape, and not reshape the Variable itself. Note that Variables can be converted to Tensors using the **convert_to_tensor** function found in the TensorFlowLibrary. \n",
    "<br><br>\n",
    "**_Need for Variables_**\n",
    "<br>\n",
    "Variable objects are mainly used to store model parameters. Since model parameter values keep updating during training, we can only use Variables, and not Tensors."
   ]
  },
  {
   "cell_type": "markdown",
   "metadata": {},
   "source": [
    "- **Shared**: visible to other parts of the program\n",
    "- **Persistent**: given dedicated memory space\n",
    "- **State (of an entity)**: the set of values defining the nature of the entity's existence\n",
    "- **Manipulation (of state)**: Any update in a value or parameter regarding an entity\n",
    "- **Entity**: any definable and existing unit ex. trained model"
   ]
  },
  {
   "cell_type": "markdown",
   "metadata": {},
   "source": [
    "# Creation"
   ]
  },
  {
   "cell_type": "markdown",
   "metadata": {},
   "source": [
    "We can instantiate (i.e., create) Variable objects with the TensorFlow function **Variable**. This function accepts different data types as parameter such as integers, floats, strings, lists, and 'Constant' (which can be created through the TensorFlow function **constant**). objects."
   ]
  },
  {
   "cell_type": "code",
   "execution_count": 38,
   "metadata": {},
   "outputs": [
    {
     "name": "stdout",
     "output_type": "stream",
     "text": [
      "<tf.Variable 'Variable:0' shape=(3,) dtype=int32, numpy=array([1, 2, 3], dtype=int32)> \n",
      "------------\n",
      "<tf.Variable 'Variable:0' shape=(3,) dtype=string, numpy=array([b'abc', b'def', b'ghi'], dtype=object)> \n",
      "------------\n",
      "<tf.Variable 'Variable:0' shape=(2, 3) dtype=int64, numpy=\n",
      "array([[1, 2, 3],\n",
      "       [4, 5, 6]])> \n",
      "------------\n",
      "<tf.Variable 'Variable:0' shape=(3,) dtype=int32, numpy=array([1, 2, 3], dtype=int32)> \n",
      "------------\n"
     ]
    }
   ],
   "source": [
    "var1 = tf.Variable([1, 2, 3])\n",
    "var2 = tf.Variable([\"abc\", \"def\", \"ghi\"])\n",
    "var3 = tf.Variable(np.array([[1, 2, 3], [4, 5, 6]]))\n",
    "var4 = tf.Variable(tf.constant([1, 2, 3]))\n",
    "\n",
    "# Printing the different variable objects\n",
    "for var in [var1, var2, var3, var4]: print(var, \"\\n------------\")"
   ]
  },
  {
   "cell_type": "markdown",
   "metadata": {},
   "source": [
    "**NOTE**: Every Variable must specify an initial value. Otherwise, TensorFlow raises the error _\"Value Error: initial_value must be specified\"_. Therefore, make sure that you pass on an initial value argument when creating Variable objects."
   ]
  },
  {
   "cell_type": "markdown",
   "metadata": {},
   "source": [
    "## Trainable vs. non-trainable variables"
   ]
  },
  {
   "cell_type": "markdown",
   "metadata": {},
   "source": [
    "Trainable variables are those variables which optimizer functions (which optimize models, which may include variables to store their states) can act upon. Note that both trainable variables and non-trainable variables are mutable. A variable can be defined as trainable or non-trainable by giving the **trainable** argument in the TensorFlow function **Variable** (the variable class constructor) as either True or False. You can set the trainability of variables on and off for any reason, ex. for freezing layers and variables during fine-tuning.\n",
    "<br><br>\n",
    "When a variable is defined as 'trainable', it is added to the collection **GraphKeys.TRAINABLE_VARIABLES**. During training, an optimizer gets the content of this collection of trainable variables through the TensorFlow function **trainable_variables** and applies the training process to all these variables.\n",
    "<br><br>\n",
    "The typical example of a non-trainable variable is **global_step**, because its value does change over time (+1 for each training iteration, usually), but you would not want to apply an optimization algorithm to it."
   ]
  },
  {
   "cell_type": "markdown",
   "metadata": {},
   "source": [
    "## Converting Variables to Tensors and Numpy n-dimensional arrays"
   ]
  },
  {
   "cell_type": "markdown",
   "metadata": {},
   "source": [
    "To be able to view a Variable’s values, we can use the **.value( )** function (which returns a Tensor constructed using the Variable) as well as the **.numpy( )** function (which returns a NumPy n-dimensional array)."
   ]
  },
  {
   "cell_type": "code",
   "execution_count": 39,
   "metadata": {},
   "outputs": [
    {
     "name": "stdout",
     "output_type": "stream",
     "text": [
      "\n",
      "Result of '.value()' function...\n",
      "tf.Tensor([1 2 3], shape=(3,), dtype=int32)\n",
      "\n",
      "Result of '.numpy()' function...\n",
      "[1 2 3]\n"
     ]
    }
   ],
   "source": [
    "print(\"\\nResult of '.value()' function...\")\n",
    "print(var1.value())\n",
    "print(\"\\nResult of '.numpy()' function...\")\n",
    "print(var1.numpy())"
   ]
  },
  {
   "cell_type": "markdown",
   "metadata": {},
   "source": [
    "# Lifecycle & naming"
   ]
  },
  {
   "cell_type": "markdown",
   "metadata": {},
   "source": [
    "## Lifecycle"
   ]
  },
  {
   "cell_type": "markdown",
   "metadata": {},
   "source": [
    "In TensorFlow, a Variable instance has the same lifecycle as other Python objects. When there are no references to a variable, it is automatically deallocated."
   ]
  },
  {
   "cell_type": "markdown",
   "metadata": {},
   "source": [
    "## Naming"
   ]
  },
  {
   "cell_type": "markdown",
   "metadata": {},
   "source": [
    "Variables can also be named, using the 'name' argument in the TensorFlow function **Variable**. This feature can help you track and debug them. You can give two variables the same name. Variable names are preserved when saving and loading models. By default, variables in models will acquire unique variable names automatically, but they can also be specifically defined by the programmer."
   ]
  },
  {
   "cell_type": "markdown",
   "metadata": {},
   "source": [
    "# Topics not covered"
   ]
  },
  {
   "cell_type": "markdown",
   "metadata": {},
   "source": [
    "1. Operations on variables\n",
    "2. Functions on variables (not discussed due to similarity to Tensors)\n",
    "3. Placing variables and tensors"
   ]
  },
  {
   "cell_type": "markdown",
   "metadata": {},
   "source": [
    "**SHORT NOTE ON PLACING VARIABLES AND TENSORS**:\n",
    "<br>\n",
    "For better performance, TensorFlow will attempt to place tensors and variables on the fastest device compatible with its dtype. This means most variables are placed on a GPU, if one is available.\n",
    "<br><br>\n",
    "However, you can override this. In this snippet, place a float tensor and a variable on the CPU, even if a GPU is available. By turning on device placement logging, you can see where the variable is placed. However, although manual placement works, using distribution strategies can be a more convenient and scalable way to optimize your computation."
   ]
  }
 ],
 "metadata": {
  "kernelspec": {
   "display_name": "Python 3",
   "language": "python",
   "name": "python3"
  },
  "language_info": {
   "codemirror_mode": {
    "name": "ipython",
    "version": 3
   },
   "file_extension": ".py",
   "mimetype": "text/x-python",
   "name": "python",
   "nbconvert_exporter": "python",
   "pygments_lexer": "ipython3",
   "version": "3.8.5"
  }
 },
 "nbformat": 4,
 "nbformat_minor": 4
}
