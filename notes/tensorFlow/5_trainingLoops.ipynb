{
 "cells": [
  {
   "cell_type": "markdown",
   "metadata": {},
   "source": [
    "# References"
   ]
  },
  {
   "cell_type": "markdown",
   "metadata": {},
   "source": [
    "- Training loop basics:<br>https://www.tensorflow.org/guide/basic_training_loops\n",
    "- Meaning of learning rate:<br>https://machinelearningmastery.com/understand-the-dynamics-of-learning-rate-on-deep-learning-neural-networks/\n",
    "- Meaning of epochs in machine learning:<br>https://radiopaedia.org/articles/epoch-machine-learning\n",
    "- About Keras:<br>https://keras.io/about/\n",
    "- About Keras optimizers:<br>https://keras.io/api/optimizers/\n",
    "- TypeError: \\_\\_call\\_\\_( ) got an unexpected keyword argument 'training'<br>https://github.com/tensorflow/nmt/issues/471"
   ]
  },
  {
   "cell_type": "markdown",
   "metadata": {},
   "source": [
    "# Necessary imports"
   ]
  },
  {
   "cell_type": "code",
   "execution_count": 335,
   "metadata": {},
   "outputs": [],
   "source": [
    "import tensorflow as tf # For accessing TensorFlow library\n",
    "import matplotlib.pyplot as plt # For plotting graphs"
   ]
  },
  {
   "cell_type": "markdown",
   "metadata": {},
   "source": [
    "# Definition"
   ]
  },
  {
   "cell_type": "markdown",
   "metadata": {},
   "source": [
    "A training loop is the process wherein a model is repeatedly applied for a batch of inputs and altered based on the difference between the actual and expected outputs. A training loop consists of repeatedly doing four tasks in order:\n",
    "- Sending a batch of inputs through the model to generate outputs\n",
    "- Calculating the loss by comparing the model's outputs to the expected outputs (or labels)\n",
    "- Using gradient tape to find the gradients\n",
    "- Optimizing the variables with those gradients"
   ]
  },
  {
   "cell_type": "markdown",
   "metadata": {},
   "source": [
    "# General process"
   ]
  },
  {
   "cell_type": "markdown",
   "metadata": {},
   "source": [
    "## Note on machine learning process"
   ]
  },
  {
   "cell_type": "markdown",
   "metadata": {},
   "source": [
    "Solving a machine learning problem usually consists of the following steps:\n",
    "- Obtain training data\n",
    "- Define the model\n",
    "- Define a loss function\n",
    "- Run through the training data, calculating loss from the expected value\n",
    "- Calculate gradients for the loss function\n",
    "- Use an optimizer to adjust the variables to fit the data\n",
    "- Evaluate your results\n",
    "\n",
    "Supervised learning uses inputs (usually denoted as x) and outputs (denoted y, often called labels). The goal is to learn from paired inputs and outputs so that you can predict the value of an output from an input.\n",
    "<br><br>\n",
    "Each input of your data, in TensorFlow, is almost always represented by a tensor, and is often a vector. In supervised training, the output / target value (i.e. the value you want to predict) is also a tensor."
   ]
  },
  {
   "cell_type": "markdown",
   "metadata": {},
   "source": [
    "## Steps for creating a training loop"
   ]
  },
  {
   "cell_type": "markdown",
   "metadata": {},
   "source": [
    "- Defining a model\n",
    "- Defining a loss function\n",
    "- Make a training function (call it **train**) to\n",
    "    - Compute model output for a given input (feature) batch\n",
    "    - Calculate partial gradient for the loss function w.r.t. each model weight and bias\n",
    "    - Use the respective gradients to update model weights and biases\n",
    "- Make a training loop function (call it **trainingLoop**) to\n",
    "    - Repeatedly apply the **train** function for multiple input batches\n",
    "\n",
    "**NOTE 1**: Input (feature) batches may consist of the same data passed over and over.<br>\n",
    "**NOTE 2**: A model is generally the implementation of a machine learning algorithm."
   ]
  },
  {
   "cell_type": "markdown",
   "metadata": {},
   "source": [
    "# PRELIMINARY STEP: Obtaining training data"
   ]
  },
  {
   "cell_type": "markdown",
   "metadata": {},
   "source": [
    "## Creating data"
   ]
  },
  {
   "cell_type": "markdown",
   "metadata": {},
   "source": [
    "_(Too lazy to get actual data)_"
   ]
  },
  {
   "cell_type": "code",
   "execution_count": 336,
   "metadata": {},
   "outputs": [],
   "source": [
    "# Data size\n",
    "dataSize = 100\n",
    "#========================\n",
    "# Inputs\n",
    "x = tf.linspace(-2, 2, dataSize)\n",
    "x = tf.cast(x, tf.float32)\n",
    "# Casting is done to ensure inputs are of the correct data type.\n",
    "# (There are multiple subcategories under float also i.e. float32 and float64)\n",
    "#========================\n",
    "# Target outputs\n",
    "trueWeight = 2.1 # True weight (that the model must try to attain through training)\n",
    "trueBias = 3.0 # True bias (that the model must try to attain through training)\n",
    "noise = tf.random.normal(shape=[dataSize]) # Adding some randomness to the target values\n",
    "\"\"\"\n",
    "Most real life data have some extraneous influences, causing some irregular fluctuations.\n",
    "We are trying to imitate that using random values drawn from a normal distribution.\n",
    "We could specify the normal distribution, but here, we are okay with the default.\n",
    "In the default, mean = 0, standard deviation = 1.\n",
    "\"\"\"\n",
    "target_y = trueWeight * x + trueBias + noise\n",
    "target_y = tf.cast(target_y, tf.float32)"
   ]
  },
  {
   "cell_type": "code",
   "execution_count": 337,
   "metadata": {},
   "outputs": [
    {
     "data": {
      "image/png": "[encoded data removed]",
      "text/plain": [
       "<Figure size 432x288 with 1 Axes>"
      ]
     },
     "metadata": {
      "needs_background": "light"
     },
     "output_type": "display_data"
    }
   ],
   "source": [
    "# Viewing the data\n",
    "plt.scatter(x, target_y, marker=\"o\", s=10) # s denotes marker size\n",
    "plt.title(\"The actual data\")\n",
    "plt.xlabel(\"x\")\n",
    "plt.ylabel(\"y\")\n",
    "plt.show()"
   ]
  },
  {
   "cell_type": "markdown",
   "metadata": {},
   "source": [
    "# PART A: Basic ML using simple TensorFlow models"
   ]
  },
  {
   "cell_type": "markdown",
   "metadata": {},
   "source": [
    "## Defining a model"
   ]
  },
  {
   "cell_type": "markdown",
   "metadata": {},
   "source": [
    "A simple linear model. This is generally the implementation of a machine learning algorithm, that can be called as necessary."
   ]
  },
  {
   "cell_type": "code",
   "execution_count": 338,
   "metadata": {},
   "outputs": [],
   "source": [
    "class MyModel(tf.Module):\n",
    "    def __init__(self, **kwargs): # To allow for any number of possible keyword arguments\n",
    "        super().__init__(**kwargs)\n",
    "        # Creating weight(s) and bias with some constant values\n",
    "        self.w = tf.Variable(5, dtype=tf.float32, name='weight')\n",
    "        self.b = tf.Variable(0, dtype=tf.float32, name='bias')\n",
    "        # name is not necessary.\n",
    "        # dtype is not necessary here, I can just give 5.0 instead of 5.\n",
    "        # The above are done merely for conceptual clarity\n",
    "        \n",
    "    # Creating model output function\n",
    "    def __call__(self, x): # x => input i.e. feature variable\n",
    "        return self.w * x + self.b # Simple linear regression"
   ]
  },
  {
   "cell_type": "code",
   "execution_count": 339,
   "metadata": {},
   "outputs": [
    {
     "name": "stdout",
     "output_type": "stream",
     "text": [
      "\n",
      "Model variables: \n",
      "<tf.Variable 'bias:0' shape=() dtype=float32, numpy=0.0>\n",
      "<tf.Variable 'weight:0' shape=() dtype=float32, numpy=5.0>\n",
      "\n",
      "Model output for x = 3: \n",
      "tf.Tensor(15.0, shape=(), dtype=float32)\n"
     ]
    }
   ],
   "source": [
    "# Instantiating the above model class\n",
    "model = MyModel()\n",
    "\n",
    "# Checking if the model is properly created\n",
    "print(\"\\nModel variables: \")\n",
    "for v in model.variables: print(v)\n",
    "print(\"\\nModel output for x = 3: \")\n",
    "print(model(3))"
   ]
  },
  {
   "cell_type": "markdown",
   "metadata": {},
   "source": [
    "## Defining loss function"
   ]
  },
  {
   "cell_type": "code",
   "execution_count": 340,
   "metadata": {},
   "outputs": [],
   "source": [
    "def loss(target_y, predicted_y): # predicted_y => y value as predicted by model\n",
    "    return tf.reduce_mean(tf.square(target_y - predicted_y))\n",
    "# tf.reduce_mean simply calculates the mean of the values.\n",
    "# Calculating mean is necessary for batch of inputs, not single inputs.\n",
    "# But we aim to provide batches of inputs, not single inputs.\n",
    "# Hence, the loss function calculates the mean error square for the given inputs."
   ]
  },
  {
   "cell_type": "markdown",
   "metadata": {},
   "source": [
    "## Defining training function"
   ]
  },
  {
   "cell_type": "code",
   "execution_count": 341,
   "metadata": {},
   "outputs": [],
   "source": [
    "def train(model, x, target_y, learningRate):\n",
    "    # Recording loss function's computation process in the context of the GradientTape API\n",
    "    # (the relevant operations are stored in a 'tape' data structure)\n",
    "    with tf.GradientTape() as tape:\n",
    "        currentLoss = loss(target_y, model(x))\n",
    "    # NOTE: Trainable variables are automatically tracked by the GradientTape API.\n",
    "    \n",
    "    # Obtaining gradients of the loss function using the above created tape\n",
    "    # Gradient of loss function with respect to weight & bias separately\n",
    "    # (for the given input)...\n",
    "    dl_dw, dl_db = tape.gradient(currentLoss, [model.w, model.b])\n",
    "    \n",
    "    # Subtract the respective partial gradients scaled by the learning rate\n",
    "    model.w.assign_sub(learningRate * dl_dw)\n",
    "    model.b.assign_sub(learningRate * dl_db)\n",
    "    # The above two lines of code implement gradient descent.\n",
    "    # Gradient descent is a type of optimizer (i.e. function used optimize a model)\n",
    "    \"\"\"\n",
    "    model.var.assign_sub(k)\n",
    "    - subtracts k from the current value of model.var\n",
    "    - reassigns model.var with the result\n",
    "    \n",
    "    NOTE: It combines tf.assign and tf.sub\n",
    "    \"\"\""
   ]
  },
  {
   "cell_type": "markdown",
   "metadata": {},
   "source": [
    "**NOTE ON LEARNING RATE**:<br>\n",
    "The learning rate is a value that controls how much the model's parameters change in response to the estimated error (i.e. at what rate are model weights updated). Too small learning rate may result in a longer training process that could get stuck at an undesirable accuracy. Too large learning rate may result in an unstable training process that could skip over more optimal model weights."
   ]
  },
  {
   "cell_type": "markdown",
   "metadata": {},
   "source": [
    "## Defining training loop function"
   ]
  },
  {
   "cell_type": "markdown",
   "metadata": {},
   "source": [
    "A function to repeatedly apply the training function to the same inputs (to hopefully achieve a more accurate model)."
   ]
  },
  {
   "cell_type": "code",
   "execution_count": 342,
   "metadata": {},
   "outputs": [],
   "source": [
    "# Creating lists to track the evolution of the weight(s) and bias of the model\n",
    "weights, biases = [], []\n",
    "\n",
    "# The training loop\n",
    "def trainingLoop(mode, x, target_y):\n",
    "    # Defining the number of epochs\n",
    "    maxEpochs = 10\n",
    "    # Defining learning rate\n",
    "    learningRate = 0.1\n",
    "    \n",
    "    # Loop\n",
    "    epoch = 0\n",
    "    while epoch < maxEpochs:\n",
    "        #========================\n",
    "        # TRACKING PROGRESS\n",
    "        # (this is merely for reference)\n",
    "        #------------\n",
    "        print(\"\\n------------\\nEPOCH\", epoch)\n",
    "        # Appending the weights to the evolution tracking lists\n",
    "        weights.append(model.w.numpy())\n",
    "        biases.append(model.b.numpy())\n",
    "        \n",
    "        # Tracking the loss function\n",
    "        print(\"w =\", model.w.numpy())\n",
    "        print(\"b =\", model.b.numpy())\n",
    "        currentLoss = loss(target_y, model(x)) # Calculating the loss function value\n",
    "        print(\"loss =\", currentLoss.numpy())\n",
    "        #========================\n",
    "        # UPDATING MODEL\n",
    "        # (this is the main part)\n",
    "         #------------\n",
    "        train(model, x, target_y, learningRate) # Applying the training function\n",
    "        epoch = epoch + 1"
   ]
  },
  {
   "cell_type": "markdown",
   "metadata": {},
   "source": [
    "**NOTE ON EPOCH**:<br>\n",
    "An epoch is the number of times the entire training dataset has been run through by the machine learning algorithm (i.e. model in our case) has completed _(i.e. number of passes of the entire training dataset that the machine learning algorithm has completed)_.\n",
    "<br><br>\n",
    "Datasets are usually grouped into batches (especially for large amounts of data). Let us define an iteration as the processing of a single batch into the machine learning algorithm. If the batch size is the whole training dataset, then the number of epochs is the number of iterations. If the batch size is smaller, then the number of epochs is given by<br>**number of iterations / number of batches**."
   ]
  },
  {
   "cell_type": "markdown",
   "metadata": {},
   "source": [
    "## Application"
   ]
  },
  {
   "cell_type": "markdown",
   "metadata": {},
   "source": [
    "### Training loop process"
   ]
  },
  {
   "cell_type": "markdown",
   "metadata": {},
   "source": [
    "Applying training loop for the model, given the above data..."
   ]
  },
  {
   "cell_type": "code",
   "execution_count": 343,
   "metadata": {},
   "outputs": [
    {
     "name": "stdout",
     "output_type": "stream",
     "text": [
      "\n",
      "------------\n",
      "EPOCH 0\n",
      "w = 5.0\n",
      "b = 0.0\n",
      "loss = 21.87017\n",
      "\n",
      "------------\n",
      "EPOCH 1\n",
      "w = 4.218092\n",
      "b = 0.6138654\n",
      "loss = 13.196536\n",
      "\n",
      "------------\n",
      "EPOCH 2\n",
      "w = 3.6489053\n",
      "b = 1.1049577\n",
      "loss = 8.226946\n",
      "\n",
      "------------\n",
      "EPOCH 3\n",
      "w = 3.2345679\n",
      "b = 1.4978316\n",
      "loss = 5.3545666\n",
      "\n",
      "------------\n",
      "EPOCH 4\n",
      "w = 2.9329526\n",
      "b = 1.8121307\n",
      "loss = 3.6795397\n",
      "\n",
      "------------\n",
      "EPOCH 5\n",
      "w = 2.713393\n",
      "b = 2.06357\n",
      "loss = 2.694054\n",
      "\n",
      "------------\n",
      "EPOCH 6\n",
      "w = 2.5535655\n",
      "b = 2.2647214\n",
      "loss = 2.1091964\n",
      "\n",
      "------------\n",
      "EPOCH 7\n",
      "w = 2.4372196\n",
      "b = 2.4256425\n",
      "loss = 1.7591854\n",
      "\n",
      "------------\n",
      "EPOCH 8\n",
      "w = 2.3525262\n",
      "b = 2.5543795\n",
      "loss = 1.5480539\n",
      "\n",
      "------------\n",
      "EPOCH 9\n",
      "w = 2.2908738\n",
      "b = 2.657369\n",
      "loss = 1.4197526\n"
     ]
    }
   ],
   "source": [
    "trainingLoop(model, x, target_y)"
   ]
  },
  {
   "cell_type": "code",
   "execution_count": 344,
   "metadata": {},
   "outputs": [
    {
     "name": "stdout",
     "output_type": "stream",
     "text": [
      "Updated weight and bias: (2.245994, 2.7397606)\n"
     ]
    },
    {
     "data": {
      "image/png": "[encoded data removed]",
      "text/plain": [
       "<Figure size 432x288 with 1 Axes>"
      ]
     },
     "metadata": {
      "needs_background": "light"
     },
     "output_type": "display_data"
    }
   ],
   "source": [
    "print(\"Updated weight and bias:\", (model.w.numpy(), model.b.numpy()))\n",
    "plt.scatter(x, target_y, marker='o', s=10, label='Actual data')\n",
    "plt.plot(x, trueWeight * x + trueBias, label='Actual trend')\n",
    "plt.plot(x, model(x), label='Predicted trend')\n",
    "plt.legend()\n",
    "plt.show()"
   ]
  },
  {
   "cell_type": "markdown",
   "metadata": {},
   "source": [
    "### Weight & bias evolution"
   ]
  },
  {
   "cell_type": "code",
   "execution_count": 346,
   "metadata": {},
   "outputs": [
    {
     "data": {
      "image/png": "[encoded data removed]",
      "text/plain": [
       "<Figure size 432x288 with 1 Axes>"
      ]
     },
     "metadata": {
      "needs_background": "light"
     },
     "output_type": "display_data"
    }
   ],
   "source": [
    "epochs = list(range(1, len(weights) + 1))\n",
    "plt.plot(epochs, weights, label='Model weight')\n",
    "plt.plot(epochs, biases, label='Model bias')\n",
    "plt.plot(epochs, [trueWeight]*len(weights), '--', label=\"True weight\")\n",
    "plt.plot(epochs, [trueBias]*len(weights), '--', label=\"True bias\")\n",
    "plt.legend()\n",
    "plt.show()"
   ]
  },
  {
   "cell_type": "markdown",
   "metadata": {},
   "source": [
    "# PART B: Basic ML using Keras"
   ]
  },
  {
   "cell_type": "markdown",
   "metadata": {},
   "source": [
    "## Brief introduction to Keras"
   ]
  },
  {
   "cell_type": "markdown",
   "metadata": {},
   "source": [
    "*Keras is a deep learning API that runs on top of TensorFlow. It was developed with a focus on enabling fast experimentation. It provides abstractions for various kinds of deep learning concepts and techniques, including sequential models and training loops (like the one implemented above). Note that Keras models ultimately inherit from the **module** class in TensorFlow."
   ]
  },
  {
   "cell_type": "markdown",
   "metadata": {},
   "source": [
    "## Preliminary notes"
   ]
  },
  {
   "cell_type": "markdown",
   "metadata": {},
   "source": [
    "You can create a Keras model in the same way as a regular TensorFlow model, with the difference being that you must inherit from **tf.keras.Model**, instead of **tf.Module**. This model can be processed in the training loop in the same way. An additional feature of a Keras model is that can also save a checkpoint using Keras's built-in support, in the following manner:<br>\n",
    "**myKerasModel.save_weights(\"my_checkpoint\")**\n",
    "<br><br>\n",
    "Another additional feature is that you can store the loss function and optimizer functions (which are used to update model weights and biases) as attributes of the Keras model."
   ]
  },
  {
   "cell_type": "markdown",
   "metadata": {},
   "source": [
    "## Defining a model"
   ]
  },
  {
   "cell_type": "code",
   "execution_count": 385,
   "metadata": {},
   "outputs": [],
   "source": [
    "class MyKerasModel(tf.keras.Model):\n",
    "    def __init__(self, **kwargs): # To allow for any number of possible keyword arguments\n",
    "        super().__init__(**kwargs)\n",
    "        # Creating weight(s) and bias with some constant values\n",
    "        self.w = tf.Variable(5, dtype=tf.float32, name='weight')\n",
    "        self.b = tf.Variable(0, dtype=tf.float32, name='bias')\n",
    "        # name is not necessary.\n",
    "        # dtype is not necessary here, I can just give 5.0 instead of 5.\n",
    "        # The above are done merely for conceptual clarity\n",
    "        \n",
    "    # Creating model output function\n",
    "    def __call__(self, x, training=False): # x => input\n",
    "        return self.w * x + self.b # Simple linear model"
   ]
  },
  {
   "cell_type": "markdown",
   "metadata": {},
   "source": [
    "**NOTE ON 'training=True/False'**:<br>\n",
    "    When I had not put this argument, when applying the **.fit** function on my Keras model (see below), I got the error `TypeError: __call__() got an unexpected keyword argument 'training`. I did not get the error when I passed the keyword argument **training** as **True**, **False** or **None**. I am not sure about the details yet."
   ]
  },
  {
   "cell_type": "code",
   "execution_count": 386,
   "metadata": {},
   "outputs": [
    {
     "name": "stdout",
     "output_type": "stream",
     "text": [
      "\n",
      "Model variables: \n",
      "<tf.Variable 'weight:0' shape=() dtype=float32, numpy=5.0>\n",
      "<tf.Variable 'bias:0' shape=() dtype=float32, numpy=0.0>\n",
      "\n",
      "Model output for x = 3: \n",
      "tf.Tensor(15.0, shape=(), dtype=float32)\n"
     ]
    }
   ],
   "source": [
    "# Instantiating the above model class\n",
    "kerasModel = MyKerasModel()\n",
    "\n",
    "# Checking if the model is properly created\n",
    "print(\"\\nModel variables: \")\n",
    "for v in kerasModel.variables: print(v)\n",
    "print(\"\\nModel output for x = 3: \")\n",
    "print(kerasModel(3))"
   ]
  },
  {
   "cell_type": "markdown",
   "metadata": {},
   "source": [
    "## Defining training function (sort of)"
   ]
  },
  {
   "cell_type": "markdown",
   "metadata": {},
   "source": [
    "Rather than write new training function each time you create a model, you can use the built-in features of Keras as a shortcut. However, if you want to create your training function, you can use the **.compile** function (which are attributes of Keras models) to set the training function's parameters. This function allows you to define a loss and optimizer function (i.e. a function used to update weights, ex. gradient descent) for your model. This function has two main arguments:\n",
    "- **loss** (loss function to be used)\n",
    "- **optimizer** (optimizer function to be used)\n",
    "\n",
    "**NOTE ON PREVIOUSLY USED OPTIMIZER**:<br>In our previous implementation, our optimizer was gradient descent, which is a first-order iterative optimization algorithm for finding a local minimum of a differentiable function. The idea is to take repeated steps in the opposite direction of the gradient of the function at the current point (i.e. if gradient is positive, we go backwards, if gradient is negative, we go forwards), because this is the direction of descent."
   ]
  },
  {
   "cell_type": "code",
   "execution_count": 387,
   "metadata": {},
   "outputs": [],
   "source": [
    "kerasModel.compile(\n",
    "    loss = tf.keras.losses.mean_squared_error,\n",
    "    optimizer = tf.keras.optimizers.SGD(learning_rate=0.1))\n",
    "    # SGD => Stochastic Gradient Descent"
   ]
  },
  {
   "cell_type": "markdown",
   "metadata": {},
   "source": [
    "The loss and optimizer functions are stored as attribtes of **kerasModel**."
   ]
  },
  {
   "cell_type": "markdown",
   "metadata": {},
   "source": [
    "## Applying training loop"
   ]
  },
  {
   "cell_type": "markdown",
   "metadata": {},
   "source": [
    "To apply a training loop process on a model, use the **.fit** function. It has the following arguments:\n",
    "- input data (i.e. feature variable values)\n",
    "- target output (i.e. labels)\n",
    "- total epochs\n",
    "- batch size (optional)\n",
    "\n",
    "**NOTE ON BATCH SIZE**:<br>\n",
    "The **.fit** expects batched data or a complete dataset as a NumPy array. NumPy arrays are chopped into batches and default to a batch size of 32. For our case, we want to put our entire dataset into a single batch, so we set the **batch_size** argument to **dataSize** (the variable we defined at the start, that stores the number of inputs)."
   ]
  },
  {
   "cell_type": "code",
   "execution_count": 388,
   "metadata": {},
   "outputs": [
    {
     "name": "stdout",
     "output_type": "stream",
     "text": [
      "Epoch 1/10\n",
      "1/1 [==============================] - 0s 199ms/step - loss: 21.8702\n",
      "Epoch 2/10\n",
      "1/1 [==============================] - 0s 6ms/step - loss: 13.1965\n",
      "Epoch 3/10\n",
      "1/1 [==============================] - 0s 6ms/step - loss: 8.2269\n",
      "Epoch 4/10\n",
      "1/1 [==============================] - 0s 7ms/step - loss: 5.3546\n",
      "Epoch 5/10\n",
      "1/1 [==============================] - 0s 5ms/step - loss: 3.6795\n",
      "Epoch 6/10\n",
      "1/1 [==============================] - 0s 7ms/step - loss: 2.6941\n",
      "Epoch 7/10\n",
      "1/1 [==============================] - 0s 5ms/step - loss: 2.1092\n",
      "Epoch 8/10\n",
      "1/1 [==============================] - 0s 7ms/step - loss: 1.7592\n",
      "Epoch 9/10\n",
      "1/1 [==============================] - 0s 4ms/step - loss: 1.5481\n",
      "Epoch 10/10\n",
      "1/1 [==============================] - 0s 6ms/step - loss: 1.4198\n"
     ]
    },
    {
     "data": {
      "text/plain": [
       "<keras.callbacks.History at 0x1515acca0>"
      ]
     },
     "execution_count": 388,
     "metadata": {},
     "output_type": "execute_result"
    }
   ],
   "source": [
    "kerasModel.fit(x, target_y, epochs=10, batch_size=dataSize)"
   ]
  },
  {
   "cell_type": "markdown",
   "metadata": {},
   "source": [
    "As we can see, the results of the process are pretty much the same as the earlier implemention."
   ]
  }
 ],
 "metadata": {
  "kernelspec": {
   "display_name": "Python 3",
   "language": "python",
   "name": "python3"
  },
  "language_info": {
   "codemirror_mode": {
    "name": "ipython",
    "version": 3
   },
   "file_extension": ".py",
   "mimetype": "text/x-python",
   "name": "python",
   "nbconvert_exporter": "python",
   "pygments_lexer": "ipython3",
   "version": "3.8.5"
  }
 },
 "nbformat": 4,
 "nbformat_minor": 4
}
