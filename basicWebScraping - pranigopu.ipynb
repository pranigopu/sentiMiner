{
 "cells": [
  {
   "cell_type": "markdown",
   "metadata": {},
   "source": [
    "**References:**\n",
    "<br>\n",
    "1. https://towardsdatascience.com/web-scraping-metacritic-reviews-using-beautifulsoup-63801bbe200e\n",
    "<br>\n",
    "2. https://github.com/pranigopu/sentimentAnalysis/blob/main/basicWebScraping%20-%20Kim-Hyeokk.ipynb"
   ]
  },
  {
   "cell_type": "markdown",
   "metadata": {},
   "source": [
    "# Necessary libraries"
   ]
  },
  {
   "cell_type": "code",
   "execution_count": 5,
   "metadata": {},
   "outputs": [],
   "source": [
    "import requests\n",
    "from bs4 import BeautifulSoup"
   ]
  },
  {
   "cell_type": "markdown",
   "metadata": {},
   "source": [
    "# Obtaining & parsing response of URL GET request"
   ]
  },
  {
   "cell_type": "code",
   "execution_count": 7,
   "metadata": {},
   "outputs": [],
   "source": [
    "# Making GET request to the URL, & storing the returned requests.models.Response object:\n",
    "req = requests.get(\"https://www.booking.com/hotel/in/four-seasons-begaluru-at-embassy-one.en-gb.html?label=gen173nr-1DCAEoggI46AdIM1gEaGyIAQGYAQm4AQfIAQzYAQPoAQGIAgGoAgO4Ap2uoY8GwAIB0gIkOWIxZTNiN2MtMmU1OC00ZjUxLWFkNGMtYzQzYjA4MDYzNWIx2AIE4AIB;sid=8df0246df5fdb4a77aa749b13fb558d4;checkin=2022-01-19;checkout=2022-01-20&\")"
   ]
  },
  {
   "cell_type": "code",
   "execution_count": 12,
   "metadata": {},
   "outputs": [
    {
     "name": "stdout",
     "output_type": "stream",
     "text": [
      "Type: <class 'bs4.BeautifulSoup'>\n"
     ]
    }
   ],
   "source": [
    "# Parsing the contents of the webpage in HTML format:\n",
    "soup = BeautifulSoup(req.content, \"html.parser\")\n",
    "print(\"Type:\",type(soup))\n",
    "reviews = soup.find_all('p', class_ = 'review_content')"
   ]
  },
  {
   "cell_type": "markdown",
   "metadata": {},
   "source": [
    "# Retrieving review data"
   ]
  },
  {
   "cell_type": "markdown",
   "metadata": {},
   "source": [
    "## Initialising necessary objects"
   ]
  },
  {
   "cell_type": "code",
   "execution_count": 13,
   "metadata": {},
   "outputs": [],
   "source": [
    "# Creating a dictionary to store review information:\n",
    "reviewsData = {'name': [], 'date': [], 'rating': [], 'review': []}\n",
    "\n",
    "# This dictionary will be later converted to a dataframe, & then a usable CSV data file.\n",
    "# Each key represents a field name.\n",
    "# Each value represents the column of values under each field."
   ]
  },
  {
   "cell_type": "markdown",
   "metadata": {},
   "source": [
    "### Inspecting an element of 'reviews'"
   ]
  },
  {
   "cell_type": "code",
   "execution_count": 14,
   "metadata": {},
   "outputs": [
    {
     "data": {
      "text/plain": [
       "bs4.element.ResultSet"
      ]
     },
     "execution_count": 14,
     "metadata": {},
     "output_type": "execute_result"
    }
   ],
   "source": [
    "# TYPE\n",
    "type(reviews)"
   ]
  },
  {
   "cell_type": "code",
   "execution_count": 15,
   "metadata": {},
   "outputs": [
    {
     "data": {
      "text/plain": [
       "<p class=\"trackit althotelsReview2 fixed_review_height fixed_review_top_align review_content\" data-url=\"/hotel/in/four-seasons-begaluru-at-embassy-one.en-gb.html;rurl=#hash-blockdisplay4\" lang=\"en\">\n",
       "<span>\n",
       "The staff was kind and went out of their way to make our stay special. It was our marriage anniversary and they really took special care of us. The food in the restaurants was fresh and delicious and the spa was a delight.\n",
       "</span>\n",
       "</p>"
      ]
     },
     "execution_count": 15,
     "metadata": {},
     "output_type": "execute_result"
    }
   ],
   "source": [
    "# CONTENT\n",
    "reviews[0]"
   ]
  },
  {
   "cell_type": "code",
   "execution_count": 16,
   "metadata": {},
   "outputs": [
    {
     "data": {
      "text/plain": [
       "'\\n\\nThe staff was kind and went out of their way to make our stay special. It was our marriage anniversary and they really took special care of us. The food in the restaurants was fresh and delicious and the spa was a delight.\\n\\n'"
      ]
     },
     "execution_count": 16,
     "metadata": {},
     "output_type": "execute_result"
    }
   ],
   "source": [
    "# TEXT ATTRIBUTE\n",
    "reviews[0].text"
   ]
  },
  {
   "cell_type": "markdown",
   "metadata": {},
   "source": [
    "## Storing review data in respective fields"
   ]
  },
  {
   "cell_type": "code",
   "execution_count": 17,
   "metadata": {},
   "outputs": [],
   "source": [
    "for r in reviews: reviewsData['review'].append(r.text)"
   ]
  },
  {
   "cell_type": "code",
   "execution_count": 19,
   "metadata": {},
   "outputs": [
    {
     "data": {
      "text/plain": [
       "['\\n\\nThe staff was kind and went out of their way to make our stay special. It was our marriage anniversary and they really took special care of us. The food in the restaurants was fresh and delicious and the spa was a delight.\\n\\n',\n",
       " '\\n\\nI liked the rooms and amenities provided in the room, staff was courteous and helpful, food was good.\\n\\n',\n",
       " '\\n\\nFirst and foremost, this is the best Pet-Friendly hotel we found in bangalore. Not only were the staff sensitive to pet requirements, but also offered multiple services/food menu so that the pet has a good time.\\n\\n',\n",
       " '\\n\\nCourteous policies of the hotel like early check in, birthday surprise cake etc are very welcome. Safety, cleanliness and size of the rooms are commendable. Hospitality and staff behaviour are wonderful.\\n\\n',\n",
       " '\\n\\nlocation and it’s pet friendly, first property made my soul happy by allowing my pet fury to join me for breakfast\\n\\n',\n",
       " '\\n\\nwe stayed for a night but the hospitality from the staff was amazing! we had our pet with us unlike most hotels they didn’t charge us any extra but they had a whole pet menu. Our boy loved it. from the food, hospitality and prices these guys do an amazing job. we shall definitely go back.\\n\\n',\n",
       " '\\n\\nThe staff was really kind and reacted to the requests promptly \\nThe breakfast was amazing and was tasty\\n\\n',\n",
       " '\\n\\nEverything was perfect start to finish.\\rModern hotel with best in class services.\\n\\n',\n",
       " \"\\n\\nOur stay was very comfortable. The staff were very helpful and attentive. Special mention for Ananya from the Reservation Desk and Akshata at the front desk. Both of them helped make our stay very pleasant and memorable. Akshata had our room decorated for our son's birthday. He was thrilled. \\rThank you, Team Four Seasons.\\n\\n\",\n",
       " '\\n\\nstaff and service I give 5 stars .. food is awesome and staff is ready to please you.. just ask and you get it :)\\n\\n']"
      ]
     },
     "execution_count": 19,
     "metadata": {},
     "output_type": "execute_result"
    }
   ],
   "source": [
    "reviewsData['review']"
   ]
  }
 ],
 "metadata": {
  "kernelspec": {
   "display_name": "Python 3",
   "language": "python",
   "name": "python3"
  },
  "language_info": {
   "codemirror_mode": {
    "name": "ipython",
    "version": 3
   },
   "file_extension": ".py",
   "mimetype": "text/x-python",
   "name": "python",
   "nbconvert_exporter": "python",
   "pygments_lexer": "ipython3",
   "version": "3.8.5"
  }
 },
 "nbformat": 4,
 "nbformat_minor": 4
}
