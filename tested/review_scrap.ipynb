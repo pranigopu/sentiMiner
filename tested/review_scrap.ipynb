{
  "nbformat": 4,
  "nbformat_minor": 0,
  "metadata": {
    "colab": {
      "name": "review scrap",
      "provenance": [],
      "collapsed_sections": []
    },
    "kernelspec": {
      "name": "python3",
      "display_name": "Python 3"
    },
    "language_info": {
      "name": "python"
    }
  },
  "cells": [
    {
      "cell_type": "code",
      "execution_count": 142,
      "metadata": {
        "id": "2idgu3aAvC54",
        "colab": {
          "base_uri": "https://localhost:8080/"
        },
        "outputId": "c9043b8f-f43f-4fc6-b752-74b968e2566a"
      },
      "outputs": [
        {
          "output_type": "stream",
          "name": "stdout",
          "text": [
            "There are 62 reviews in this hotel\n",
            "Review scrapping completed!\n"
          ]
        }
      ],
      "source": [
        "import requests\n",
        "from bs4 import BeautifulSoup as soup\n",
        "from random import randint\n",
        "from time import sleep\n",
        "\n",
        "# Get request from url\n",
        "a = 'https://www.tripadvisor.com/Hotel_Review-g297628-d10639254-Reviews-Lords_Eco_Inn_Jayanagar-Bengaluru_Bangalore_District_Karnataka.html'\n",
        "a = a[:(a.find('Reviews')+7)] + '-or{}' + a[(a.find('Reviews')+7):]\n",
        "\n",
        "reviews = []\n",
        "\n",
        "headers = {'User-Agent':'Mozilla/5.0 (Windows NT 10.0; Win64; x64) AppleWebKit/537.36 (KHTML, like Gecko) Chrome/94.0.4606.81 Safari/537.36'}\n",
        "\n",
        "html = requests.get(a, headers = headers)\n",
        "element = soup(html.content, 'lxml')\n",
        "\n",
        "#Extracting number of review\n",
        "no_review = element.findAll('span', class_ = \"HFUqL\")\n",
        "no_review1 = no_review[0].text.replace(\" reviews\", \"\") # Deleting 'review' \n",
        "no_review2 = int(no_review1.replace(\",\", \"\")) # Deleting ','\n",
        "print(\"There are\",no_review2,\"reviews in this hotel\")\n",
        "    \n",
        "for i in range((no_review2//5)+1):\n",
        "    j = 5*i\n",
        "    a_new = a.replace(\"{}\",str(j))\n",
        "    html = requests.get(a_new, headers = headers)\n",
        "    sleep(1)\n",
        "    bsobj = soup(html.content, 'lxml')\n",
        "    \n",
        "    \n",
        "\n",
        "    for r in bsobj.findAll('q'):\n",
        "        reviews.append(r.span.text.strip())\n",
        "\n",
        "print(\"Review scrapping completed!\")"
      ]
    },
    {
      "cell_type": "code",
      "source": [
        "res = []\n",
        "for i in reviews:\n",
        "    if i not in res:\n",
        "        res.append(i)"
      ],
      "metadata": {
        "id": "w7KgOX7WSfTI"
      },
      "execution_count": 146,
      "outputs": []
    },
    {
      "cell_type": "code",
      "source": [
        "print(\"------------------------------\")\n",
        "print(\"Printing the reviews\")\n",
        "print(\"------------------------------\")\n",
        "for i in range(len(res)):\n",
        "    print(res[i],\"\\n\")"
      ],
      "metadata": {
        "colab": {
          "base_uri": "https://localhost:8080/"
        },
        "id": "0EOWXOwdvEZV",
        "outputId": "da2154f4-0470-40c6-a599-1c93a5232b97"
      },
      "execution_count": 184,
      "outputs": [
        {
          "output_type": "stream",
          "name": "stdout",
          "text": [
            "------------------------------\n",
            "Printing the reviews\n",
            "------------------------------\n",
            "Here i stayed with my family for a week, their hospitility is supremly amazing, helpful staff, delicious food and clean room, highly recommended to people those who are looking for a decent stay near Jayanagar \n",
            "\n",
            "Beautiful place, clean and hygienic room, professional and courteous staff, mouthwatering and delicious food, highly recommended to those who is looking for a decent and budget friendly hotel in Jayanagar \n",
            "\n",
            "My experience with Lord Eco Inn is extremely great , I stayed here 7 nights , beautiful place with supportive staff who are always ready to help u . They have an inhouse restaurant where they serve delicious & hygienic food . \n",
            "\n",
            "Always had an amazing experience whenever I stay here. Totally love this place and ambience is highly upto the mark , staffs are always concern ur needs and ready to help u always . strongly recommend to those who has not visited a homly experience \n",
            "\n",
            "Had a great stay, beautiful place and tasty food, staffs were too helpful and courteous. Definitely visiting again.. Special thanks to the General Manager Mr. Vikash for supporting us to see the city during our stay \n",
            "\n",
            "Good place at a very good location.. well maintained and neat ambience. Very good and courteous staff...good food and lots of variety.. good halls for small functions, with good facilities. Go for it!!! \n",
            "\n",
            "\"Truly fantastic stay.. Superb service and never ending hospitality. I will surely recommend to my friends when ever they travel to go to Lords Eco Inn Hotel Jayanagar Bangalore. Loved the food, amazing breakfast. Thanks Team for the services.\" I specially thanks to Mr. Vikash to make my stay very memorable. During my stay he helped me alot to get my stay comfortable. \n",
            "\n",
            "Hotel is well mantain and cleanliness is perfect .service is awesome. Staff was helpfull, when I will travel towards Bangalore will for sure stay in this hotel only .   I wish best of luck to entire team and keep it up for best service \n",
            "\n",
            "Everything was fine. Enjoyed the stay. Thanks to Lords Eco Inn!! A good view of the city from the 4th floor. Requested extra drinking water, hair shampoo and body lotion. Room service provided all the necessities within 10 minutes. \n",
            "\n",
            "Food and stay was good. Ms. Juli from front desk was warm and welcoming. No issue during check in and check out.it was very easy efficient. We had a great lunch over there the food was good and the people in restaurant is really helpful. And housekeeping staffs are very helpful and they maintain the cleaning and hygiene. \n",
            "\n",
            "Had a comfortable  stay at Lords Bangalore. The front office staff Ms. Juli were very courteous  and helpful, Room was clean and comfortable, breakfast was well served. Check out was smooth. We will visit again. Thank you  so much for your best service. \n",
            "\n",
            "Full quality of hotel service was really decent. I liked my room and house keeping was also good. Especially I would like to admit chef Naveen. He cooks very tasty meal and as i don't eat spicy food, like local people, he cooked for me not spicy one. He is really excellent person. Ms. Kuku staff from the hotel Room service, was also very good, they are awesome guys. At large all people working here are pleasant and hospitable. \n",
            "\n",
            "We stayed at the Lords Eco Inn for a week and I should agree that the stay was quite pleasant. The standout points are the hospitality of the staffs in the reception, the dining area and the housekeeping staff. Full marks to Ms. Kuku at room service for patiently attending to our requests. \n",
            "\n",
            "I am stayed past 1 week. The room service and all very superb especially the cleaning girl Ms. Anita and Poonam are nice and their cleaning so good and the hotel front desk girl named Juli is very helpful and kind lady. Which time I call the service, she was help me as soon as possible....Love u guys. \n",
            "\n",
            "Had an incredible stay! Everything was super hygiene considering the current situations. And special thanks to Ms. Kuku for serving us the food in the room because we are scared to go to the restaurant. We loved the hospitality. Even the slightest thing was taken care of and thanks Ms. Kuku for it. And special mention to Ms. Anita for always keeping the room ready for us. Constantly checking an our needs and being the finest host. Lords is like home away from home. Kudos to these guys doing such incredible job to keep guests happy. \n",
            "\n",
            "I stayed here with my family for a weekend. Hotel located in nice area and maintained well. We had booked under stay action package and get early check in due to lockdown. Room was spacious was cleaned well. Front desk staff Ms. Juli was more helpful made our stay comfortable. We will definitely come back this beautiful hotel. \n",
            "\n",
            "Nice cleaning and nice place to stay, people here were very courteous  and house keeping  was also quite neat and tidy. Ms. Anita was very courteous  and took care of cleaning well. Informed and helped  the customer in knowing certain details. \n",
            "\n",
            "I have stayed here thrice because my work area is a few doors away. Each time I have had a problem but never has it been this bad. There were cockroaches roaming freely in the room and shower. Almost every thing needs fixing, yellowish stained bed linen, super old towels, Tv that does not work, lights that dont work, Shower fittings that are broken - almost everything needs to be fixed. In all the rooms that I stayed the stem of the ceiling fan touches the false ceiling sending out vibrations that can give you a head ache in a few minutes. I stayed in the pavilion room which is the superior one. You can imagine the condition of the standard rooms.  They seriously need to think about injecting some capital into this property. As of now stay away ! \n",
            "\n",
            "Right from the front desk executive to the manager of the hotel make you feel comfortable with the best of services they have to offer. Their kitchen also offers a variety of Indian and Chinese cuisines. The room service is also phenomenal. Over all a wonderful place to stay no matter what your purpose of visit is.  Kudos to Vikas and his team. \n",
            "\n",
            "Stayed twice here in last 15days .. liked the hotel & location.. Excellent food quality.. all staff helpful always ready to help .. housekeeping service also very good thanks to Ms. Priya ..special thanks to Vikash and all hotel team members  .. highly recommended \n",
            "\n",
            "Recently I have stayed in Lords Eco Inn Hotel in room no 203, I must admit that the room was very big, neat & clean and considering current situation of Corona I felt really safe the sanitization from check in to check out was really commendable the food was good even though choice was limited but quality was good, special thanks to GM Mr. Vikash kumar hospitality for taking care of entire length of stay. \n",
            "\n",
            "we reached the hotel at early morning 7 and requested for an early check in. we were a family of 3 . I requested a room atleast just for all of us to relax for a while and the staff immediately gave a club room without any waiting the room was also  was spacious . service is excellent and cleanliness was great . the towels were little worn out .  the bathroom wash basin was choked but they got it repaired immediately.  just being little picky  there was no shaving kit or hair drier in the rooms.  rest all the toiletries and coffee /tea were available   we opted for a standard room non breakfast so didn't try any meals .   there is an excellent supermarket cum cafe few meters away which serves excellent dishes . it's called simply  naamdharis .  location is great , area is \n",
            "\n",
            "I stayed here because I had work close by. This budget Hotel is clean but maintenance is poor. Signs of wear and tare are every where. If possible take the larger club room it comes with a balcony. Just a handful of staff maintain this place and they are a nice lot. Quality of breakfast in the small restaurant was erratic. Avoid the Idly which are a disaster. The hotel is in a quiet side road in Jayanagar and there is a nice restaurant and departmental store called Simpli Namdhari about 50 yards away. The linen and bedding badly need to be replaced. I had a convenient stay. \n",
            "\n",
            "It is centrally located and very close to Ashoka pillar. Neat and well maintained. Has a small in house restaurant. Two training rooms which can accommodate 25 to 39 participants are available. Facilities are good. Value for money. \n",
            "\n",
            "Great experience to be with lords Eco inn .... very nice rooms, professional staff,nature ambience,ambrocious food,timely room service cleanliness,friendly and very cordial front office and special thanks to miss pallavi for exibiting professional hospitality , i love to be here again  .... \n",
            "\n",
            "Great Ambience, High quality rooms and vikash and his very courteous staff made the stay at the lords eco inn very enjoyable.well located And special thanks to Pallavi from front desk..... thanks guys keep It up....... \n",
            "\n",
            "The room and toilet were neat and clean. The hotel was well maintained with good supporting staff. It has a restaurant running with room service. The food preparation is good. The complimentary breakfast served is good with good options. The location is good in a residential area. App based taxi are readily available. Bus stop is close by, can find autos from the main road. \n",
            "\n",
            "Excellent service.well cleaned and maintained rooms.The staff well trained and very friendly .I must specially mention the receptionist Ms. pallavi name who assured that i get all that i required from the rest of the staff.And must also appreciate the room service staff . they are also very friendly. \n",
            "\n",
            "This property is well balanced modern elegance. And the staff is super helpful and attendant without being annoying . Special thanks to pallavi at the front desk and Navin  (chef)from kitchen .Treat me like a celebrity from the moment . \n",
            "\n",
            "Visited this place with my colleagues for a  business trip on January. A pleasant place to stay clean environment good and tasty food. Excellent service very to friendly staff (pallavi, Sam, kuku) thanks to all \n",
            "\n",
            "Stayed here with family , checked-in late night  and first impression of room was good. Few minutes after settling in the room realised bathroom floor was all wet and water from the drainage was all over the floor. Yuk..... We informed Reception and manger was not even bothered to come and talk to us about the issue. He sent one of the staff member who was helpless, he moped the floor and still water was coming out of the drainage... they told us to call reception every time the floor got wet so that staff can wipe all water. What a great idea The Manager gave... Imagine doing it all night... who would want to do it? Room was smelly.. Manager was not even ready to provide different room and was lying all rooms are booked. After yelling on the staff different room was alloted. \n",
            "\n",
            "The staff is well groomed with right leadership and this can be experienced from the hospitality we get during the stay. The team arranges excellent service and provides  attention to every details. specially i want to say thanks to  pallavi from front desk because she gives some idea about the nearest place for visit and it was amazing ...wonderila  such a nice place. \n",
            "\n",
            "I had a wonderful time to relax & reenergize between my business meetings . Great service and excellent food .Especially thanks to Front Desk staff. Surely i recommend this Hotel to my Family and friends to book here . I will visit soon to this hotel. \n",
            "\n",
            "Hi,  Here is another corporate review of one of the places I have stayed at during my official trips....   Good... 1. Staff is very cooperative 2. Manager is very cooperative 3. Ambience is Decent 4. Location is Prime for business travellers 5. Accessibility to major parts of the city is good 6. Major facilities are available nearby like Eateries, Medicine shops, Coffee Day etc  Bad.... 1. Food can be moved up a bit in quality 2. Staff needs to be more trained on maintenance of the location 3. Post 11 Pm the kitchen is closed so would be difficult if you have midnight hunger pangs 4. Mosquito's can be a issue if you open the window (but that is off course not a hotel fault)....  Have a good trip... and do press like if you appreciate the review. \n",
            "\n",
            "Had recently visited this place along with  my wife. I must stay at this place is worth cherishing...the staff is very warm and always wore a smile...and special thanks to rajani ,priya and pallavi they were very kind and always there to help. Big thank you to entire team. \n",
            "\n",
            "It's a nice comfy hotel. Stayed in club room. Rooms are big, has a balcony. The staff is really courteous. Always ready to be of help. The location is good. It's just walkable distance from a main road and thus the nights are peaceful .. you just need to request for a service and the hotel staff will be ready to help you. If u are looking for a hotel with all bells and whistles then this is not for you .. but if u are looking for a comfortable stay. Which is near to main location and want a peaceful stay then this is the place for you \n",
            "\n",
            "Hi... I have been to Bangalore couple of times and explored multiple properties as well. After exploring I got the chance to experience such a nice property. The construction is quite new and the management is maintaining it so well. They have their in house restaurant which includes variety of food and the staff of both kitchen and house keeping are so friendly. They will go out of the way for customer satisfaction. The room contains all the basic things and hygiene. The location and area is really good and impressive. Everything is nearby and within your reach.Overall it is really a good option to choose. \n",
            "\n",
            "Very beautiful budget hotel. Peaceful area. Stayed during a business tour. Very comfortable and clean room.  And very cooperative staff. Hospitality of Mr Rafael and team is highly appreciable. Will visit soon.  Keep the good work going \n",
            "\n",
            "Excellent hotel I really do had a nice experience there. I love  the food, and I like the services, i like the way the staff talk to their customer with such a respect. I really like staff who's name was tseten. He was such a nice guy. The way he talk to the customer.. his politeness. I love that..... Overall perfect hotel for me.....I do look forward to visit again ... Much love... \n",
            "\n",
            "It was excellent experience visiting this hotel Staff was cooperative Rooms were and hotels were neat clean and tidy..  it was value for money.. will surely visit again.. a great hospitality experience \n",
            "\n",
            "A simple budget hotel nestled in the green Jayanagar Ist block with no pretensions. The property was simple yet had all the amenities you can ask for in a good budget hotel except for the staff......  The staff was exceptional! From the GM Raphael Shah to the front office staff of Bikram and team - their hospitality, care and courtesy completely bowled us over! Hats off to such employees - the management are lucky to have them and it would be our pleasure to visit and enjoy this property on future ocassions. \n",
            "\n",
            "When i landed there they had no room which was ready. Was given a room after 15 mins of waiting. The room was not maintained. The balcony door opened by itself and wouldnt lock. The AC had no remote and used to on and off through the MCB switch. The washroom was full of small insects. Many switches and light fittings dont work. In a double room only 1 towel was kept. It takes them a reminder to provide a 2nd one. The breakfast was extremely mediocre and even not replinished on time. The in room dining food was tasteless and chapatis were cold. Not a value for money place at all. Avoid \n",
            "\n",
            "Situated In commercial area of Jayanagar , fantastic Location . Nice neat and clean rooms . Buffet breakfast was good , specially the South Indian Fare . Friendly staff provided quick prompt service. Would recommend. \n",
            "\n",
            "It is a newly opened Hotel , but short of staff.They want to have bookings but unable to provide service.They do not have a chef too and the staff themselves try and make the dishes according to their knowledge. \n",
            "\n",
            "Manager Mr. Sanjeev is the worst person I have seen in the Hotel Industry.  In spite of us having a booking for nearly 15 rooms, the respect/service we got were peanuts. We forced to take back our advance and he wasn't even sorry he lost the big booking.  Water is a problem in the bathroom, Linen is not clean sometimes but the tipping point is the behavior of Mr. Sanjeev.  Please do not book in this hotel. You will repent. \n",
            "\n",
            "Rooms we were very dirty. My grandparents stayed in this hotel twice and we did not get hot water in the morning when we wanted to shower. If i call up the reception, the lady said that she cannot do anything as she does  not know what to do. When i spoke to the manager Mr. Sanjeev, he was very very rude and he said you cannot call for every small problem. He told us if we want we can check out. Very very rude of him. He should be fired. \n",
            "\n",
            "A Budget Hotel, in a residential area, would be fine budget tight meetings. Though the courtesy was good, poor service hold one back from base requirements of a budget hotel. Also safety features not taken in mind as no emergency exits visible \n",
            "\n",
            "nice ,well done  small hotel but rooms are very spacious,the location is calm and quite ,not much options for food,neat and clean place,was comfortable as my work place was nearby ,for me it was worth for the price in a city like bengaluru,and that too such central location.would like to come back \n",
            "\n",
            "Could not provide us with the rooms that we had booked almost one month prior. Service was really bad. Manager was abusive and does not know how to speak to customers. I would suggest that one should avoid staying at this place. \n",
            "\n",
            "I have stayed in this hotel around 4-5 weeks due to my business trips. Rooms are clean and neat. Room service is good and have a good experience. Support staff is courteous and helpful. Hotel location is good and near to market and Lalbagh Garden ... \n",
            "\n",
            "Stay was very comfortable,room are were very clean and spacious with good interiors,had a good experience with staff at front office Mr.Lokesh was very courteous and kind enough to welcome,had a homely feeling during my stay, Felt the same experience during my stay at Lords Plaza Surat, Top3 Lords Resorts Bhavanagar, Revival Lords in Vadodara, Food and service team was also very hospitable,would rates it as Value For  Money hotel,would suggest to stay when trvelling to Bangalore in Jayanagar area. \n",
            "\n",
            "Rooms were nice, comfortable and clean. Food was good and so was the service. Hospitable and courteous staff. Convenient location. True value for money. Added advantage being that the market is walking distance. Pleasant weather added to the walking experience. \n",
            "\n",
            "Best Service I experienced in Bangalore, The Lords Hotels are fantastic throughout I have experienced; Lords Plaza in Bangalore, Surat and Ankleshwar, the service is extraordinary and very welcoming managers and staff. Do not miss the restaurant Blue Coriander! I would like to visit again and again. Keep up the good work. \n",
            "\n",
            "The rooms were very clean and spacious,  staff was supportive and homely . breakfast and room service was good. wifi offered complimentary .very conveniently located, good for family and corporate clients. \n",
            "\n",
            "It was a most memorable & wonder full stay at Lords Eco Inn Jayanagar.  Perfect food with excellent service, very good & courteous staff. Rooms are nicely done with good interiors. Good value for money. Will like to recommend those all who all are travelling to Jayanagar. \n",
            "\n",
            "I stayed with my family for two nights. This hotel is very beautiful and it's location is so good- It is very near to the Garden called Lalbagh and shopping complex. We chose to ate at restaurant, took buffet which was well spread with various delicious dishes. Service staff is very caring & courteous, They refill immediately as you finish your last bite or beverage.We had great fine dinning experience. We stayed in four to five Lords hotels and i think lords covers all prime cities. Great Job Lords Hotels & Resorts....! \n",
            "\n",
            "This is a good small hotel in the cities center of banguluru with all facilities. Good neat n clean rooms. It is part of lords hotels which has very good market recognition in western part of India. The food taken from room service was very good. \n",
            "\n",
            "It is a boutique hotel with excellent homely atmosphere. The rooms have all the modern amenities. Staff are very cooperative and friendly. The quality of food is also good and the location of the hotel is perfect for a business traveller. \n",
            "\n",
            "We stayed here for our official visit. All staff are very helpful. Chef was great to prepare the special food for all of us. Conference facility was excellent. Rooms are excellent and spacious. Very good room service. Keep it up !!! \n",
            "\n",
            "Have stayed at Lords Eco Inn Jayanagar, Banglore during my recent business visit in the city. Very conveniently located near to city and airport. New property with quiet decent room at very affordable price. Food is good, as well the hospitality, would definitely recommend to all business travellers. \n",
            "\n",
            "I stayed at this hotel when it was just opening up and had a great experience. The room size if great and so is the location 100%. I had work at Jayanagar and really did not need to spend too much. If you are looking at value for money and also location then this is the right place. Their restaurant would serve all basic items which taste home made. Over all a great stay for the price paid as these guys are reasonable \n",
            "\n",
            "Hello People, This hotel us a perfect destination for  long stays. It has a a mini kitchen as well. The staff is extremely helpful. A small hotel, but perfect as it is away from the hustle bustle of the city. Rooms are perfect. It actually a true value hotel as they claim. \n",
            "\n"
          ]
        }
      ]
    },
    {
      "cell_type": "markdown",
      "metadata": {
        "id": "73aa91aa"
      },
      "source": [
        "# Data cleaning"
      ]
    },
    {
      "cell_type": "code",
      "execution_count": 149,
      "metadata": {
        "id": "55d2a077"
      },
      "outputs": [],
      "source": [
        "import pandas as pd\n",
        "from string import *"
      ]
    },
    {
      "cell_type": "code",
      "execution_count": 150,
      "metadata": {
        "id": "9ac28071",
        "outputId": "3ae32ece-9a59-402b-d155-5f4ae3a2ee93",
        "colab": {
          "base_uri": "https://localhost:8080/",
          "height": 423
        }
      },
      "outputs": [
        {
          "output_type": "execute_result",
          "data": {
            "text/plain": [
              "                                               review\n",
              "0   Here i stayed with my family for a week, their...\n",
              "1   Beautiful place, clean and hygienic room, prof...\n",
              "2   My experience with Lord Eco Inn is extremely g...\n",
              "3   Always had an amazing experience whenever I st...\n",
              "4   Had a great stay, beautiful place and tasty fo...\n",
              "..                                                ...\n",
              "57  It is a boutique hotel with excellent homely a...\n",
              "58  We stayed here for our official visit. All sta...\n",
              "59  Have stayed at Lords Eco Inn Jayanagar, Banglo...\n",
              "60  I stayed at this hotel when it was just openin...\n",
              "61  Hello People, This hotel us a perfect destinat...\n",
              "\n",
              "[62 rows x 1 columns]"
            ],
            "text/html": [
              "\n",
              "  <div id=\"df-b9ad0258-6517-4ece-853f-7330bfea5565\">\n",
              "    <div class=\"colab-df-container\">\n",
              "      <div>\n",
              "<style scoped>\n",
              "    .dataframe tbody tr th:only-of-type {\n",
              "        vertical-align: middle;\n",
              "    }\n",
              "\n",
              "    .dataframe tbody tr th {\n",
              "        vertical-align: top;\n",
              "    }\n",
              "\n",
              "    .dataframe thead th {\n",
              "        text-align: right;\n",
              "    }\n",
              "</style>\n",
              "<table border=\"1\" class=\"dataframe\">\n",
              "  <thead>\n",
              "    <tr style=\"text-align: right;\">\n",
              "      <th></th>\n",
              "      <th>review</th>\n",
              "    </tr>\n",
              "  </thead>\n",
              "  <tbody>\n",
              "    <tr>\n",
              "      <th>0</th>\n",
              "      <td>Here i stayed with my family for a week, their...</td>\n",
              "    </tr>\n",
              "    <tr>\n",
              "      <th>1</th>\n",
              "      <td>Beautiful place, clean and hygienic room, prof...</td>\n",
              "    </tr>\n",
              "    <tr>\n",
              "      <th>2</th>\n",
              "      <td>My experience with Lord Eco Inn is extremely g...</td>\n",
              "    </tr>\n",
              "    <tr>\n",
              "      <th>3</th>\n",
              "      <td>Always had an amazing experience whenever I st...</td>\n",
              "    </tr>\n",
              "    <tr>\n",
              "      <th>4</th>\n",
              "      <td>Had a great stay, beautiful place and tasty fo...</td>\n",
              "    </tr>\n",
              "    <tr>\n",
              "      <th>...</th>\n",
              "      <td>...</td>\n",
              "    </tr>\n",
              "    <tr>\n",
              "      <th>57</th>\n",
              "      <td>It is a boutique hotel with excellent homely a...</td>\n",
              "    </tr>\n",
              "    <tr>\n",
              "      <th>58</th>\n",
              "      <td>We stayed here for our official visit. All sta...</td>\n",
              "    </tr>\n",
              "    <tr>\n",
              "      <th>59</th>\n",
              "      <td>Have stayed at Lords Eco Inn Jayanagar, Banglo...</td>\n",
              "    </tr>\n",
              "    <tr>\n",
              "      <th>60</th>\n",
              "      <td>I stayed at this hotel when it was just openin...</td>\n",
              "    </tr>\n",
              "    <tr>\n",
              "      <th>61</th>\n",
              "      <td>Hello People, This hotel us a perfect destinat...</td>\n",
              "    </tr>\n",
              "  </tbody>\n",
              "</table>\n",
              "<p>62 rows × 1 columns</p>\n",
              "</div>\n",
              "      <button class=\"colab-df-convert\" onclick=\"convertToInteractive('df-b9ad0258-6517-4ece-853f-7330bfea5565')\"\n",
              "              title=\"Convert this dataframe to an interactive table.\"\n",
              "              style=\"display:none;\">\n",
              "        \n",
              "  <svg xmlns=\"http://www.w3.org/2000/svg\" height=\"24px\"viewBox=\"0 0 24 24\"\n",
              "       width=\"24px\">\n",
              "    <path d=\"M0 0h24v24H0V0z\" fill=\"none\"/>\n",
              "    <path d=\"M18.56 5.44l.94 2.06.94-2.06 2.06-.94-2.06-.94-.94-2.06-.94 2.06-2.06.94zm-11 1L8.5 8.5l.94-2.06 2.06-.94-2.06-.94L8.5 2.5l-.94 2.06-2.06.94zm10 10l.94 2.06.94-2.06 2.06-.94-2.06-.94-.94-2.06-.94 2.06-2.06.94z\"/><path d=\"M17.41 7.96l-1.37-1.37c-.4-.4-.92-.59-1.43-.59-.52 0-1.04.2-1.43.59L10.3 9.45l-7.72 7.72c-.78.78-.78 2.05 0 2.83L4 21.41c.39.39.9.59 1.41.59.51 0 1.02-.2 1.41-.59l7.78-7.78 2.81-2.81c.8-.78.8-2.07 0-2.86zM5.41 20L4 18.59l7.72-7.72 1.47 1.35L5.41 20z\"/>\n",
              "  </svg>\n",
              "      </button>\n",
              "      \n",
              "  <style>\n",
              "    .colab-df-container {\n",
              "      display:flex;\n",
              "      flex-wrap:wrap;\n",
              "      gap: 12px;\n",
              "    }\n",
              "\n",
              "    .colab-df-convert {\n",
              "      background-color: #E8F0FE;\n",
              "      border: none;\n",
              "      border-radius: 50%;\n",
              "      cursor: pointer;\n",
              "      display: none;\n",
              "      fill: #1967D2;\n",
              "      height: 32px;\n",
              "      padding: 0 0 0 0;\n",
              "      width: 32px;\n",
              "    }\n",
              "\n",
              "    .colab-df-convert:hover {\n",
              "      background-color: #E2EBFA;\n",
              "      box-shadow: 0px 1px 2px rgba(60, 64, 67, 0.3), 0px 1px 3px 1px rgba(60, 64, 67, 0.15);\n",
              "      fill: #174EA6;\n",
              "    }\n",
              "\n",
              "    [theme=dark] .colab-df-convert {\n",
              "      background-color: #3B4455;\n",
              "      fill: #D2E3FC;\n",
              "    }\n",
              "\n",
              "    [theme=dark] .colab-df-convert:hover {\n",
              "      background-color: #434B5C;\n",
              "      box-shadow: 0px 1px 3px 1px rgba(0, 0, 0, 0.15);\n",
              "      filter: drop-shadow(0px 1px 2px rgba(0, 0, 0, 0.3));\n",
              "      fill: #FFFFFF;\n",
              "    }\n",
              "  </style>\n",
              "\n",
              "      <script>\n",
              "        const buttonEl =\n",
              "          document.querySelector('#df-b9ad0258-6517-4ece-853f-7330bfea5565 button.colab-df-convert');\n",
              "        buttonEl.style.display =\n",
              "          google.colab.kernel.accessAllowed ? 'block' : 'none';\n",
              "\n",
              "        async function convertToInteractive(key) {\n",
              "          const element = document.querySelector('#df-b9ad0258-6517-4ece-853f-7330bfea5565');\n",
              "          const dataTable =\n",
              "            await google.colab.kernel.invokeFunction('convertToInteractive',\n",
              "                                                     [key], {});\n",
              "          if (!dataTable) return;\n",
              "\n",
              "          const docLinkHtml = 'Like what you see? Visit the ' +\n",
              "            '<a target=\"_blank\" href=https://colab.research.google.com/notebooks/data_table.ipynb>data table notebook</a>'\n",
              "            + ' to learn more about interactive tables.';\n",
              "          element.innerHTML = '';\n",
              "          dataTable['output_type'] = 'display_data';\n",
              "          await google.colab.output.renderOutput(dataTable, element);\n",
              "          const docLink = document.createElement('div');\n",
              "          docLink.innerHTML = docLinkHtml;\n",
              "          element.appendChild(docLink);\n",
              "        }\n",
              "      </script>\n",
              "    </div>\n",
              "  </div>\n",
              "  "
            ]
          },
          "metadata": {},
          "execution_count": 150
        }
      ],
      "source": [
        "d = {'review': res}\n",
        "df = pd.DataFrame(data=d)\n",
        "df"
      ]
    },
    {
      "cell_type": "markdown",
      "metadata": {
        "id": "58516822"
      },
      "source": [
        "## Lowercase"
      ]
    },
    {
      "cell_type": "code",
      "execution_count": 151,
      "metadata": {
        "id": "14ee40fc",
        "outputId": "2c71e9db-42d5-4428-c2be-97b35a2ec597",
        "colab": {
          "base_uri": "https://localhost:8080/",
          "height": 423
        }
      },
      "outputs": [
        {
          "output_type": "execute_result",
          "data": {
            "text/plain": [
              "                                               review  \\\n",
              "0   Here i stayed with my family for a week, their...   \n",
              "1   Beautiful place, clean and hygienic room, prof...   \n",
              "2   My experience with Lord Eco Inn is extremely g...   \n",
              "3   Always had an amazing experience whenever I st...   \n",
              "4   Had a great stay, beautiful place and tasty fo...   \n",
              "..                                                ...   \n",
              "57  It is a boutique hotel with excellent homely a...   \n",
              "58  We stayed here for our official visit. All sta...   \n",
              "59  Have stayed at Lords Eco Inn Jayanagar, Banglo...   \n",
              "60  I stayed at this hotel when it was just openin...   \n",
              "61  Hello People, This hotel us a perfect destinat...   \n",
              "\n",
              "                                           review_old  \n",
              "0   here i stayed with my family for a week, their...  \n",
              "1   beautiful place, clean and hygienic room, prof...  \n",
              "2   my experience with lord eco inn is extremely g...  \n",
              "3   always had an amazing experience whenever i st...  \n",
              "4   had a great stay, beautiful place and tasty fo...  \n",
              "..                                                ...  \n",
              "57  it is a boutique hotel with excellent homely a...  \n",
              "58  we stayed here for our official visit. all sta...  \n",
              "59  have stayed at lords eco inn jayanagar, banglo...  \n",
              "60  i stayed at this hotel when it was just openin...  \n",
              "61  hello people, this hotel us a perfect destinat...  \n",
              "\n",
              "[62 rows x 2 columns]"
            ],
            "text/html": [
              "\n",
              "  <div id=\"df-714c38ab-07e1-43e6-8abd-ea1396fd0c0f\">\n",
              "    <div class=\"colab-df-container\">\n",
              "      <div>\n",
              "<style scoped>\n",
              "    .dataframe tbody tr th:only-of-type {\n",
              "        vertical-align: middle;\n",
              "    }\n",
              "\n",
              "    .dataframe tbody tr th {\n",
              "        vertical-align: top;\n",
              "    }\n",
              "\n",
              "    .dataframe thead th {\n",
              "        text-align: right;\n",
              "    }\n",
              "</style>\n",
              "<table border=\"1\" class=\"dataframe\">\n",
              "  <thead>\n",
              "    <tr style=\"text-align: right;\">\n",
              "      <th></th>\n",
              "      <th>review</th>\n",
              "      <th>review_old</th>\n",
              "    </tr>\n",
              "  </thead>\n",
              "  <tbody>\n",
              "    <tr>\n",
              "      <th>0</th>\n",
              "      <td>Here i stayed with my family for a week, their...</td>\n",
              "      <td>here i stayed with my family for a week, their...</td>\n",
              "    </tr>\n",
              "    <tr>\n",
              "      <th>1</th>\n",
              "      <td>Beautiful place, clean and hygienic room, prof...</td>\n",
              "      <td>beautiful place, clean and hygienic room, prof...</td>\n",
              "    </tr>\n",
              "    <tr>\n",
              "      <th>2</th>\n",
              "      <td>My experience with Lord Eco Inn is extremely g...</td>\n",
              "      <td>my experience with lord eco inn is extremely g...</td>\n",
              "    </tr>\n",
              "    <tr>\n",
              "      <th>3</th>\n",
              "      <td>Always had an amazing experience whenever I st...</td>\n",
              "      <td>always had an amazing experience whenever i st...</td>\n",
              "    </tr>\n",
              "    <tr>\n",
              "      <th>4</th>\n",
              "      <td>Had a great stay, beautiful place and tasty fo...</td>\n",
              "      <td>had a great stay, beautiful place and tasty fo...</td>\n",
              "    </tr>\n",
              "    <tr>\n",
              "      <th>...</th>\n",
              "      <td>...</td>\n",
              "      <td>...</td>\n",
              "    </tr>\n",
              "    <tr>\n",
              "      <th>57</th>\n",
              "      <td>It is a boutique hotel with excellent homely a...</td>\n",
              "      <td>it is a boutique hotel with excellent homely a...</td>\n",
              "    </tr>\n",
              "    <tr>\n",
              "      <th>58</th>\n",
              "      <td>We stayed here for our official visit. All sta...</td>\n",
              "      <td>we stayed here for our official visit. all sta...</td>\n",
              "    </tr>\n",
              "    <tr>\n",
              "      <th>59</th>\n",
              "      <td>Have stayed at Lords Eco Inn Jayanagar, Banglo...</td>\n",
              "      <td>have stayed at lords eco inn jayanagar, banglo...</td>\n",
              "    </tr>\n",
              "    <tr>\n",
              "      <th>60</th>\n",
              "      <td>I stayed at this hotel when it was just openin...</td>\n",
              "      <td>i stayed at this hotel when it was just openin...</td>\n",
              "    </tr>\n",
              "    <tr>\n",
              "      <th>61</th>\n",
              "      <td>Hello People, This hotel us a perfect destinat...</td>\n",
              "      <td>hello people, this hotel us a perfect destinat...</td>\n",
              "    </tr>\n",
              "  </tbody>\n",
              "</table>\n",
              "<p>62 rows × 2 columns</p>\n",
              "</div>\n",
              "      <button class=\"colab-df-convert\" onclick=\"convertToInteractive('df-714c38ab-07e1-43e6-8abd-ea1396fd0c0f')\"\n",
              "              title=\"Convert this dataframe to an interactive table.\"\n",
              "              style=\"display:none;\">\n",
              "        \n",
              "  <svg xmlns=\"http://www.w3.org/2000/svg\" height=\"24px\"viewBox=\"0 0 24 24\"\n",
              "       width=\"24px\">\n",
              "    <path d=\"M0 0h24v24H0V0z\" fill=\"none\"/>\n",
              "    <path d=\"M18.56 5.44l.94 2.06.94-2.06 2.06-.94-2.06-.94-.94-2.06-.94 2.06-2.06.94zm-11 1L8.5 8.5l.94-2.06 2.06-.94-2.06-.94L8.5 2.5l-.94 2.06-2.06.94zm10 10l.94 2.06.94-2.06 2.06-.94-2.06-.94-.94-2.06-.94 2.06-2.06.94z\"/><path d=\"M17.41 7.96l-1.37-1.37c-.4-.4-.92-.59-1.43-.59-.52 0-1.04.2-1.43.59L10.3 9.45l-7.72 7.72c-.78.78-.78 2.05 0 2.83L4 21.41c.39.39.9.59 1.41.59.51 0 1.02-.2 1.41-.59l7.78-7.78 2.81-2.81c.8-.78.8-2.07 0-2.86zM5.41 20L4 18.59l7.72-7.72 1.47 1.35L5.41 20z\"/>\n",
              "  </svg>\n",
              "      </button>\n",
              "      \n",
              "  <style>\n",
              "    .colab-df-container {\n",
              "      display:flex;\n",
              "      flex-wrap:wrap;\n",
              "      gap: 12px;\n",
              "    }\n",
              "\n",
              "    .colab-df-convert {\n",
              "      background-color: #E8F0FE;\n",
              "      border: none;\n",
              "      border-radius: 50%;\n",
              "      cursor: pointer;\n",
              "      display: none;\n",
              "      fill: #1967D2;\n",
              "      height: 32px;\n",
              "      padding: 0 0 0 0;\n",
              "      width: 32px;\n",
              "    }\n",
              "\n",
              "    .colab-df-convert:hover {\n",
              "      background-color: #E2EBFA;\n",
              "      box-shadow: 0px 1px 2px rgba(60, 64, 67, 0.3), 0px 1px 3px 1px rgba(60, 64, 67, 0.15);\n",
              "      fill: #174EA6;\n",
              "    }\n",
              "\n",
              "    [theme=dark] .colab-df-convert {\n",
              "      background-color: #3B4455;\n",
              "      fill: #D2E3FC;\n",
              "    }\n",
              "\n",
              "    [theme=dark] .colab-df-convert:hover {\n",
              "      background-color: #434B5C;\n",
              "      box-shadow: 0px 1px 3px 1px rgba(0, 0, 0, 0.15);\n",
              "      filter: drop-shadow(0px 1px 2px rgba(0, 0, 0, 0.3));\n",
              "      fill: #FFFFFF;\n",
              "    }\n",
              "  </style>\n",
              "\n",
              "      <script>\n",
              "        const buttonEl =\n",
              "          document.querySelector('#df-714c38ab-07e1-43e6-8abd-ea1396fd0c0f button.colab-df-convert');\n",
              "        buttonEl.style.display =\n",
              "          google.colab.kernel.accessAllowed ? 'block' : 'none';\n",
              "\n",
              "        async function convertToInteractive(key) {\n",
              "          const element = document.querySelector('#df-714c38ab-07e1-43e6-8abd-ea1396fd0c0f');\n",
              "          const dataTable =\n",
              "            await google.colab.kernel.invokeFunction('convertToInteractive',\n",
              "                                                     [key], {});\n",
              "          if (!dataTable) return;\n",
              "\n",
              "          const docLinkHtml = 'Like what you see? Visit the ' +\n",
              "            '<a target=\"_blank\" href=https://colab.research.google.com/notebooks/data_table.ipynb>data table notebook</a>'\n",
              "            + ' to learn more about interactive tables.';\n",
              "          element.innerHTML = '';\n",
              "          dataTable['output_type'] = 'display_data';\n",
              "          await google.colab.output.renderOutput(dataTable, element);\n",
              "          const docLink = document.createElement('div');\n",
              "          docLink.innerHTML = docLinkHtml;\n",
              "          element.appendChild(docLink);\n",
              "        }\n",
              "      </script>\n",
              "    </div>\n",
              "  </div>\n",
              "  "
            ]
          },
          "metadata": {},
          "execution_count": 151
        }
      ],
      "source": [
        "df['review_old'] = df['review'].apply(lambda x: \" \".join(x.lower() \n",
        "for x in x.split()))\n",
        "df"
      ]
    },
    {
      "cell_type": "markdown",
      "metadata": {
        "id": "2542486e"
      },
      "source": [
        "## Removing punctuation"
      ]
    },
    {
      "cell_type": "code",
      "execution_count": 152,
      "metadata": {
        "id": "9edd60f5"
      },
      "outputs": [],
      "source": [
        "df['review_new'] = df['review_old'].str.replace('[^\\w\\s]',\"\", regex=True)"
      ]
    },
    {
      "cell_type": "code",
      "execution_count": 153,
      "metadata": {
        "id": "6be21294",
        "outputId": "79f62eba-d993-43d7-91df-27bf7baf32ba",
        "colab": {
          "base_uri": "https://localhost:8080/",
          "height": 423
        }
      },
      "outputs": [
        {
          "output_type": "execute_result",
          "data": {
            "text/plain": [
              "                                               review  \\\n",
              "0   Here i stayed with my family for a week, their...   \n",
              "1   Beautiful place, clean and hygienic room, prof...   \n",
              "2   My experience with Lord Eco Inn is extremely g...   \n",
              "3   Always had an amazing experience whenever I st...   \n",
              "4   Had a great stay, beautiful place and tasty fo...   \n",
              "..                                                ...   \n",
              "57  It is a boutique hotel with excellent homely a...   \n",
              "58  We stayed here for our official visit. All sta...   \n",
              "59  Have stayed at Lords Eco Inn Jayanagar, Banglo...   \n",
              "60  I stayed at this hotel when it was just openin...   \n",
              "61  Hello People, This hotel us a perfect destinat...   \n",
              "\n",
              "                                           review_old  \\\n",
              "0   here i stayed with my family for a week, their...   \n",
              "1   beautiful place, clean and hygienic room, prof...   \n",
              "2   my experience with lord eco inn is extremely g...   \n",
              "3   always had an amazing experience whenever i st...   \n",
              "4   had a great stay, beautiful place and tasty fo...   \n",
              "..                                                ...   \n",
              "57  it is a boutique hotel with excellent homely a...   \n",
              "58  we stayed here for our official visit. all sta...   \n",
              "59  have stayed at lords eco inn jayanagar, banglo...   \n",
              "60  i stayed at this hotel when it was just openin...   \n",
              "61  hello people, this hotel us a perfect destinat...   \n",
              "\n",
              "                                           review_new  \n",
              "0   here i stayed with my family for a week their ...  \n",
              "1   beautiful place clean and hygienic room profes...  \n",
              "2   my experience with lord eco inn is extremely g...  \n",
              "3   always had an amazing experience whenever i st...  \n",
              "4   had a great stay beautiful place and tasty foo...  \n",
              "..                                                ...  \n",
              "57  it is a boutique hotel with excellent homely a...  \n",
              "58  we stayed here for our official visit all staf...  \n",
              "59  have stayed at lords eco inn jayanagar banglor...  \n",
              "60  i stayed at this hotel when it was just openin...  \n",
              "61  hello people this hotel us a perfect destinati...  \n",
              "\n",
              "[62 rows x 3 columns]"
            ],
            "text/html": [
              "\n",
              "  <div id=\"df-adf3931f-d7f9-460b-b180-9c331ab37e07\">\n",
              "    <div class=\"colab-df-container\">\n",
              "      <div>\n",
              "<style scoped>\n",
              "    .dataframe tbody tr th:only-of-type {\n",
              "        vertical-align: middle;\n",
              "    }\n",
              "\n",
              "    .dataframe tbody tr th {\n",
              "        vertical-align: top;\n",
              "    }\n",
              "\n",
              "    .dataframe thead th {\n",
              "        text-align: right;\n",
              "    }\n",
              "</style>\n",
              "<table border=\"1\" class=\"dataframe\">\n",
              "  <thead>\n",
              "    <tr style=\"text-align: right;\">\n",
              "      <th></th>\n",
              "      <th>review</th>\n",
              "      <th>review_old</th>\n",
              "      <th>review_new</th>\n",
              "    </tr>\n",
              "  </thead>\n",
              "  <tbody>\n",
              "    <tr>\n",
              "      <th>0</th>\n",
              "      <td>Here i stayed with my family for a week, their...</td>\n",
              "      <td>here i stayed with my family for a week, their...</td>\n",
              "      <td>here i stayed with my family for a week their ...</td>\n",
              "    </tr>\n",
              "    <tr>\n",
              "      <th>1</th>\n",
              "      <td>Beautiful place, clean and hygienic room, prof...</td>\n",
              "      <td>beautiful place, clean and hygienic room, prof...</td>\n",
              "      <td>beautiful place clean and hygienic room profes...</td>\n",
              "    </tr>\n",
              "    <tr>\n",
              "      <th>2</th>\n",
              "      <td>My experience with Lord Eco Inn is extremely g...</td>\n",
              "      <td>my experience with lord eco inn is extremely g...</td>\n",
              "      <td>my experience with lord eco inn is extremely g...</td>\n",
              "    </tr>\n",
              "    <tr>\n",
              "      <th>3</th>\n",
              "      <td>Always had an amazing experience whenever I st...</td>\n",
              "      <td>always had an amazing experience whenever i st...</td>\n",
              "      <td>always had an amazing experience whenever i st...</td>\n",
              "    </tr>\n",
              "    <tr>\n",
              "      <th>4</th>\n",
              "      <td>Had a great stay, beautiful place and tasty fo...</td>\n",
              "      <td>had a great stay, beautiful place and tasty fo...</td>\n",
              "      <td>had a great stay beautiful place and tasty foo...</td>\n",
              "    </tr>\n",
              "    <tr>\n",
              "      <th>...</th>\n",
              "      <td>...</td>\n",
              "      <td>...</td>\n",
              "      <td>...</td>\n",
              "    </tr>\n",
              "    <tr>\n",
              "      <th>57</th>\n",
              "      <td>It is a boutique hotel with excellent homely a...</td>\n",
              "      <td>it is a boutique hotel with excellent homely a...</td>\n",
              "      <td>it is a boutique hotel with excellent homely a...</td>\n",
              "    </tr>\n",
              "    <tr>\n",
              "      <th>58</th>\n",
              "      <td>We stayed here for our official visit. All sta...</td>\n",
              "      <td>we stayed here for our official visit. all sta...</td>\n",
              "      <td>we stayed here for our official visit all staf...</td>\n",
              "    </tr>\n",
              "    <tr>\n",
              "      <th>59</th>\n",
              "      <td>Have stayed at Lords Eco Inn Jayanagar, Banglo...</td>\n",
              "      <td>have stayed at lords eco inn jayanagar, banglo...</td>\n",
              "      <td>have stayed at lords eco inn jayanagar banglor...</td>\n",
              "    </tr>\n",
              "    <tr>\n",
              "      <th>60</th>\n",
              "      <td>I stayed at this hotel when it was just openin...</td>\n",
              "      <td>i stayed at this hotel when it was just openin...</td>\n",
              "      <td>i stayed at this hotel when it was just openin...</td>\n",
              "    </tr>\n",
              "    <tr>\n",
              "      <th>61</th>\n",
              "      <td>Hello People, This hotel us a perfect destinat...</td>\n",
              "      <td>hello people, this hotel us a perfect destinat...</td>\n",
              "      <td>hello people this hotel us a perfect destinati...</td>\n",
              "    </tr>\n",
              "  </tbody>\n",
              "</table>\n",
              "<p>62 rows × 3 columns</p>\n",
              "</div>\n",
              "      <button class=\"colab-df-convert\" onclick=\"convertToInteractive('df-adf3931f-d7f9-460b-b180-9c331ab37e07')\"\n",
              "              title=\"Convert this dataframe to an interactive table.\"\n",
              "              style=\"display:none;\">\n",
              "        \n",
              "  <svg xmlns=\"http://www.w3.org/2000/svg\" height=\"24px\"viewBox=\"0 0 24 24\"\n",
              "       width=\"24px\">\n",
              "    <path d=\"M0 0h24v24H0V0z\" fill=\"none\"/>\n",
              "    <path d=\"M18.56 5.44l.94 2.06.94-2.06 2.06-.94-2.06-.94-.94-2.06-.94 2.06-2.06.94zm-11 1L8.5 8.5l.94-2.06 2.06-.94-2.06-.94L8.5 2.5l-.94 2.06-2.06.94zm10 10l.94 2.06.94-2.06 2.06-.94-2.06-.94-.94-2.06-.94 2.06-2.06.94z\"/><path d=\"M17.41 7.96l-1.37-1.37c-.4-.4-.92-.59-1.43-.59-.52 0-1.04.2-1.43.59L10.3 9.45l-7.72 7.72c-.78.78-.78 2.05 0 2.83L4 21.41c.39.39.9.59 1.41.59.51 0 1.02-.2 1.41-.59l7.78-7.78 2.81-2.81c.8-.78.8-2.07 0-2.86zM5.41 20L4 18.59l7.72-7.72 1.47 1.35L5.41 20z\"/>\n",
              "  </svg>\n",
              "      </button>\n",
              "      \n",
              "  <style>\n",
              "    .colab-df-container {\n",
              "      display:flex;\n",
              "      flex-wrap:wrap;\n",
              "      gap: 12px;\n",
              "    }\n",
              "\n",
              "    .colab-df-convert {\n",
              "      background-color: #E8F0FE;\n",
              "      border: none;\n",
              "      border-radius: 50%;\n",
              "      cursor: pointer;\n",
              "      display: none;\n",
              "      fill: #1967D2;\n",
              "      height: 32px;\n",
              "      padding: 0 0 0 0;\n",
              "      width: 32px;\n",
              "    }\n",
              "\n",
              "    .colab-df-convert:hover {\n",
              "      background-color: #E2EBFA;\n",
              "      box-shadow: 0px 1px 2px rgba(60, 64, 67, 0.3), 0px 1px 3px 1px rgba(60, 64, 67, 0.15);\n",
              "      fill: #174EA6;\n",
              "    }\n",
              "\n",
              "    [theme=dark] .colab-df-convert {\n",
              "      background-color: #3B4455;\n",
              "      fill: #D2E3FC;\n",
              "    }\n",
              "\n",
              "    [theme=dark] .colab-df-convert:hover {\n",
              "      background-color: #434B5C;\n",
              "      box-shadow: 0px 1px 3px 1px rgba(0, 0, 0, 0.15);\n",
              "      filter: drop-shadow(0px 1px 2px rgba(0, 0, 0, 0.3));\n",
              "      fill: #FFFFFF;\n",
              "    }\n",
              "  </style>\n",
              "\n",
              "      <script>\n",
              "        const buttonEl =\n",
              "          document.querySelector('#df-adf3931f-d7f9-460b-b180-9c331ab37e07 button.colab-df-convert');\n",
              "        buttonEl.style.display =\n",
              "          google.colab.kernel.accessAllowed ? 'block' : 'none';\n",
              "\n",
              "        async function convertToInteractive(key) {\n",
              "          const element = document.querySelector('#df-adf3931f-d7f9-460b-b180-9c331ab37e07');\n",
              "          const dataTable =\n",
              "            await google.colab.kernel.invokeFunction('convertToInteractive',\n",
              "                                                     [key], {});\n",
              "          if (!dataTable) return;\n",
              "\n",
              "          const docLinkHtml = 'Like what you see? Visit the ' +\n",
              "            '<a target=\"_blank\" href=https://colab.research.google.com/notebooks/data_table.ipynb>data table notebook</a>'\n",
              "            + ' to learn more about interactive tables.';\n",
              "          element.innerHTML = '';\n",
              "          dataTable['output_type'] = 'display_data';\n",
              "          await google.colab.output.renderOutput(dataTable, element);\n",
              "          const docLink = document.createElement('div');\n",
              "          docLink.innerHTML = docLinkHtml;\n",
              "          element.appendChild(docLink);\n",
              "        }\n",
              "      </script>\n",
              "    </div>\n",
              "  </div>\n",
              "  "
            ]
          },
          "metadata": {},
          "execution_count": 153
        }
      ],
      "source": [
        "df"
      ]
    },
    {
      "cell_type": "markdown",
      "metadata": {
        "id": "cb4555ef"
      },
      "source": [
        "## Removing stop words (i, had, with, it)"
      ]
    },
    {
      "cell_type": "code",
      "execution_count": 154,
      "metadata": {
        "id": "bfcc7d44",
        "colab": {
          "base_uri": "https://localhost:8080/"
        },
        "outputId": "7ca167ab-6b5b-4843-aa5e-00d3a8a27129"
      },
      "outputs": [
        {
          "output_type": "stream",
          "name": "stdout",
          "text": [
            "[nltk_data] Downloading package stopwords to /root/nltk_data...\n",
            "[nltk_data]   Package stopwords is already up-to-date!\n"
          ]
        }
      ],
      "source": [
        "import nltk\n",
        "nltk.download('stopwords')\n",
        "from nltk.corpus import stopwords"
      ]
    },
    {
      "cell_type": "code",
      "execution_count": 155,
      "metadata": {
        "id": "45ce7ba6"
      },
      "outputs": [],
      "source": [
        "df['review_old'] = df['review_new']\n",
        "\n",
        "stop = stopwords.words('english')\n",
        "df['review_new'] = df['review_old'].apply(lambda x: \" \".join(x for x in x.split() if x not in stop))"
      ]
    },
    {
      "cell_type": "code",
      "execution_count": 156,
      "metadata": {
        "id": "cf979e93",
        "outputId": "54d8ef8b-3505-42b4-d7ad-1fe190f42536",
        "colab": {
          "base_uri": "https://localhost:8080/",
          "height": 423
        }
      },
      "outputs": [
        {
          "output_type": "execute_result",
          "data": {
            "text/plain": [
              "                                               review  \\\n",
              "0   Here i stayed with my family for a week, their...   \n",
              "1   Beautiful place, clean and hygienic room, prof...   \n",
              "2   My experience with Lord Eco Inn is extremely g...   \n",
              "3   Always had an amazing experience whenever I st...   \n",
              "4   Had a great stay, beautiful place and tasty fo...   \n",
              "..                                                ...   \n",
              "57  It is a boutique hotel with excellent homely a...   \n",
              "58  We stayed here for our official visit. All sta...   \n",
              "59  Have stayed at Lords Eco Inn Jayanagar, Banglo...   \n",
              "60  I stayed at this hotel when it was just openin...   \n",
              "61  Hello People, This hotel us a perfect destinat...   \n",
              "\n",
              "                                           review_old  \\\n",
              "0   here i stayed with my family for a week their ...   \n",
              "1   beautiful place clean and hygienic room profes...   \n",
              "2   my experience with lord eco inn is extremely g...   \n",
              "3   always had an amazing experience whenever i st...   \n",
              "4   had a great stay beautiful place and tasty foo...   \n",
              "..                                                ...   \n",
              "57  it is a boutique hotel with excellent homely a...   \n",
              "58  we stayed here for our official visit all staf...   \n",
              "59  have stayed at lords eco inn jayanagar banglor...   \n",
              "60  i stayed at this hotel when it was just openin...   \n",
              "61  hello people this hotel us a perfect destinati...   \n",
              "\n",
              "                                           review_new  \n",
              "0   stayed family week hospitility supremly amazin...  \n",
              "1   beautiful place clean hygienic room profession...  \n",
              "2   experience lord eco inn extremely great stayed...  \n",
              "3   always amazing experience whenever stay totall...  \n",
              "4   great stay beautiful place tasty food staffs h...  \n",
              "..                                                ...  \n",
              "57  boutique hotel excellent homely atmosphere roo...  \n",
              "58  stayed official visit staff helpful chef great...  \n",
              "59  stayed lords eco inn jayanagar banglore recent...  \n",
              "60  stayed hotel opening great experience room siz...  \n",
              "61  hello people hotel us perfect destination long...  \n",
              "\n",
              "[62 rows x 3 columns]"
            ],
            "text/html": [
              "\n",
              "  <div id=\"df-7d030474-b088-471d-b8b7-5c624032c71f\">\n",
              "    <div class=\"colab-df-container\">\n",
              "      <div>\n",
              "<style scoped>\n",
              "    .dataframe tbody tr th:only-of-type {\n",
              "        vertical-align: middle;\n",
              "    }\n",
              "\n",
              "    .dataframe tbody tr th {\n",
              "        vertical-align: top;\n",
              "    }\n",
              "\n",
              "    .dataframe thead th {\n",
              "        text-align: right;\n",
              "    }\n",
              "</style>\n",
              "<table border=\"1\" class=\"dataframe\">\n",
              "  <thead>\n",
              "    <tr style=\"text-align: right;\">\n",
              "      <th></th>\n",
              "      <th>review</th>\n",
              "      <th>review_old</th>\n",
              "      <th>review_new</th>\n",
              "    </tr>\n",
              "  </thead>\n",
              "  <tbody>\n",
              "    <tr>\n",
              "      <th>0</th>\n",
              "      <td>Here i stayed with my family for a week, their...</td>\n",
              "      <td>here i stayed with my family for a week their ...</td>\n",
              "      <td>stayed family week hospitility supremly amazin...</td>\n",
              "    </tr>\n",
              "    <tr>\n",
              "      <th>1</th>\n",
              "      <td>Beautiful place, clean and hygienic room, prof...</td>\n",
              "      <td>beautiful place clean and hygienic room profes...</td>\n",
              "      <td>beautiful place clean hygienic room profession...</td>\n",
              "    </tr>\n",
              "    <tr>\n",
              "      <th>2</th>\n",
              "      <td>My experience with Lord Eco Inn is extremely g...</td>\n",
              "      <td>my experience with lord eco inn is extremely g...</td>\n",
              "      <td>experience lord eco inn extremely great stayed...</td>\n",
              "    </tr>\n",
              "    <tr>\n",
              "      <th>3</th>\n",
              "      <td>Always had an amazing experience whenever I st...</td>\n",
              "      <td>always had an amazing experience whenever i st...</td>\n",
              "      <td>always amazing experience whenever stay totall...</td>\n",
              "    </tr>\n",
              "    <tr>\n",
              "      <th>4</th>\n",
              "      <td>Had a great stay, beautiful place and tasty fo...</td>\n",
              "      <td>had a great stay beautiful place and tasty foo...</td>\n",
              "      <td>great stay beautiful place tasty food staffs h...</td>\n",
              "    </tr>\n",
              "    <tr>\n",
              "      <th>...</th>\n",
              "      <td>...</td>\n",
              "      <td>...</td>\n",
              "      <td>...</td>\n",
              "    </tr>\n",
              "    <tr>\n",
              "      <th>57</th>\n",
              "      <td>It is a boutique hotel with excellent homely a...</td>\n",
              "      <td>it is a boutique hotel with excellent homely a...</td>\n",
              "      <td>boutique hotel excellent homely atmosphere roo...</td>\n",
              "    </tr>\n",
              "    <tr>\n",
              "      <th>58</th>\n",
              "      <td>We stayed here for our official visit. All sta...</td>\n",
              "      <td>we stayed here for our official visit all staf...</td>\n",
              "      <td>stayed official visit staff helpful chef great...</td>\n",
              "    </tr>\n",
              "    <tr>\n",
              "      <th>59</th>\n",
              "      <td>Have stayed at Lords Eco Inn Jayanagar, Banglo...</td>\n",
              "      <td>have stayed at lords eco inn jayanagar banglor...</td>\n",
              "      <td>stayed lords eco inn jayanagar banglore recent...</td>\n",
              "    </tr>\n",
              "    <tr>\n",
              "      <th>60</th>\n",
              "      <td>I stayed at this hotel when it was just openin...</td>\n",
              "      <td>i stayed at this hotel when it was just openin...</td>\n",
              "      <td>stayed hotel opening great experience room siz...</td>\n",
              "    </tr>\n",
              "    <tr>\n",
              "      <th>61</th>\n",
              "      <td>Hello People, This hotel us a perfect destinat...</td>\n",
              "      <td>hello people this hotel us a perfect destinati...</td>\n",
              "      <td>hello people hotel us perfect destination long...</td>\n",
              "    </tr>\n",
              "  </tbody>\n",
              "</table>\n",
              "<p>62 rows × 3 columns</p>\n",
              "</div>\n",
              "      <button class=\"colab-df-convert\" onclick=\"convertToInteractive('df-7d030474-b088-471d-b8b7-5c624032c71f')\"\n",
              "              title=\"Convert this dataframe to an interactive table.\"\n",
              "              style=\"display:none;\">\n",
              "        \n",
              "  <svg xmlns=\"http://www.w3.org/2000/svg\" height=\"24px\"viewBox=\"0 0 24 24\"\n",
              "       width=\"24px\">\n",
              "    <path d=\"M0 0h24v24H0V0z\" fill=\"none\"/>\n",
              "    <path d=\"M18.56 5.44l.94 2.06.94-2.06 2.06-.94-2.06-.94-.94-2.06-.94 2.06-2.06.94zm-11 1L8.5 8.5l.94-2.06 2.06-.94-2.06-.94L8.5 2.5l-.94 2.06-2.06.94zm10 10l.94 2.06.94-2.06 2.06-.94-2.06-.94-.94-2.06-.94 2.06-2.06.94z\"/><path d=\"M17.41 7.96l-1.37-1.37c-.4-.4-.92-.59-1.43-.59-.52 0-1.04.2-1.43.59L10.3 9.45l-7.72 7.72c-.78.78-.78 2.05 0 2.83L4 21.41c.39.39.9.59 1.41.59.51 0 1.02-.2 1.41-.59l7.78-7.78 2.81-2.81c.8-.78.8-2.07 0-2.86zM5.41 20L4 18.59l7.72-7.72 1.47 1.35L5.41 20z\"/>\n",
              "  </svg>\n",
              "      </button>\n",
              "      \n",
              "  <style>\n",
              "    .colab-df-container {\n",
              "      display:flex;\n",
              "      flex-wrap:wrap;\n",
              "      gap: 12px;\n",
              "    }\n",
              "\n",
              "    .colab-df-convert {\n",
              "      background-color: #E8F0FE;\n",
              "      border: none;\n",
              "      border-radius: 50%;\n",
              "      cursor: pointer;\n",
              "      display: none;\n",
              "      fill: #1967D2;\n",
              "      height: 32px;\n",
              "      padding: 0 0 0 0;\n",
              "      width: 32px;\n",
              "    }\n",
              "\n",
              "    .colab-df-convert:hover {\n",
              "      background-color: #E2EBFA;\n",
              "      box-shadow: 0px 1px 2px rgba(60, 64, 67, 0.3), 0px 1px 3px 1px rgba(60, 64, 67, 0.15);\n",
              "      fill: #174EA6;\n",
              "    }\n",
              "\n",
              "    [theme=dark] .colab-df-convert {\n",
              "      background-color: #3B4455;\n",
              "      fill: #D2E3FC;\n",
              "    }\n",
              "\n",
              "    [theme=dark] .colab-df-convert:hover {\n",
              "      background-color: #434B5C;\n",
              "      box-shadow: 0px 1px 3px 1px rgba(0, 0, 0, 0.15);\n",
              "      filter: drop-shadow(0px 1px 2px rgba(0, 0, 0, 0.3));\n",
              "      fill: #FFFFFF;\n",
              "    }\n",
              "  </style>\n",
              "\n",
              "      <script>\n",
              "        const buttonEl =\n",
              "          document.querySelector('#df-7d030474-b088-471d-b8b7-5c624032c71f button.colab-df-convert');\n",
              "        buttonEl.style.display =\n",
              "          google.colab.kernel.accessAllowed ? 'block' : 'none';\n",
              "\n",
              "        async function convertToInteractive(key) {\n",
              "          const element = document.querySelector('#df-7d030474-b088-471d-b8b7-5c624032c71f');\n",
              "          const dataTable =\n",
              "            await google.colab.kernel.invokeFunction('convertToInteractive',\n",
              "                                                     [key], {});\n",
              "          if (!dataTable) return;\n",
              "\n",
              "          const docLinkHtml = 'Like what you see? Visit the ' +\n",
              "            '<a target=\"_blank\" href=https://colab.research.google.com/notebooks/data_table.ipynb>data table notebook</a>'\n",
              "            + ' to learn more about interactive tables.';\n",
              "          element.innerHTML = '';\n",
              "          dataTable['output_type'] = 'display_data';\n",
              "          await google.colab.output.renderOutput(dataTable, element);\n",
              "          const docLink = document.createElement('div');\n",
              "          docLink.innerHTML = docLinkHtml;\n",
              "          element.appendChild(docLink);\n",
              "        }\n",
              "      </script>\n",
              "    </div>\n",
              "  </div>\n",
              "  "
            ]
          },
          "metadata": {},
          "execution_count": 156
        }
      ],
      "source": [
        "df"
      ]
    },
    {
      "cell_type": "markdown",
      "metadata": {
        "id": "8ad48d48"
      },
      "source": [
        "## Standardizing text"
      ]
    },
    {
      "cell_type": "code",
      "execution_count": 157,
      "metadata": {
        "id": "2a4583d5"
      },
      "outputs": [],
      "source": [
        "lookup_dict = {'ur':'your', \"u\" : \"you\", \"brb\" : \"be right back\", \"idk\" : \"i do not know\", \"idts\" : \"i do not think so\", \"ig\" : \"i guess\",\n",
        "              \"ttyl\" : \"talk to you later\"}\n",
        "df['review_old'] = df['review_new']"
      ]
    },
    {
      "cell_type": "code",
      "execution_count": 158,
      "metadata": {
        "id": "a542dc3d"
      },
      "outputs": [],
      "source": [
        "for i in range(len(df)):\n",
        "    words = df['review_new'][i].split()\n",
        "    new_text = \" \"\n",
        "    new_words = []\n",
        "    for word in words:\n",
        "        if word in lookup_dict:\n",
        "            word = lookup_dict[word]\n",
        "            new_words.append(word)\n",
        "        else:\n",
        "            new_words.append(word)\n",
        "    new_text = new_text.join(new_words)\n",
        "    df[\"review_new\"][i] = new_text"
      ]
    },
    {
      "cell_type": "code",
      "execution_count": 159,
      "metadata": {
        "id": "9bed4d43",
        "outputId": "38499d6e-473b-4871-96a4-774164c63f59",
        "colab": {
          "base_uri": "https://localhost:8080/",
          "height": 423
        }
      },
      "outputs": [
        {
          "output_type": "execute_result",
          "data": {
            "text/plain": [
              "                                               review  \\\n",
              "0   Here i stayed with my family for a week, their...   \n",
              "1   Beautiful place, clean and hygienic room, prof...   \n",
              "2   My experience with Lord Eco Inn is extremely g...   \n",
              "3   Always had an amazing experience whenever I st...   \n",
              "4   Had a great stay, beautiful place and tasty fo...   \n",
              "..                                                ...   \n",
              "57  It is a boutique hotel with excellent homely a...   \n",
              "58  We stayed here for our official visit. All sta...   \n",
              "59  Have stayed at Lords Eco Inn Jayanagar, Banglo...   \n",
              "60  I stayed at this hotel when it was just openin...   \n",
              "61  Hello People, This hotel us a perfect destinat...   \n",
              "\n",
              "                                           review_old  \\\n",
              "0   stayed family week hospitility supremly amazin...   \n",
              "1   beautiful place clean hygienic room profession...   \n",
              "2   experience lord eco inn extremely great stayed...   \n",
              "3   always amazing experience whenever stay totall...   \n",
              "4   great stay beautiful place tasty food staffs h...   \n",
              "..                                                ...   \n",
              "57  boutique hotel excellent homely atmosphere roo...   \n",
              "58  stayed official visit staff helpful chef great...   \n",
              "59  stayed lords eco inn jayanagar banglore recent...   \n",
              "60  stayed hotel opening great experience room siz...   \n",
              "61  hello people hotel us perfect destination long...   \n",
              "\n",
              "                                           review_new  \n",
              "0   stayed family week hospitility supremly amazin...  \n",
              "1   beautiful place clean hygienic room profession...  \n",
              "2   experience lord eco inn extremely great stayed...  \n",
              "3   always amazing experience whenever stay totall...  \n",
              "4   great stay beautiful place tasty food staffs h...  \n",
              "..                                                ...  \n",
              "57  boutique hotel excellent homely atmosphere roo...  \n",
              "58  stayed official visit staff helpful chef great...  \n",
              "59  stayed lords eco inn jayanagar banglore recent...  \n",
              "60  stayed hotel opening great experience room siz...  \n",
              "61  hello people hotel us perfect destination long...  \n",
              "\n",
              "[62 rows x 3 columns]"
            ],
            "text/html": [
              "\n",
              "  <div id=\"df-68b03cd1-1986-4122-b2c3-c3f12a2d082d\">\n",
              "    <div class=\"colab-df-container\">\n",
              "      <div>\n",
              "<style scoped>\n",
              "    .dataframe tbody tr th:only-of-type {\n",
              "        vertical-align: middle;\n",
              "    }\n",
              "\n",
              "    .dataframe tbody tr th {\n",
              "        vertical-align: top;\n",
              "    }\n",
              "\n",
              "    .dataframe thead th {\n",
              "        text-align: right;\n",
              "    }\n",
              "</style>\n",
              "<table border=\"1\" class=\"dataframe\">\n",
              "  <thead>\n",
              "    <tr style=\"text-align: right;\">\n",
              "      <th></th>\n",
              "      <th>review</th>\n",
              "      <th>review_old</th>\n",
              "      <th>review_new</th>\n",
              "    </tr>\n",
              "  </thead>\n",
              "  <tbody>\n",
              "    <tr>\n",
              "      <th>0</th>\n",
              "      <td>Here i stayed with my family for a week, their...</td>\n",
              "      <td>stayed family week hospitility supremly amazin...</td>\n",
              "      <td>stayed family week hospitility supremly amazin...</td>\n",
              "    </tr>\n",
              "    <tr>\n",
              "      <th>1</th>\n",
              "      <td>Beautiful place, clean and hygienic room, prof...</td>\n",
              "      <td>beautiful place clean hygienic room profession...</td>\n",
              "      <td>beautiful place clean hygienic room profession...</td>\n",
              "    </tr>\n",
              "    <tr>\n",
              "      <th>2</th>\n",
              "      <td>My experience with Lord Eco Inn is extremely g...</td>\n",
              "      <td>experience lord eco inn extremely great stayed...</td>\n",
              "      <td>experience lord eco inn extremely great stayed...</td>\n",
              "    </tr>\n",
              "    <tr>\n",
              "      <th>3</th>\n",
              "      <td>Always had an amazing experience whenever I st...</td>\n",
              "      <td>always amazing experience whenever stay totall...</td>\n",
              "      <td>always amazing experience whenever stay totall...</td>\n",
              "    </tr>\n",
              "    <tr>\n",
              "      <th>4</th>\n",
              "      <td>Had a great stay, beautiful place and tasty fo...</td>\n",
              "      <td>great stay beautiful place tasty food staffs h...</td>\n",
              "      <td>great stay beautiful place tasty food staffs h...</td>\n",
              "    </tr>\n",
              "    <tr>\n",
              "      <th>...</th>\n",
              "      <td>...</td>\n",
              "      <td>...</td>\n",
              "      <td>...</td>\n",
              "    </tr>\n",
              "    <tr>\n",
              "      <th>57</th>\n",
              "      <td>It is a boutique hotel with excellent homely a...</td>\n",
              "      <td>boutique hotel excellent homely atmosphere roo...</td>\n",
              "      <td>boutique hotel excellent homely atmosphere roo...</td>\n",
              "    </tr>\n",
              "    <tr>\n",
              "      <th>58</th>\n",
              "      <td>We stayed here for our official visit. All sta...</td>\n",
              "      <td>stayed official visit staff helpful chef great...</td>\n",
              "      <td>stayed official visit staff helpful chef great...</td>\n",
              "    </tr>\n",
              "    <tr>\n",
              "      <th>59</th>\n",
              "      <td>Have stayed at Lords Eco Inn Jayanagar, Banglo...</td>\n",
              "      <td>stayed lords eco inn jayanagar banglore recent...</td>\n",
              "      <td>stayed lords eco inn jayanagar banglore recent...</td>\n",
              "    </tr>\n",
              "    <tr>\n",
              "      <th>60</th>\n",
              "      <td>I stayed at this hotel when it was just openin...</td>\n",
              "      <td>stayed hotel opening great experience room siz...</td>\n",
              "      <td>stayed hotel opening great experience room siz...</td>\n",
              "    </tr>\n",
              "    <tr>\n",
              "      <th>61</th>\n",
              "      <td>Hello People, This hotel us a perfect destinat...</td>\n",
              "      <td>hello people hotel us perfect destination long...</td>\n",
              "      <td>hello people hotel us perfect destination long...</td>\n",
              "    </tr>\n",
              "  </tbody>\n",
              "</table>\n",
              "<p>62 rows × 3 columns</p>\n",
              "</div>\n",
              "      <button class=\"colab-df-convert\" onclick=\"convertToInteractive('df-68b03cd1-1986-4122-b2c3-c3f12a2d082d')\"\n",
              "              title=\"Convert this dataframe to an interactive table.\"\n",
              "              style=\"display:none;\">\n",
              "        \n",
              "  <svg xmlns=\"http://www.w3.org/2000/svg\" height=\"24px\"viewBox=\"0 0 24 24\"\n",
              "       width=\"24px\">\n",
              "    <path d=\"M0 0h24v24H0V0z\" fill=\"none\"/>\n",
              "    <path d=\"M18.56 5.44l.94 2.06.94-2.06 2.06-.94-2.06-.94-.94-2.06-.94 2.06-2.06.94zm-11 1L8.5 8.5l.94-2.06 2.06-.94-2.06-.94L8.5 2.5l-.94 2.06-2.06.94zm10 10l.94 2.06.94-2.06 2.06-.94-2.06-.94-.94-2.06-.94 2.06-2.06.94z\"/><path d=\"M17.41 7.96l-1.37-1.37c-.4-.4-.92-.59-1.43-.59-.52 0-1.04.2-1.43.59L10.3 9.45l-7.72 7.72c-.78.78-.78 2.05 0 2.83L4 21.41c.39.39.9.59 1.41.59.51 0 1.02-.2 1.41-.59l7.78-7.78 2.81-2.81c.8-.78.8-2.07 0-2.86zM5.41 20L4 18.59l7.72-7.72 1.47 1.35L5.41 20z\"/>\n",
              "  </svg>\n",
              "      </button>\n",
              "      \n",
              "  <style>\n",
              "    .colab-df-container {\n",
              "      display:flex;\n",
              "      flex-wrap:wrap;\n",
              "      gap: 12px;\n",
              "    }\n",
              "\n",
              "    .colab-df-convert {\n",
              "      background-color: #E8F0FE;\n",
              "      border: none;\n",
              "      border-radius: 50%;\n",
              "      cursor: pointer;\n",
              "      display: none;\n",
              "      fill: #1967D2;\n",
              "      height: 32px;\n",
              "      padding: 0 0 0 0;\n",
              "      width: 32px;\n",
              "    }\n",
              "\n",
              "    .colab-df-convert:hover {\n",
              "      background-color: #E2EBFA;\n",
              "      box-shadow: 0px 1px 2px rgba(60, 64, 67, 0.3), 0px 1px 3px 1px rgba(60, 64, 67, 0.15);\n",
              "      fill: #174EA6;\n",
              "    }\n",
              "\n",
              "    [theme=dark] .colab-df-convert {\n",
              "      background-color: #3B4455;\n",
              "      fill: #D2E3FC;\n",
              "    }\n",
              "\n",
              "    [theme=dark] .colab-df-convert:hover {\n",
              "      background-color: #434B5C;\n",
              "      box-shadow: 0px 1px 3px 1px rgba(0, 0, 0, 0.15);\n",
              "      filter: drop-shadow(0px 1px 2px rgba(0, 0, 0, 0.3));\n",
              "      fill: #FFFFFF;\n",
              "    }\n",
              "  </style>\n",
              "\n",
              "      <script>\n",
              "        const buttonEl =\n",
              "          document.querySelector('#df-68b03cd1-1986-4122-b2c3-c3f12a2d082d button.colab-df-convert');\n",
              "        buttonEl.style.display =\n",
              "          google.colab.kernel.accessAllowed ? 'block' : 'none';\n",
              "\n",
              "        async function convertToInteractive(key) {\n",
              "          const element = document.querySelector('#df-68b03cd1-1986-4122-b2c3-c3f12a2d082d');\n",
              "          const dataTable =\n",
              "            await google.colab.kernel.invokeFunction('convertToInteractive',\n",
              "                                                     [key], {});\n",
              "          if (!dataTable) return;\n",
              "\n",
              "          const docLinkHtml = 'Like what you see? Visit the ' +\n",
              "            '<a target=\"_blank\" href=https://colab.research.google.com/notebooks/data_table.ipynb>data table notebook</a>'\n",
              "            + ' to learn more about interactive tables.';\n",
              "          element.innerHTML = '';\n",
              "          dataTable['output_type'] = 'display_data';\n",
              "          await google.colab.output.renderOutput(dataTable, element);\n",
              "          const docLink = document.createElement('div');\n",
              "          docLink.innerHTML = docLinkHtml;\n",
              "          element.appendChild(docLink);\n",
              "        }\n",
              "      </script>\n",
              "    </div>\n",
              "  </div>\n",
              "  "
            ]
          },
          "metadata": {},
          "execution_count": 159
        }
      ],
      "source": [
        "df"
      ]
    },
    {
      "cell_type": "markdown",
      "metadata": {
        "id": "da29e6ec"
      },
      "source": [
        "## Correcting Spelling"
      ]
    },
    {
      "cell_type": "code",
      "execution_count": 160,
      "metadata": {
        "id": "3f798149"
      },
      "outputs": [],
      "source": [
        "#Install textblob library\n",
        "#!pip install textblob\n",
        "from textblob import TextBlob"
      ]
    },
    {
      "cell_type": "code",
      "execution_count": 161,
      "metadata": {
        "id": "d411a13f"
      },
      "outputs": [],
      "source": [
        "df['review_old'] = df['review_new']"
      ]
    },
    {
      "cell_type": "code",
      "execution_count": 162,
      "metadata": {
        "id": "83845822"
      },
      "outputs": [],
      "source": [
        "df['review_new'] = df['review_old'].apply(lambda x: str(TextBlob(x).correct()))"
      ]
    },
    {
      "cell_type": "code",
      "execution_count": 163,
      "metadata": {
        "scrolled": true,
        "id": "98a28659",
        "outputId": "171c398c-916e-45f7-add3-62543b666f95",
        "colab": {
          "base_uri": "https://localhost:8080/",
          "height": 423
        }
      },
      "outputs": [
        {
          "output_type": "execute_result",
          "data": {
            "text/plain": [
              "                                               review  \\\n",
              "0   Here i stayed with my family for a week, their...   \n",
              "1   Beautiful place, clean and hygienic room, prof...   \n",
              "2   My experience with Lord Eco Inn is extremely g...   \n",
              "3   Always had an amazing experience whenever I st...   \n",
              "4   Had a great stay, beautiful place and tasty fo...   \n",
              "..                                                ...   \n",
              "57  It is a boutique hotel with excellent homely a...   \n",
              "58  We stayed here for our official visit. All sta...   \n",
              "59  Have stayed at Lords Eco Inn Jayanagar, Banglo...   \n",
              "60  I stayed at this hotel when it was just openin...   \n",
              "61  Hello People, This hotel us a perfect destinat...   \n",
              "\n",
              "                                           review_old  \\\n",
              "0   stayed family week hospitility supremly amazin...   \n",
              "1   beautiful place clean hygienic room profession...   \n",
              "2   experience lord eco inn extremely great stayed...   \n",
              "3   always amazing experience whenever stay totall...   \n",
              "4   great stay beautiful place tasty food staffs h...   \n",
              "..                                                ...   \n",
              "57  boutique hotel excellent homely atmosphere roo...   \n",
              "58  stayed official visit staff helpful chef great...   \n",
              "59  stayed lords eco inn jayanagar banglore recent...   \n",
              "60  stayed hotel opening great experience room siz...   \n",
              "61  hello people hotel us perfect destination long...   \n",
              "\n",
              "                                           review_new  \n",
              "0   stayed family week hospitality supreme amazing...  \n",
              "1   beautiful place clean hygienic room profession...  \n",
              "2   experience lord co inn extremely great stayed ...  \n",
              "3   always amazing experience whenever stay totall...  \n",
              "4   great stay beautiful place taste food staffs h...  \n",
              "..                                                ...  \n",
              "57  boutique hotel excellent homely atmosphere roo...  \n",
              "58  stayed official visit staff helpful chef great...  \n",
              "59  stayed lords co inn jayanagar banglore recent ...  \n",
              "60  stayed hotel opening great experience room siz...  \n",
              "61  hello people hotel us perfect destination long...  \n",
              "\n",
              "[62 rows x 3 columns]"
            ],
            "text/html": [
              "\n",
              "  <div id=\"df-7323eb94-c068-4898-ae88-019c59ab4c9d\">\n",
              "    <div class=\"colab-df-container\">\n",
              "      <div>\n",
              "<style scoped>\n",
              "    .dataframe tbody tr th:only-of-type {\n",
              "        vertical-align: middle;\n",
              "    }\n",
              "\n",
              "    .dataframe tbody tr th {\n",
              "        vertical-align: top;\n",
              "    }\n",
              "\n",
              "    .dataframe thead th {\n",
              "        text-align: right;\n",
              "    }\n",
              "</style>\n",
              "<table border=\"1\" class=\"dataframe\">\n",
              "  <thead>\n",
              "    <tr style=\"text-align: right;\">\n",
              "      <th></th>\n",
              "      <th>review</th>\n",
              "      <th>review_old</th>\n",
              "      <th>review_new</th>\n",
              "    </tr>\n",
              "  </thead>\n",
              "  <tbody>\n",
              "    <tr>\n",
              "      <th>0</th>\n",
              "      <td>Here i stayed with my family for a week, their...</td>\n",
              "      <td>stayed family week hospitility supremly amazin...</td>\n",
              "      <td>stayed family week hospitality supreme amazing...</td>\n",
              "    </tr>\n",
              "    <tr>\n",
              "      <th>1</th>\n",
              "      <td>Beautiful place, clean and hygienic room, prof...</td>\n",
              "      <td>beautiful place clean hygienic room profession...</td>\n",
              "      <td>beautiful place clean hygienic room profession...</td>\n",
              "    </tr>\n",
              "    <tr>\n",
              "      <th>2</th>\n",
              "      <td>My experience with Lord Eco Inn is extremely g...</td>\n",
              "      <td>experience lord eco inn extremely great stayed...</td>\n",
              "      <td>experience lord co inn extremely great stayed ...</td>\n",
              "    </tr>\n",
              "    <tr>\n",
              "      <th>3</th>\n",
              "      <td>Always had an amazing experience whenever I st...</td>\n",
              "      <td>always amazing experience whenever stay totall...</td>\n",
              "      <td>always amazing experience whenever stay totall...</td>\n",
              "    </tr>\n",
              "    <tr>\n",
              "      <th>4</th>\n",
              "      <td>Had a great stay, beautiful place and tasty fo...</td>\n",
              "      <td>great stay beautiful place tasty food staffs h...</td>\n",
              "      <td>great stay beautiful place taste food staffs h...</td>\n",
              "    </tr>\n",
              "    <tr>\n",
              "      <th>...</th>\n",
              "      <td>...</td>\n",
              "      <td>...</td>\n",
              "      <td>...</td>\n",
              "    </tr>\n",
              "    <tr>\n",
              "      <th>57</th>\n",
              "      <td>It is a boutique hotel with excellent homely a...</td>\n",
              "      <td>boutique hotel excellent homely atmosphere roo...</td>\n",
              "      <td>boutique hotel excellent homely atmosphere roo...</td>\n",
              "    </tr>\n",
              "    <tr>\n",
              "      <th>58</th>\n",
              "      <td>We stayed here for our official visit. All sta...</td>\n",
              "      <td>stayed official visit staff helpful chef great...</td>\n",
              "      <td>stayed official visit staff helpful chef great...</td>\n",
              "    </tr>\n",
              "    <tr>\n",
              "      <th>59</th>\n",
              "      <td>Have stayed at Lords Eco Inn Jayanagar, Banglo...</td>\n",
              "      <td>stayed lords eco inn jayanagar banglore recent...</td>\n",
              "      <td>stayed lords co inn jayanagar banglore recent ...</td>\n",
              "    </tr>\n",
              "    <tr>\n",
              "      <th>60</th>\n",
              "      <td>I stayed at this hotel when it was just openin...</td>\n",
              "      <td>stayed hotel opening great experience room siz...</td>\n",
              "      <td>stayed hotel opening great experience room siz...</td>\n",
              "    </tr>\n",
              "    <tr>\n",
              "      <th>61</th>\n",
              "      <td>Hello People, This hotel us a perfect destinat...</td>\n",
              "      <td>hello people hotel us perfect destination long...</td>\n",
              "      <td>hello people hotel us perfect destination long...</td>\n",
              "    </tr>\n",
              "  </tbody>\n",
              "</table>\n",
              "<p>62 rows × 3 columns</p>\n",
              "</div>\n",
              "      <button class=\"colab-df-convert\" onclick=\"convertToInteractive('df-7323eb94-c068-4898-ae88-019c59ab4c9d')\"\n",
              "              title=\"Convert this dataframe to an interactive table.\"\n",
              "              style=\"display:none;\">\n",
              "        \n",
              "  <svg xmlns=\"http://www.w3.org/2000/svg\" height=\"24px\"viewBox=\"0 0 24 24\"\n",
              "       width=\"24px\">\n",
              "    <path d=\"M0 0h24v24H0V0z\" fill=\"none\"/>\n",
              "    <path d=\"M18.56 5.44l.94 2.06.94-2.06 2.06-.94-2.06-.94-.94-2.06-.94 2.06-2.06.94zm-11 1L8.5 8.5l.94-2.06 2.06-.94-2.06-.94L8.5 2.5l-.94 2.06-2.06.94zm10 10l.94 2.06.94-2.06 2.06-.94-2.06-.94-.94-2.06-.94 2.06-2.06.94z\"/><path d=\"M17.41 7.96l-1.37-1.37c-.4-.4-.92-.59-1.43-.59-.52 0-1.04.2-1.43.59L10.3 9.45l-7.72 7.72c-.78.78-.78 2.05 0 2.83L4 21.41c.39.39.9.59 1.41.59.51 0 1.02-.2 1.41-.59l7.78-7.78 2.81-2.81c.8-.78.8-2.07 0-2.86zM5.41 20L4 18.59l7.72-7.72 1.47 1.35L5.41 20z\"/>\n",
              "  </svg>\n",
              "      </button>\n",
              "      \n",
              "  <style>\n",
              "    .colab-df-container {\n",
              "      display:flex;\n",
              "      flex-wrap:wrap;\n",
              "      gap: 12px;\n",
              "    }\n",
              "\n",
              "    .colab-df-convert {\n",
              "      background-color: #E8F0FE;\n",
              "      border: none;\n",
              "      border-radius: 50%;\n",
              "      cursor: pointer;\n",
              "      display: none;\n",
              "      fill: #1967D2;\n",
              "      height: 32px;\n",
              "      padding: 0 0 0 0;\n",
              "      width: 32px;\n",
              "    }\n",
              "\n",
              "    .colab-df-convert:hover {\n",
              "      background-color: #E2EBFA;\n",
              "      box-shadow: 0px 1px 2px rgba(60, 64, 67, 0.3), 0px 1px 3px 1px rgba(60, 64, 67, 0.15);\n",
              "      fill: #174EA6;\n",
              "    }\n",
              "\n",
              "    [theme=dark] .colab-df-convert {\n",
              "      background-color: #3B4455;\n",
              "      fill: #D2E3FC;\n",
              "    }\n",
              "\n",
              "    [theme=dark] .colab-df-convert:hover {\n",
              "      background-color: #434B5C;\n",
              "      box-shadow: 0px 1px 3px 1px rgba(0, 0, 0, 0.15);\n",
              "      filter: drop-shadow(0px 1px 2px rgba(0, 0, 0, 0.3));\n",
              "      fill: #FFFFFF;\n",
              "    }\n",
              "  </style>\n",
              "\n",
              "      <script>\n",
              "        const buttonEl =\n",
              "          document.querySelector('#df-7323eb94-c068-4898-ae88-019c59ab4c9d button.colab-df-convert');\n",
              "        buttonEl.style.display =\n",
              "          google.colab.kernel.accessAllowed ? 'block' : 'none';\n",
              "\n",
              "        async function convertToInteractive(key) {\n",
              "          const element = document.querySelector('#df-7323eb94-c068-4898-ae88-019c59ab4c9d');\n",
              "          const dataTable =\n",
              "            await google.colab.kernel.invokeFunction('convertToInteractive',\n",
              "                                                     [key], {});\n",
              "          if (!dataTable) return;\n",
              "\n",
              "          const docLinkHtml = 'Like what you see? Visit the ' +\n",
              "            '<a target=\"_blank\" href=https://colab.research.google.com/notebooks/data_table.ipynb>data table notebook</a>'\n",
              "            + ' to learn more about interactive tables.';\n",
              "          element.innerHTML = '';\n",
              "          dataTable['output_type'] = 'display_data';\n",
              "          await google.colab.output.renderOutput(dataTable, element);\n",
              "          const docLink = document.createElement('div');\n",
              "          docLink.innerHTML = docLinkHtml;\n",
              "          element.appendChild(docLink);\n",
              "        }\n",
              "      </script>\n",
              "    </div>\n",
              "  </div>\n",
              "  "
            ]
          },
          "metadata": {},
          "execution_count": 163
        }
      ],
      "source": [
        "df"
      ]
    },
    {
      "cell_type": "markdown",
      "source": [
        "# Lemmatizing"
      ],
      "metadata": {
        "id": "G1KbaBG1EF_e"
      }
    },
    {
      "cell_type": "code",
      "source": [
        "import spacy\n",
        "nlp = spacy.load('en')\n",
        "for i in range(len(df)):\n",
        "  doc = nlp(df['review_old'][i])\n",
        "  new_text = \" \"\n",
        "  new_words = []\n",
        "  for token in doc:\n",
        "    if token.lemma_ == '-PRON-':\n",
        "      token.lemma_ = token.orth_\n",
        "    word = token.lemma_\n",
        "    new_words.append(word)\n",
        "  new_text = new_text.join(new_words)\n",
        "  df[\"review_new\"][i] = new_text"
      ],
      "metadata": {
        "id": "HqmI3a-tMMpb"
      },
      "execution_count": 164,
      "outputs": []
    },
    {
      "cell_type": "code",
      "source": [
        "print(df['review_old'][4])\n",
        "print(df['review_new'][4])"
      ],
      "metadata": {
        "colab": {
          "base_uri": "https://localhost:8080/"
        },
        "id": "fOYeaedYIwhy",
        "outputId": "f062d03d-fde4-4397-dac0-4acead251995"
      },
      "execution_count": 165,
      "outputs": [
        {
          "output_type": "stream",
          "name": "stdout",
          "text": [
            "great stay beautiful place tasty food staffs helpful courteous definitely visiting special thanks general manager mr vikash supporting us see city stay\n",
            "great stay beautiful place tasty food staff helpful courteous definitely visit special thank general manager mr vikash support us see city stay\n"
          ]
        }
      ]
    },
    {
      "cell_type": "code",
      "source": [
        "df"
      ],
      "metadata": {
        "colab": {
          "base_uri": "https://localhost:8080/",
          "height": 423
        },
        "id": "DVd-SvITItIU",
        "outputId": "52c089d6-afc6-42db-c04b-401c8f5e1c35"
      },
      "execution_count": 166,
      "outputs": [
        {
          "output_type": "execute_result",
          "data": {
            "text/plain": [
              "                                               review  \\\n",
              "0   Here i stayed with my family for a week, their...   \n",
              "1   Beautiful place, clean and hygienic room, prof...   \n",
              "2   My experience with Lord Eco Inn is extremely g...   \n",
              "3   Always had an amazing experience whenever I st...   \n",
              "4   Had a great stay, beautiful place and tasty fo...   \n",
              "..                                                ...   \n",
              "57  It is a boutique hotel with excellent homely a...   \n",
              "58  We stayed here for our official visit. All sta...   \n",
              "59  Have stayed at Lords Eco Inn Jayanagar, Banglo...   \n",
              "60  I stayed at this hotel when it was just openin...   \n",
              "61  Hello People, This hotel us a perfect destinat...   \n",
              "\n",
              "                                           review_old  \\\n",
              "0   stayed family week hospitility supremly amazin...   \n",
              "1   beautiful place clean hygienic room profession...   \n",
              "2   experience lord eco inn extremely great stayed...   \n",
              "3   always amazing experience whenever stay totall...   \n",
              "4   great stay beautiful place tasty food staffs h...   \n",
              "..                                                ...   \n",
              "57  boutique hotel excellent homely atmosphere roo...   \n",
              "58  stayed official visit staff helpful chef great...   \n",
              "59  stayed lords eco inn jayanagar banglore recent...   \n",
              "60  stayed hotel opening great experience room siz...   \n",
              "61  hello people hotel us perfect destination long...   \n",
              "\n",
              "                                           review_new  \n",
              "0   stay family week hospitility supremly amazing ...  \n",
              "1   beautiful place clean hygienic room profession...  \n",
              "2   experience lord eco inn extremely great stay 7...  \n",
              "3   always amazing experience whenever stay totall...  \n",
              "4   great stay beautiful place tasty food staff he...  \n",
              "..                                                ...  \n",
              "57  boutique hotel excellent homely atmosphere roo...  \n",
              "58  stay official visit staff helpful chef great p...  \n",
              "59  stay lord eco inn jayanagar banglore recent bu...  \n",
              "60  stay hotel open great experience room size gre...  \n",
              "61  hello people hotel us perfect destination long...  \n",
              "\n",
              "[62 rows x 3 columns]"
            ],
            "text/html": [
              "\n",
              "  <div id=\"df-ec077d4f-dcb8-469c-bb62-799b8533969b\">\n",
              "    <div class=\"colab-df-container\">\n",
              "      <div>\n",
              "<style scoped>\n",
              "    .dataframe tbody tr th:only-of-type {\n",
              "        vertical-align: middle;\n",
              "    }\n",
              "\n",
              "    .dataframe tbody tr th {\n",
              "        vertical-align: top;\n",
              "    }\n",
              "\n",
              "    .dataframe thead th {\n",
              "        text-align: right;\n",
              "    }\n",
              "</style>\n",
              "<table border=\"1\" class=\"dataframe\">\n",
              "  <thead>\n",
              "    <tr style=\"text-align: right;\">\n",
              "      <th></th>\n",
              "      <th>review</th>\n",
              "      <th>review_old</th>\n",
              "      <th>review_new</th>\n",
              "    </tr>\n",
              "  </thead>\n",
              "  <tbody>\n",
              "    <tr>\n",
              "      <th>0</th>\n",
              "      <td>Here i stayed with my family for a week, their...</td>\n",
              "      <td>stayed family week hospitility supremly amazin...</td>\n",
              "      <td>stay family week hospitility supremly amazing ...</td>\n",
              "    </tr>\n",
              "    <tr>\n",
              "      <th>1</th>\n",
              "      <td>Beautiful place, clean and hygienic room, prof...</td>\n",
              "      <td>beautiful place clean hygienic room profession...</td>\n",
              "      <td>beautiful place clean hygienic room profession...</td>\n",
              "    </tr>\n",
              "    <tr>\n",
              "      <th>2</th>\n",
              "      <td>My experience with Lord Eco Inn is extremely g...</td>\n",
              "      <td>experience lord eco inn extremely great stayed...</td>\n",
              "      <td>experience lord eco inn extremely great stay 7...</td>\n",
              "    </tr>\n",
              "    <tr>\n",
              "      <th>3</th>\n",
              "      <td>Always had an amazing experience whenever I st...</td>\n",
              "      <td>always amazing experience whenever stay totall...</td>\n",
              "      <td>always amazing experience whenever stay totall...</td>\n",
              "    </tr>\n",
              "    <tr>\n",
              "      <th>4</th>\n",
              "      <td>Had a great stay, beautiful place and tasty fo...</td>\n",
              "      <td>great stay beautiful place tasty food staffs h...</td>\n",
              "      <td>great stay beautiful place tasty food staff he...</td>\n",
              "    </tr>\n",
              "    <tr>\n",
              "      <th>...</th>\n",
              "      <td>...</td>\n",
              "      <td>...</td>\n",
              "      <td>...</td>\n",
              "    </tr>\n",
              "    <tr>\n",
              "      <th>57</th>\n",
              "      <td>It is a boutique hotel with excellent homely a...</td>\n",
              "      <td>boutique hotel excellent homely atmosphere roo...</td>\n",
              "      <td>boutique hotel excellent homely atmosphere roo...</td>\n",
              "    </tr>\n",
              "    <tr>\n",
              "      <th>58</th>\n",
              "      <td>We stayed here for our official visit. All sta...</td>\n",
              "      <td>stayed official visit staff helpful chef great...</td>\n",
              "      <td>stay official visit staff helpful chef great p...</td>\n",
              "    </tr>\n",
              "    <tr>\n",
              "      <th>59</th>\n",
              "      <td>Have stayed at Lords Eco Inn Jayanagar, Banglo...</td>\n",
              "      <td>stayed lords eco inn jayanagar banglore recent...</td>\n",
              "      <td>stay lord eco inn jayanagar banglore recent bu...</td>\n",
              "    </tr>\n",
              "    <tr>\n",
              "      <th>60</th>\n",
              "      <td>I stayed at this hotel when it was just openin...</td>\n",
              "      <td>stayed hotel opening great experience room siz...</td>\n",
              "      <td>stay hotel open great experience room size gre...</td>\n",
              "    </tr>\n",
              "    <tr>\n",
              "      <th>61</th>\n",
              "      <td>Hello People, This hotel us a perfect destinat...</td>\n",
              "      <td>hello people hotel us perfect destination long...</td>\n",
              "      <td>hello people hotel us perfect destination long...</td>\n",
              "    </tr>\n",
              "  </tbody>\n",
              "</table>\n",
              "<p>62 rows × 3 columns</p>\n",
              "</div>\n",
              "      <button class=\"colab-df-convert\" onclick=\"convertToInteractive('df-ec077d4f-dcb8-469c-bb62-799b8533969b')\"\n",
              "              title=\"Convert this dataframe to an interactive table.\"\n",
              "              style=\"display:none;\">\n",
              "        \n",
              "  <svg xmlns=\"http://www.w3.org/2000/svg\" height=\"24px\"viewBox=\"0 0 24 24\"\n",
              "       width=\"24px\">\n",
              "    <path d=\"M0 0h24v24H0V0z\" fill=\"none\"/>\n",
              "    <path d=\"M18.56 5.44l.94 2.06.94-2.06 2.06-.94-2.06-.94-.94-2.06-.94 2.06-2.06.94zm-11 1L8.5 8.5l.94-2.06 2.06-.94-2.06-.94L8.5 2.5l-.94 2.06-2.06.94zm10 10l.94 2.06.94-2.06 2.06-.94-2.06-.94-.94-2.06-.94 2.06-2.06.94z\"/><path d=\"M17.41 7.96l-1.37-1.37c-.4-.4-.92-.59-1.43-.59-.52 0-1.04.2-1.43.59L10.3 9.45l-7.72 7.72c-.78.78-.78 2.05 0 2.83L4 21.41c.39.39.9.59 1.41.59.51 0 1.02-.2 1.41-.59l7.78-7.78 2.81-2.81c.8-.78.8-2.07 0-2.86zM5.41 20L4 18.59l7.72-7.72 1.47 1.35L5.41 20z\"/>\n",
              "  </svg>\n",
              "      </button>\n",
              "      \n",
              "  <style>\n",
              "    .colab-df-container {\n",
              "      display:flex;\n",
              "      flex-wrap:wrap;\n",
              "      gap: 12px;\n",
              "    }\n",
              "\n",
              "    .colab-df-convert {\n",
              "      background-color: #E8F0FE;\n",
              "      border: none;\n",
              "      border-radius: 50%;\n",
              "      cursor: pointer;\n",
              "      display: none;\n",
              "      fill: #1967D2;\n",
              "      height: 32px;\n",
              "      padding: 0 0 0 0;\n",
              "      width: 32px;\n",
              "    }\n",
              "\n",
              "    .colab-df-convert:hover {\n",
              "      background-color: #E2EBFA;\n",
              "      box-shadow: 0px 1px 2px rgba(60, 64, 67, 0.3), 0px 1px 3px 1px rgba(60, 64, 67, 0.15);\n",
              "      fill: #174EA6;\n",
              "    }\n",
              "\n",
              "    [theme=dark] .colab-df-convert {\n",
              "      background-color: #3B4455;\n",
              "      fill: #D2E3FC;\n",
              "    }\n",
              "\n",
              "    [theme=dark] .colab-df-convert:hover {\n",
              "      background-color: #434B5C;\n",
              "      box-shadow: 0px 1px 3px 1px rgba(0, 0, 0, 0.15);\n",
              "      filter: drop-shadow(0px 1px 2px rgba(0, 0, 0, 0.3));\n",
              "      fill: #FFFFFF;\n",
              "    }\n",
              "  </style>\n",
              "\n",
              "      <script>\n",
              "        const buttonEl =\n",
              "          document.querySelector('#df-ec077d4f-dcb8-469c-bb62-799b8533969b button.colab-df-convert');\n",
              "        buttonEl.style.display =\n",
              "          google.colab.kernel.accessAllowed ? 'block' : 'none';\n",
              "\n",
              "        async function convertToInteractive(key) {\n",
              "          const element = document.querySelector('#df-ec077d4f-dcb8-469c-bb62-799b8533969b');\n",
              "          const dataTable =\n",
              "            await google.colab.kernel.invokeFunction('convertToInteractive',\n",
              "                                                     [key], {});\n",
              "          if (!dataTable) return;\n",
              "\n",
              "          const docLinkHtml = 'Like what you see? Visit the ' +\n",
              "            '<a target=\"_blank\" href=https://colab.research.google.com/notebooks/data_table.ipynb>data table notebook</a>'\n",
              "            + ' to learn more about interactive tables.';\n",
              "          element.innerHTML = '';\n",
              "          dataTable['output_type'] = 'display_data';\n",
              "          await google.colab.output.renderOutput(dataTable, element);\n",
              "          const docLink = document.createElement('div');\n",
              "          docLink.innerHTML = docLinkHtml;\n",
              "          element.appendChild(docLink);\n",
              "        }\n",
              "      </script>\n",
              "    </div>\n",
              "  </div>\n",
              "  "
            ]
          },
          "metadata": {},
          "execution_count": 166
        }
      ]
    },
    {
      "cell_type": "markdown",
      "metadata": {
        "id": "f0654fe1"
      },
      "source": [
        "## Tokenizing Text"
      ]
    },
    {
      "cell_type": "code",
      "execution_count": 167,
      "metadata": {
        "id": "648282ff",
        "colab": {
          "base_uri": "https://localhost:8080/"
        },
        "outputId": "89fe8045-d432-4b33-e343-29ec86c1b776"
      },
      "outputs": [
        {
          "output_type": "stream",
          "name": "stdout",
          "text": [
            "[nltk_data] Downloading package punkt to /root/nltk_data...\n",
            "[nltk_data]   Package punkt is already up-to-date!\n"
          ]
        },
        {
          "output_type": "execute_result",
          "data": {
            "text/plain": [
              "True"
            ]
          },
          "metadata": {},
          "execution_count": 167
        }
      ],
      "source": [
        "import nltk\n",
        "nltk.download('punkt')"
      ]
    },
    {
      "cell_type": "code",
      "source": [
        "df['review_old'] = df['review_new']"
      ],
      "metadata": {
        "id": "bk-p3mAmBiwG"
      },
      "execution_count": 168,
      "outputs": []
    },
    {
      "cell_type": "code",
      "source": [
        "for i in range(len(df)):\n",
        "  df['review_new'][i] = nltk.word_tokenize(df['review_old'][i])"
      ],
      "metadata": {
        "id": "qiIffHWwBD7o"
      },
      "execution_count": 169,
      "outputs": []
    },
    {
      "cell_type": "code",
      "source": [
        "df"
      ],
      "metadata": {
        "id": "ngisHpA3CEXe",
        "colab": {
          "base_uri": "https://localhost:8080/",
          "height": 423
        },
        "outputId": "dde6c9ef-f143-4d14-c5de-8400b4815bea"
      },
      "execution_count": 183,
      "outputs": [
        {
          "output_type": "execute_result",
          "data": {
            "text/plain": [
              "                                               review  \\\n",
              "0   Here i stayed with my family for a week, their...   \n",
              "1   Beautiful place, clean and hygienic room, prof...   \n",
              "2   My experience with Lord Eco Inn is extremely g...   \n",
              "3   Always had an amazing experience whenever I st...   \n",
              "4   Had a great stay, beautiful place and tasty fo...   \n",
              "..                                                ...   \n",
              "57  It is a boutique hotel with excellent homely a...   \n",
              "58  We stayed here for our official visit. All sta...   \n",
              "59  Have stayed at Lords Eco Inn Jayanagar, Banglo...   \n",
              "60  I stayed at this hotel when it was just openin...   \n",
              "61  Hello People, This hotel us a perfect destinat...   \n",
              "\n",
              "                                           review_old  \\\n",
              "0   stay family week hospitility supremly amazing ...   \n",
              "1   beautiful place clean hygienic room profession...   \n",
              "2   experience lord eco inn extremely great stay 7...   \n",
              "3   always amazing experience whenever stay totall...   \n",
              "4   great stay beautiful place tasty food staff he...   \n",
              "..                                                ...   \n",
              "57  boutique hotel excellent homely atmosphere roo...   \n",
              "58  stay official visit staff helpful chef great p...   \n",
              "59  stay lord eco inn jayanagar banglore recent bu...   \n",
              "60  stay hotel open great experience room size gre...   \n",
              "61  hello people hotel us perfect destination long...   \n",
              "\n",
              "                                           review_new  \n",
              "0   [stay, family, week, hospitility, supremly, am...  \n",
              "1   [beautiful, place, clean, hygienic, room, prof...  \n",
              "2   [experience, lord, eco, inn, extremely, great,...  \n",
              "3   [always, amazing, experience, whenever, stay, ...  \n",
              "4   [great, stay, beautiful, place, tasty, food, s...  \n",
              "..                                                ...  \n",
              "57  [boutique, hotel, excellent, homely, atmospher...  \n",
              "58  [stay, official, visit, staff, helpful, chef, ...  \n",
              "59  [stay, lord, eco, inn, jayanagar, banglore, re...  \n",
              "60  [stay, hotel, open, great, experience, room, s...  \n",
              "61  [hello, people, hotel, us, perfect, destinatio...  \n",
              "\n",
              "[62 rows x 3 columns]"
            ],
            "text/html": [
              "\n",
              "  <div id=\"df-4924f298-2eb6-4048-8d40-29a074091c00\">\n",
              "    <div class=\"colab-df-container\">\n",
              "      <div>\n",
              "<style scoped>\n",
              "    .dataframe tbody tr th:only-of-type {\n",
              "        vertical-align: middle;\n",
              "    }\n",
              "\n",
              "    .dataframe tbody tr th {\n",
              "        vertical-align: top;\n",
              "    }\n",
              "\n",
              "    .dataframe thead th {\n",
              "        text-align: right;\n",
              "    }\n",
              "</style>\n",
              "<table border=\"1\" class=\"dataframe\">\n",
              "  <thead>\n",
              "    <tr style=\"text-align: right;\">\n",
              "      <th></th>\n",
              "      <th>review</th>\n",
              "      <th>review_old</th>\n",
              "      <th>review_new</th>\n",
              "    </tr>\n",
              "  </thead>\n",
              "  <tbody>\n",
              "    <tr>\n",
              "      <th>0</th>\n",
              "      <td>Here i stayed with my family for a week, their...</td>\n",
              "      <td>stay family week hospitility supremly amazing ...</td>\n",
              "      <td>[stay, family, week, hospitility, supremly, am...</td>\n",
              "    </tr>\n",
              "    <tr>\n",
              "      <th>1</th>\n",
              "      <td>Beautiful place, clean and hygienic room, prof...</td>\n",
              "      <td>beautiful place clean hygienic room profession...</td>\n",
              "      <td>[beautiful, place, clean, hygienic, room, prof...</td>\n",
              "    </tr>\n",
              "    <tr>\n",
              "      <th>2</th>\n",
              "      <td>My experience with Lord Eco Inn is extremely g...</td>\n",
              "      <td>experience lord eco inn extremely great stay 7...</td>\n",
              "      <td>[experience, lord, eco, inn, extremely, great,...</td>\n",
              "    </tr>\n",
              "    <tr>\n",
              "      <th>3</th>\n",
              "      <td>Always had an amazing experience whenever I st...</td>\n",
              "      <td>always amazing experience whenever stay totall...</td>\n",
              "      <td>[always, amazing, experience, whenever, stay, ...</td>\n",
              "    </tr>\n",
              "    <tr>\n",
              "      <th>4</th>\n",
              "      <td>Had a great stay, beautiful place and tasty fo...</td>\n",
              "      <td>great stay beautiful place tasty food staff he...</td>\n",
              "      <td>[great, stay, beautiful, place, tasty, food, s...</td>\n",
              "    </tr>\n",
              "    <tr>\n",
              "      <th>...</th>\n",
              "      <td>...</td>\n",
              "      <td>...</td>\n",
              "      <td>...</td>\n",
              "    </tr>\n",
              "    <tr>\n",
              "      <th>57</th>\n",
              "      <td>It is a boutique hotel with excellent homely a...</td>\n",
              "      <td>boutique hotel excellent homely atmosphere roo...</td>\n",
              "      <td>[boutique, hotel, excellent, homely, atmospher...</td>\n",
              "    </tr>\n",
              "    <tr>\n",
              "      <th>58</th>\n",
              "      <td>We stayed here for our official visit. All sta...</td>\n",
              "      <td>stay official visit staff helpful chef great p...</td>\n",
              "      <td>[stay, official, visit, staff, helpful, chef, ...</td>\n",
              "    </tr>\n",
              "    <tr>\n",
              "      <th>59</th>\n",
              "      <td>Have stayed at Lords Eco Inn Jayanagar, Banglo...</td>\n",
              "      <td>stay lord eco inn jayanagar banglore recent bu...</td>\n",
              "      <td>[stay, lord, eco, inn, jayanagar, banglore, re...</td>\n",
              "    </tr>\n",
              "    <tr>\n",
              "      <th>60</th>\n",
              "      <td>I stayed at this hotel when it was just openin...</td>\n",
              "      <td>stay hotel open great experience room size gre...</td>\n",
              "      <td>[stay, hotel, open, great, experience, room, s...</td>\n",
              "    </tr>\n",
              "    <tr>\n",
              "      <th>61</th>\n",
              "      <td>Hello People, This hotel us a perfect destinat...</td>\n",
              "      <td>hello people hotel us perfect destination long...</td>\n",
              "      <td>[hello, people, hotel, us, perfect, destinatio...</td>\n",
              "    </tr>\n",
              "  </tbody>\n",
              "</table>\n",
              "<p>62 rows × 3 columns</p>\n",
              "</div>\n",
              "      <button class=\"colab-df-convert\" onclick=\"convertToInteractive('df-4924f298-2eb6-4048-8d40-29a074091c00')\"\n",
              "              title=\"Convert this dataframe to an interactive table.\"\n",
              "              style=\"display:none;\">\n",
              "        \n",
              "  <svg xmlns=\"http://www.w3.org/2000/svg\" height=\"24px\"viewBox=\"0 0 24 24\"\n",
              "       width=\"24px\">\n",
              "    <path d=\"M0 0h24v24H0V0z\" fill=\"none\"/>\n",
              "    <path d=\"M18.56 5.44l.94 2.06.94-2.06 2.06-.94-2.06-.94-.94-2.06-.94 2.06-2.06.94zm-11 1L8.5 8.5l.94-2.06 2.06-.94-2.06-.94L8.5 2.5l-.94 2.06-2.06.94zm10 10l.94 2.06.94-2.06 2.06-.94-2.06-.94-.94-2.06-.94 2.06-2.06.94z\"/><path d=\"M17.41 7.96l-1.37-1.37c-.4-.4-.92-.59-1.43-.59-.52 0-1.04.2-1.43.59L10.3 9.45l-7.72 7.72c-.78.78-.78 2.05 0 2.83L4 21.41c.39.39.9.59 1.41.59.51 0 1.02-.2 1.41-.59l7.78-7.78 2.81-2.81c.8-.78.8-2.07 0-2.86zM5.41 20L4 18.59l7.72-7.72 1.47 1.35L5.41 20z\"/>\n",
              "  </svg>\n",
              "      </button>\n",
              "      \n",
              "  <style>\n",
              "    .colab-df-container {\n",
              "      display:flex;\n",
              "      flex-wrap:wrap;\n",
              "      gap: 12px;\n",
              "    }\n",
              "\n",
              "    .colab-df-convert {\n",
              "      background-color: #E8F0FE;\n",
              "      border: none;\n",
              "      border-radius: 50%;\n",
              "      cursor: pointer;\n",
              "      display: none;\n",
              "      fill: #1967D2;\n",
              "      height: 32px;\n",
              "      padding: 0 0 0 0;\n",
              "      width: 32px;\n",
              "    }\n",
              "\n",
              "    .colab-df-convert:hover {\n",
              "      background-color: #E2EBFA;\n",
              "      box-shadow: 0px 1px 2px rgba(60, 64, 67, 0.3), 0px 1px 3px 1px rgba(60, 64, 67, 0.15);\n",
              "      fill: #174EA6;\n",
              "    }\n",
              "\n",
              "    [theme=dark] .colab-df-convert {\n",
              "      background-color: #3B4455;\n",
              "      fill: #D2E3FC;\n",
              "    }\n",
              "\n",
              "    [theme=dark] .colab-df-convert:hover {\n",
              "      background-color: #434B5C;\n",
              "      box-shadow: 0px 1px 3px 1px rgba(0, 0, 0, 0.15);\n",
              "      filter: drop-shadow(0px 1px 2px rgba(0, 0, 0, 0.3));\n",
              "      fill: #FFFFFF;\n",
              "    }\n",
              "  </style>\n",
              "\n",
              "      <script>\n",
              "        const buttonEl =\n",
              "          document.querySelector('#df-4924f298-2eb6-4048-8d40-29a074091c00 button.colab-df-convert');\n",
              "        buttonEl.style.display =\n",
              "          google.colab.kernel.accessAllowed ? 'block' : 'none';\n",
              "\n",
              "        async function convertToInteractive(key) {\n",
              "          const element = document.querySelector('#df-4924f298-2eb6-4048-8d40-29a074091c00');\n",
              "          const dataTable =\n",
              "            await google.colab.kernel.invokeFunction('convertToInteractive',\n",
              "                                                     [key], {});\n",
              "          if (!dataTable) return;\n",
              "\n",
              "          const docLinkHtml = 'Like what you see? Visit the ' +\n",
              "            '<a target=\"_blank\" href=https://colab.research.google.com/notebooks/data_table.ipynb>data table notebook</a>'\n",
              "            + ' to learn more about interactive tables.';\n",
              "          element.innerHTML = '';\n",
              "          dataTable['output_type'] = 'display_data';\n",
              "          await google.colab.output.renderOutput(dataTable, element);\n",
              "          const docLink = document.createElement('div');\n",
              "          docLink.innerHTML = docLinkHtml;\n",
              "          element.appendChild(docLink);\n",
              "        }\n",
              "      </script>\n",
              "    </div>\n",
              "  </div>\n",
              "  "
            ]
          },
          "metadata": {},
          "execution_count": 183
        }
      ]
    },
    {
      "cell_type": "markdown",
      "source": [
        "# Exploring Text Data"
      ],
      "metadata": {
        "id": "3gcdaJdqD4to"
      }
    },
    {
      "cell_type": "code",
      "source": [
        "import nltk\n",
        "nltk.download(\"all\")"
      ],
      "metadata": {
        "id": "8Erb4AwIEiJe"
      },
      "execution_count": null,
      "outputs": []
    },
    {
      "cell_type": "markdown",
      "source": [
        "## Counting words"
      ],
      "metadata": {
        "id": "t1sx4GuMHwcj"
      }
    },
    {
      "cell_type": "code",
      "source": [
        "combined_review = []\n",
        "for i in range(len(df)):\n",
        "  for j in range(len(df['review_new'][i])):\n",
        "    combined_review.append(df['review_new'][i][j])\n",
        "print(combined_review)"
      ],
      "metadata": {
        "colab": {
          "base_uri": "https://localhost:8080/"
        },
        "id": "YQ3XXUeNIuVL",
        "outputId": "6f593f02-7e9a-43bc-c637-b08a3853d9db"
      },
      "execution_count": 172,
      "outputs": [
        {
          "output_type": "stream",
          "name": "stdout",
          "text": [
            "['stay', 'family', 'week', 'hospitility', 'supremly', 'amazing', 'helpful', 'staff', 'delicious', 'food', 'clean', 'room', 'highly', 'recommend', 'people', 'look', 'decent', 'stay', 'near', 'jayanagar', 'beautiful', 'place', 'clean', 'hygienic', 'room', 'professional', 'courteous', 'staff', 'mouthwatere', 'delicious', 'food', 'highly', 'recommend', 'look', 'decent', 'budget', 'friendly', 'hotel', 'jayanagar', 'experience', 'lord', 'eco', 'inn', 'extremely', 'great', 'stay', '7', 'night', 'beautiful', 'place', 'supportive', 'staff', 'always', 'ready', 'help', 'you', 'inhouse', 'restaurant', 'serve', 'delicious', 'hygienic', 'food', 'always', 'amazing', 'experience', 'whenever', 'stay', 'totally', 'love', 'place', 'ambience', 'highly', 'upto', 'mark', 'staff', 'always', 'concern', 'your', 'need', 'ready', 'help', 'you', 'always', 'strongly', 'recommend', 'visit', 'homly', 'experience', 'great', 'stay', 'beautiful', 'place', 'tasty', 'food', 'staff', 'helpful', 'courteous', 'definitely', 'visit', 'special', 'thank', 'general', 'manager', 'mr', 'vikash', 'support', 'us', 'see', 'city', 'stay', 'good', 'place', 'good', 'location', 'well', 'maintain', 'neat', 'ambience', 'good', 'courteous', 'staffgood', 'food', 'lot', 'variety', 'good', 'hall', 'small', 'function', 'good', 'facility', 'go', 'truly', 'fantastic', 'stay', 'superb', 'service', 'never', 'end', 'hospitality', 'surely', 'recommend', 'friend', 'ever', 'travel', 'go', 'lords', 'eco', 'inn', 'hotel', 'jayanagar', 'bangalore', 'love', 'food', 'amazing', 'breakfast', 'thank', 'team', 'service', 'specially', 'thank', 'mr', 'vikash', 'make', 'stay', 'memorable', 'stay', 'help', 'alot', 'get', 'stay', 'comfortable', 'hotel', 'well', 'mantain', 'cleanliness', 'perfect', 'service', 'awesome', 'staff', 'helpfull', 'travel', 'towards', 'bangalore', 'sure', 'stay', 'hotel', 'wish', 'good', 'luck', 'entire', 'team', 'keep', 'good', 'service', 'everything', 'fine', 'enjoy', 'stay', 'thank', 'lord', 'eco', 'inn', 'good', 'view', 'city', '4th', 'floor', 'request', 'extra', 'drinking', 'water', 'hair', 'shampoo', 'body', 'lotion', 'room', 'service', 'provide', 'necessity', 'within', '10', 'minute', 'food', 'stay', 'good', 'ms', 'juli', 'front', 'desk', 'warm', 'welcoming', 'issue', 'check', 'check', 'outit', 'easy', 'efficient', 'great', 'lunch', 'food', 'good', 'people', 'restaurant', 'really', 'helpful', 'housekeeping', 'staff', 'helpful', 'maintain', 'clean', 'hygiene', 'comfortable', 'stay', 'lord', 'bangalore', 'front', 'office', 'staff', 'ms', 'juli', 'courteous', 'helpful', 'room', 'clean', 'comfortable', 'breakfast', 'well', 'serve', 'check', 'smooth', 'visit', 'thank', 'much', 'good', 'service', 'full', 'quality', 'hotel', 'service', 'really', 'decent', 'like', 'room', 'house', 'keep', 'also', 'good', 'especially', 'would', 'like', 'admit', 'chef', 'naveen', 'cook', 'tasty', 'meal', 'do', 'not', 'eat', 'spicy', 'food', 'like', 'local', 'people', 'cook', 'spicy', 'one', 'really', 'excellent', 'person', 'ms', 'kuku', 'staff', 'hotel', 'room', 'service', 'also', 'good', 'awesome', 'guy', 'large', 'people', 'work', 'pleasant', 'hospitable', 'stay', 'lord', 'eco', 'inn', 'week', 'agree', 'stay', 'quite', 'pleasant', 'standout', 'point', 'hospitality', 'staff', 'reception', 'dining', 'area', 'housekeeping', 'staff', 'full', 'mark', 'ms', 'kuku', 'room', 'service', 'patiently', 'attend', 'request', 'stay', 'past', '1', 'week', 'room', 'service', 'superb', 'especially', 'clean', 'girl', 'ms', 'anita', 'poonam', 'nice', 'clean', 'good', 'hotel', 'front', 'desk', 'girl', 'name', 'juli', 'helpful', 'kind', 'lady', 'time', 'call', 'service', 'help', 'soon', 'possiblelove', 'you', 'guy', 'incredible', 'stay', 'everything', 'super', 'hygiene', 'consider', 'current', 'situation', 'special', 'thank', 'ms', 'kuku', 'serve', 'us', 'food', 'room', 'scare', 'go', 'restaurant', 'love', 'hospitality', 'even', 'slight', 'thing', 'take', 'care', 'thank', 'ms', 'kuku', 'special', 'mention', 'ms', 'anita', 'always', 'keep', 'room', 'ready', 'us', 'constantly', 'check', 'need', 'fine', 'host', 'lord', 'like', 'home', 'away', 'home', 'kudo', 'guy', 'incredible', 'job', 'keep', 'guest', 'happy', 'stay', 'family', 'weekend', 'hotel', 'locate', 'nice', 'area', 'maintain', 'well', 'book', 'stay', 'action', 'package', 'get', 'early', 'check', 'due', 'lockdown', 'room', 'spacious', 'clean', 'well', 'front', 'desk', 'staff', 'ms', 'juli', 'helpful', 'make', 'stay', 'comfortable', 'definitely', 'come', 'back', 'beautiful', 'hotel', 'nice', 'clean', 'nice', 'place', 'stay', 'people', 'courteous', 'house', 'keep', 'also', 'quite', 'neat', 'tidy', 'ms', 'anita', 'courteous', 'take', 'care', 'cleaning', 'well', 'informed', 'help', 'customer', 'know', 'certain', 'detail', 'stay', 'thrice', 'work', 'area', 'door', 'away', 'time', 'problem', 'never', 'bad', 'cockroach', 'roam', 'freely', 'room', 'shower', 'almost', 'every', 'thing', 'need', 'fix', 'yellowish', 'stain', 'bed', 'linen', 'super', 'old', 'towel', 'tv', 'work', 'light', 'do', 'not', 'work', 'shower', 'fitting', 'break', 'almost', 'everything', 'need', 'fix', 'room', 'stay', 'stem', 'ceiling', 'fan', 'touch', 'false', 'ceiling', 'send', 'vibration', 'give', 'head', 'ache', 'minute', 'stay', 'pavilion', 'room', 'superior', 'one', 'imagine', 'condition', 'standard', 'room', 'seriously', 'need', 'think', 'inject', 'capital', 'property', 'stay', 'away', 'right', 'front', 'desk', 'executive', 'manager', 'hotel', 'make', 'feel', 'comfortable', 'good', 'service', 'offer', 'kitchen', 'also', 'offer', 'variety', 'indian', 'chinese', 'cuisines', 'room', 'service', 'also', 'phenomenal', 'wonderful', 'place', 'stay', 'matter', 'purpose', 'visit', 'kudos', 'vikas', 'team', 'stay', 'twice', 'last', '15days', 'liked', 'hotel', 'location', 'excellent', 'food', 'quality', 'staff', 'helpful', 'always', 'ready', 'help', 'housekeeping', 'service', 'also', 'good', 'thank', 'ms', 'priya', 'special', 'thank', 'vikash', 'hotel', 'team', 'member', 'highly', 'recommend', 'recently', 'stay', 'lord', 'eco', 'inn', 'hotel', 'room', '203', 'must', 'admit', 'room', 'big', 'neat', 'clean', 'consider', 'current', 'situation', 'corona', 'feel', 'really', 'safe', 'sanitization', 'check', 'check', 'really', 'commendable', 'food', 'good', 'even', 'though', 'choice', 'limit', 'quality', 'good', 'special', 'thank', 'gm', 'mr', 'vikash', 'kumar', 'hospitality', 'take', 'care', 'entire', 'length', 'stay', 'reach', 'hotel', 'early', 'morning', '7', 'request', 'early', 'check', 'family', '3', 'request', 'room', 'atleast', 'us', 'relax', 'staff', 'immediately', 'give', 'club', 'room', 'without', 'wait', 'room', 'also', 'spacious', 'service', 'excellent', 'cleanliness', 'great', 'towel', 'little', 'worn', 'bathroom', 'wash', 'basin', 'choke', 'get', 'repair', 'immediately', 'little', 'picky', 'shaving', 'kit', 'hair', 'drier', 'room', 'rest', 'toiletry', 'coffee', 'tea', 'available', 'opt', 'standard', 'room', 'non', 'breakfast', 'do', 'not', 'try', 'meal', 'excellent', 'supermarket', 'cum', 'cafe', 'meter', 'away', 'serve', 'excellent', 'dish', 'call', 'simply', 'naamdharis', 'location', 'great', 'area', 'stay', 'work', 'close', 'budget', 'hotel', 'clean', 'maintenance', 'poor', 'sign', 'wear', 'tare', 'every', 'possible', 'take', 'large', 'club', 'room', 'come', 'balcony', 'handful', 'staff', 'maintain', 'place', 'nice', 'lot', 'quality', 'breakfast', 'small', 'restaurant', 'erratic', 'avoid', 'idly', 'disaster', 'hotel', 'quiet', 'side', 'road', 'jayanagar', 'nice', 'restaurant', 'departmental', 'store', 'call', 'simpli', 'namdhari', '50', 'yard', 'away', 'linen', 'bed', 'badly', 'need', 'replace', 'convenient', 'stay', 'centrally', 'locate', 'close', 'ashoka', 'pillar', 'neat', 'well', 'maintain', 'small', 'house', 'restaurant', 'two', 'training', 'room', 'accommodate', '25', '39', 'participant', 'available', 'facility', 'good', 'value', 'money', 'great', 'experience', 'lord', 'eco', 'inn', 'nice', 'room', 'professional', 'staffnature', 'ambienceambrocious', 'foodtimely', 'room', 'service', 'cleanlinessfriendly', 'cordial', 'front', 'office', 'special', 'thank', 'miss', 'pallavi', 'exibite', 'professional', 'hospitality', 'love', 'great', 'ambience', 'high', 'quality', 'room', 'vikash', 'courteous', 'staff', 'make', 'stay', 'lord', 'eco', 'inn', 'enjoyablewell', 'locate', 'special', 'thank', 'pallavi', 'front', 'desk', 'thank', 'guy', 'keep', 'room', 'toilet', 'neat', 'clean', 'hotel', 'well', 'maintain', 'good', 'support', 'staff', 'restaurant', 'run', 'room', 'service', 'food', 'preparation', 'good', 'complimentary', 'breakfast', 'serve', 'good', 'good', 'option', 'location', 'good', 'residential', 'area', 'app', 'base', 'taxi', 'readily', 'available', 'bus', 'stop', 'close', 'find', 'auto', 'main', 'road', 'excellent', 'servicewell', 'clean', 'maintain', 'roomsthe', 'staff', 'well', 'train', 'friendly', 'must', 'specially', 'mention', 'receptionist', 'ms', 'pallavi', 'name', 'assure', 'get', 'require', 'rest', 'staffand', 'must', 'also', 'appreciate', 'room', 'service', 'staff', 'also', 'friendly', 'property', 'well', 'balance', 'modern', 'elegance', 'staff', 'super', 'helpful', 'attendant', 'without', 'annoy', 'special', 'thank', 'pallavi', 'front', 'desk', 'navin', 'cheffrom', 'kitchen', 'treat', 'like', 'celebrity', 'moment', 'visited', 'place', 'colleague', 'business', 'trip', 'january', 'pleasant', 'place', 'stay', 'clean', 'environment', 'good', 'tasty', 'food', 'excellent', 'service', 'friendly', 'staff', 'pallavi', 'sam', 'kuku', 'thank', 'stay', 'family', 'checkedin', 'late', 'night', 'first', 'impression', 'room', 'good', 'minute', 'settle', 'room', 'realise', 'bathroom', 'floor', 'wet', 'water', 'drainage', 'floor', 'yuk', 'informed', 'reception', 'manger', 'even', 'bother', 'come', 'talk', 'us', 'issue', 'send', 'one', 'staff', 'member', 'helpless', 'mope', 'floor', 'still', 'water', 'come', 'drainage', 'tell', 'us', 'call', 'reception', 'every', 'time', 'floor', 'get', 'wet', 'staff', 'wipe', 'water', 'great', 'idea', 'manager', 'give', 'imagine', 'night', 'would', 'want', 'room', 'smelly', 'manager', 'even', 'ready', 'provide', 'different', 'room', 'lie', 'room', 'book', 'yell', 'staff', 'different', 'room', 'allot', 'staff', 'well', 'groom', 'right', 'leadership', 'experience', 'hospitality', 'get', 'stay', 'team', 'arrange', 'excellent', 'service', 'provide', 'attention', 'every', 'detail', 'specially', 'want', 'say', 'thank', 'pallavi', 'front', 'desk', 'give', 'idea', 'near', 'place', 'visit', 'amazing', 'wonderila', 'nice', 'place', 'wonderful', 'time', 'relax', 'reenergize', 'business', 'meeting', 'great', 'service', 'excellent', 'food', 'especially', 'thank', 'front', 'desk', 'staff', 'surely', 'recommend', 'hotel', 'family', 'friend', 'book', 'visit', 'soon', 'hotel', 'hi', 'another', 'corporate', 'review', 'one', 'place', 'stay', 'official', 'trip', 'good', '1', 'staff', 'cooperative', '2', 'manager', 'cooperative', '3', 'ambience', 'decent', '4', 'location', 'prime', 'business', 'traveller', '5', 'accessibility', 'major', 'part', 'city', 'good', '6', 'major', 'facility', 'available', 'nearby', 'like', 'eatery', 'medicine', 'shops', 'coffee', 'day', 'etc', 'bad', '1', 'food', 'move', 'bit', 'quality', '2', 'staff', 'need', 'train', 'maintenance', 'location', '3', 'post', '11', 'pm', 'kitchen', 'closed', 'would', 'difficult', 'midnight', 'hunger', 'pang', '4', 'mosquito', 'issue', 'open', 'window', 'course', 'hotel', 'fault', 'good', 'trip', 'press', 'like', 'appreciate', 'review', 'recently', 'visit', 'place', 'along', 'wife', 'must', 'stay', 'place', 'worth', 'cherishingthe', 'staff', 'warm', 'always', 'wear', 'smileand', 'special', 'thank', 'rajani', 'priya', 'pallavi', 'kind', 'always', 'help', 'big', 'thank', 'entire', 'team', 'nice', 'comfy', 'hotel', 'stay', 'club', 'room', 'room', 'big', 'balcony', 'staff', 'really', 'courteous', 'always', 'ready', 'help', 'location', 'good', 'walkable', 'distance', 'main', 'road', 'thus', 'night', 'peaceful', 'need', 'request', 'service', 'hotel', 'staff', 'ready', 'help', 'you', 'look', 'hotel', 'bell', 'whistle', 'you', 'look', 'comfortable', 'stay', 'near', 'main', 'location', 'want', 'peaceful', 'stay', 'place', 'hi', 'bangalore', 'couple', 'time', 'explore', 'multiple', 'property', 'well', 'explore', 'get', 'chance', 'experience', 'nice', 'property', 'construction', 'quite', 'new', 'management', 'maintain', 'well', 'house', 'restaurant', 'include', 'variety', 'food', 'staff', 'kitchen', 'house', 'keep', 'friendly', 'go', 'way', 'customer', 'satisfaction', 'room', 'contain', 'basic', 'thing', 'hygiene', 'location', 'area', 'really', 'good', 'impressive', 'everything', 'nearby', 'within', 'reachoverall', 'really', 'good', 'option', 'choose', 'beautiful', 'budget', 'hotel', 'peaceful', 'area', 'stay', 'business', 'tour', 'comfortable', 'clean', 'room', 'cooperative', 'staff', 'hospitality', 'mr', 'rafael', 'team', 'highly', 'appreciable', 'visit', 'soon', 'keep', 'good', 'work', 'go', 'excellent', 'hotel', 'really', 'nice', 'experience', 'love', 'food', 'like', 'service', 'like', 'way', 'staff', 'talk', 'customer', 'respect', 'really', 'like', 'staff', 'who', 's', 'name', 'tseten', 'nice', 'guy', 'way', 'talk', 'customer', 'politeness', 'love', 'overall', 'perfect', 'hotel', 'mei', 'look', 'forward', 'visit', 'much', 'love', 'excellent', 'experience', 'visit', 'hotel', 'staff', 'cooperative', 'room', 'hotel', 'neat', 'clean', 'tidy', 'value', 'money', 'surely', 'visit', 'great', 'hospitality', 'experience', 'simple', 'budget', 'hotel', 'nestle', 'green', 'jayanagar', 'ist', 'block', 'pretension', 'property', 'simple', 'yet', 'amenity', 'ask', 'good', 'budget', 'hotel', 'except', 'staff', 'staff', 'exceptional', 'gm', 'raphael', 'shah', 'front', 'office', 'staff', 'bikram', 'team', 'hospitality', 'care', 'courtesy', 'completely', 'bowl', 'us', 'hat', 'employee', 'management', 'lucky', 'would', 'pleasure', 'visit', 'enjoy', 'property', 'future', 'ocassion', 'landed', 'room', 'ready', 'give', 'room', '15', 'min', 'wait', 'room', 'maintain', 'balcony', 'door', 'open', 'would', 'not', 'lock', 'ac', 'remote', 'use', 'mcb', 'switch', 'washroom', 'full', 'small', 'insect', 'many', 'switch', 'light', 'fitting', 'do', 'not', 'work', 'double', 'room', '1', 'towel', 'keep', 'take', 'reminder', 'provide', '2nd', 'one', 'breakfast', 'extremely', 'mediocre', 'even', 'replinishe', 'time', 'room', 'dine', 'food', 'tasteless', 'chapatis', 'cold', 'value', 'money', 'place', 'avoid', 'situated', 'commercial', 'area', 'jayanagar', 'fantastic', 'location', 'nice', 'neat', 'clean', 'room', 'buffet', 'breakfast', 'good', 'specially', 'south', 'indian', 'fare', 'friendly', 'staff', 'provide', 'quick', 'prompt', 'service', 'would', 'recommend', 'newly', 'open', 'hotel', 'short', 'staffthey', 'want', 'booking', 'unable', 'provide', 'servicethey', 'chef', 'staff', 'try', 'make', 'dish', 'accord', 'knowledge', 'manager', 'mr', 'sanjeev', 'bad', 'person', 'see', 'hotel', 'industry', 'spite', 'us', 'book', 'nearly', '15', 'room', 'respectservice', 'get', 'peanut', 'force', 'take', 'back', 'advance', 'be', 'not', 'even', 'sorry', 'lose', 'big', 'booking', 'water', 'problem', 'bathroom', 'linen', 'clean', 'sometimes', 'tip', 'point', 'behavior', 'mr', 'sanjeev', 'please', 'book', 'hotel', 'repent', 'room', 'dirty', 'grandparent', 'stay', 'hotel', 'twice', 'get', 'hot', 'water', 'morning', 'want', 'shower', 'call', 'reception', 'lady', 'say', 'can', 'not', 'anything', 'know', 'speak', 'manager', 'mr', 'sanjeev', 'rude', 'say', 'can', 'not', 'call', 'every', 'small', 'problem', 'tell', 'us', 'want', 'check', 'rude', 'fire', 'budget', 'hotel', 'residential', 'area', 'would', 'fine', 'budget', 'tight', 'meeting', 'though', 'courtesy', 'good', 'poor', 'service', 'hold', 'one', 'back', 'base', 'requirement', 'budget', 'hotel', 'also', 'safety', 'feature', 'take', 'mind', 'emergency', 'exit', 'visible', 'nice', 'well', 'do', 'small', 'hotel', 'room', 'spaciousthe', 'location', 'calm', 'quite', 'much', 'option', 'foodneat', 'clean', 'placewas', 'comfortable', 'work', 'place', 'nearby', 'worth', 'price', 'city', 'like', 'bengaluruand', 'central', 'locationwould', 'like', 'come', 'back', 'could', 'provide', 'us', 'room', 'book', 'almost', 'one', 'month', 'prior', 'service', 'really', 'bad', 'manager', 'abusive', 'know', 'speak', 'customer', 'would', 'suggest', 'one', 'avoid', 'stay', 'place', 'stay', 'hotel', 'around', '45', 'week', 'due', 'business', 'trip', 'room', 'clean', 'neat', 'room', 'service', 'good', 'good', 'experience', 'support', 'staff', 'courteous', 'helpful', 'hotel', 'location', 'good', 'near', 'market', 'lalbagh', 'garden', 'stay', 'comfortableroom', 'clean', 'spacious', 'good', 'interiorshad', 'good', 'experience', 'staff', 'front', 'office', 'mrlokesh', 'courteous', 'kind', 'enough', 'welcomehad', 'homely', 'feeling', 'stay', 'felt', 'experience', 'stay', 'lord', 'plaza', 'surat', 'top3', 'lords', 'resort', 'bhavanagar', 'revival', 'lord', 'vadodara', 'food', 'service', 'team', 'also', 'hospitablewould', 'rates', 'value', 'money', 'hotelwould', 'suggest', 'stay', 'trvelle', 'bangalore', 'jayanagar', 'area', 'room', 'nice', 'comfortable', 'clean', 'food', 'good', 'service', 'hospitable', 'courteous', 'staff', 'convenient', 'location', 'true', 'value', 'money', 'add', 'advantage', 'market', 'walk', 'distance', 'pleasant', 'weather', 'add', 'walking', 'experience', 'good', 'service', 'experience', 'bangalore', 'lord', 'hotel', 'fantastic', 'throughout', 'experienced', 'lord', 'plaza', 'bangalore', 'surat', 'ankleshwar', 'service', 'extraordinary', 'welcome', 'manager', 'staff', 'miss', 'restaurant', 'blue', 'coriander', 'would', 'like', 'visit', 'keep', 'good', 'work', 'room', 'clean', 'spacious', 'staff', 'supportive', 'homely', 'breakfast', 'room', 'service', 'good', 'wifi', 'offer', 'complimentary', 'conveniently', 'locate', 'good', 'family', 'corporate', 'client', 'memorable', 'wonder', 'full', 'stay', 'lord', 'eco', 'inn', 'jayanagar', 'perfect', 'food', 'excellent', 'service', 'good', 'courteous', 'staff', 'room', 'nicely', 'do', 'good', 'interior', 'good', 'value', 'money', 'like', 'recommend', 'travel', 'jayanagar', 'stay', 'family', 'two', 'night', 'hotel', 'beautiful', 'location', 'good', 'near', 'garden', 'call', 'lalbagh', 'shopping', 'complex', 'choose', 'ate', 'restaurant', 'take', 'buffet', 'well', 'spread', 'various', 'delicious', 'dish', 'service', 'staff', 'care', 'courteous', 'refill', 'immediately', 'finish', 'last', 'bite', 'beveragewe', 'great', 'fine', 'dinning', 'experience', 'stay', 'four', 'five', 'lord', 'hotel', 'think', 'lord', 'cover', 'prime', 'city', 'great', 'job', 'lord', 'hotel', 'resort', 'good', 'small', 'hotel', 'city', 'center', 'banguluru', 'facility', 'good', 'neat', 'n', 'clean', 'room', 'part', 'lord', 'hotel', 'good', 'market', 'recognition', 'western', 'part', 'india', 'food', 'take', 'room', 'service', 'good', 'boutique', 'hotel', 'excellent', 'homely', 'atmosphere', 'room', 'modern', 'amenity', 'staff', 'cooperative', 'friendly', 'quality', 'food', 'also', 'good', 'location', 'hotel', 'perfect', 'business', 'traveller', 'stay', 'official', 'visit', 'staff', 'helpful', 'chef', 'great', 'prepare', 'special', 'food', 'us', 'conference', 'facility', 'excellent', 'room', 'excellent', 'spacious', 'good', 'room', 'service', 'keep', 'stay', 'lord', 'eco', 'inn', 'jayanagar', 'banglore', 'recent', 'business', 'visit', 'city', 'conveniently', 'locate', 'near', 'city', 'airport', 'new', 'property', 'quiet', 'decent', 'room', 'affordable', 'price', 'food', 'good', 'well', 'hospitality', 'would', 'definitely', 'recommend', 'business', 'traveller', 'stay', 'hotel', 'open', 'great', 'experience', 'room', 'size', 'great', 'location', '100', 'work', 'jayanagar', 'really', 'need', 'spend', 'much', 'looking', 'value', 'money', 'also', 'location', 'right', 'place', 'restaurant', 'would', 'serve', 'basic', 'item', 'taste', 'home', 'make', 'great', 'stay', 'price', 'pay', 'guy', 'reasonable', 'hello', 'people', 'hotel', 'us', 'perfect', 'destination', 'long', 'stay', 'mini', 'kitchen', 'well', 'staff', 'extremely', 'helpful', 'small', 'hotel', 'perfect', 'away', 'hustle', 'bustle', 'city', 'room', 'perfect', 'actually', 'true', 'value', 'hotel', 'claim']\n"
          ]
        }
      ]
    },
    {
      "cell_type": "code",
      "source": [
        "print(len(combined_review), \"words in the data frame\")"
      ],
      "metadata": {
        "colab": {
          "base_uri": "https://localhost:8080/"
        },
        "id": "CjF0jwW8JOKp",
        "outputId": "695c6670-257a-44f6-d115-4d0a3989c174"
      },
      "execution_count": 173,
      "outputs": [
        {
          "output_type": "stream",
          "name": "stdout",
          "text": [
            "2112 words in the data frame\n"
          ]
        }
      ]
    },
    {
      "cell_type": "markdown",
      "source": [
        "## Frequency of words"
      ],
      "metadata": {
        "id": "nKajEFczH1_t"
      }
    },
    {
      "cell_type": "code",
      "source": [
        "from nltk.probability import FreqDist\n",
        "from nltk.corpus import stopwords\n",
        "import string"
      ],
      "metadata": {
        "id": "LfThj-l6HPqk"
      },
      "execution_count": 174,
      "outputs": []
    },
    {
      "cell_type": "code",
      "source": [
        "frequency_dist = nltk.FreqDist(combined_review)\n",
        "frequency_dist"
      ],
      "metadata": {
        "id": "_trfz_doHvda"
      },
      "execution_count": null,
      "outputs": []
    },
    {
      "cell_type": "code",
      "source": [
        "sorted_values = sorted(frequency_dist.values(), reverse=True) # Sort the values\n",
        "sorted_dict = {}\n",
        "\n",
        "for i in sorted_values:\n",
        "    for k in frequency_dist.keys():\n",
        "        if frequency_dist[k] == i:\n",
        "            sorted_dict[k] = frequency_dist[k]\n",
        "            break\n",
        "\n",
        "print(sorted_dict)"
      ],
      "metadata": {
        "colab": {
          "base_uri": "https://localhost:8080/"
        },
        "id": "BMpPt2R1LzDP",
        "outputId": "d8105cf2-e8eb-4407-ea85-fe242ac5c3d4"
      },
      "execution_count": 176,
      "outputs": [
        {
          "output_type": "stream",
          "name": "stdout",
          "text": [
            "{'room': 66, 'stay': 57, 'staff': 51, 'service': 36, 'food': 26, 'clean': 23, 'place': 20, 'thank': 19, 'lord': 18, 'location': 17, 'experience': 16, 'visit': 15, 'like': 14, 'courteous': 13, 'helpful': 12, 'jayanagar': 11, 'special': 10, 'recommend': 9, 'budget': 8, 'family': 7, 'people': 6, 'highly': 5, 'week': 4, 'professional': 3, 'hygienic': 2, 'hospitility': 1}\n"
          ]
        }
      ]
    },
    {
      "cell_type": "code",
      "source": [
        "large_words = dict([(k,v) for k,v in frequency_dist.items() if len(k)>3])\n",
        "frequency_dist = nltk.FreqDist(sorted_dict)\n",
        "frequency_dist.plot(15,cumulative=False)"
      ],
      "metadata": {
        "colab": {
          "base_uri": "https://localhost:8080/",
          "height": 325
        },
        "id": "tM-ORA-UKnI4",
        "outputId": "ddd56e58-b3f9-4020-b38d-ac7901b1bcba"
      },
      "execution_count": 177,
      "outputs": [
        {
          "output_type": "display_data",
          "data": {
            "text/plain": [
              "<Figure size 432x288 with 1 Axes>"
            ],
            "image/png": "[encoded data removed]"
          },
          "metadata": {
            "needs_background": "light"
          }
        }
      ]
    },
    {
      "cell_type": "markdown",
      "source": [
        "## Word Cloud"
      ],
      "metadata": {
        "id": "TNr-tLX-N5se"
      }
    },
    {
      "cell_type": "code",
      "source": [
        "!pip install wordcloud\n",
        "from wordcloud import WordCloud"
      ],
      "metadata": {
        "colab": {
          "base_uri": "https://localhost:8080/"
        },
        "id": "CuCz79DhLW3l",
        "outputId": "646e6119-04bc-4dac-e43c-7920d9f07c71"
      },
      "execution_count": 178,
      "outputs": [
        {
          "output_type": "stream",
          "name": "stdout",
          "text": [
            "Requirement already satisfied: wordcloud in /usr/local/lib/python3.7/dist-packages (1.5.0)\n",
            "Requirement already satisfied: numpy>=1.6.1 in /usr/local/lib/python3.7/dist-packages (from wordcloud) (1.21.5)\n",
            "Requirement already satisfied: pillow in /usr/local/lib/python3.7/dist-packages (from wordcloud) (7.1.2)\n"
          ]
        }
      ]
    },
    {
      "cell_type": "code",
      "source": [
        "wcloud = WordCloud().generate_from_frequencies(frequency_dist)\n",
        "\n",
        "import matplotlib.pyplot as plt\n",
        "plt.imshow(wcloud, interpolation='bilinear')"
      ],
      "metadata": {
        "colab": {
          "base_uri": "https://localhost:8080/",
          "height": 236
        },
        "id": "zmnrFucAN9Wm",
        "outputId": "4fde15f8-8fc5-4b47-a157-58cad72ccafd"
      },
      "execution_count": 179,
      "outputs": [
        {
          "output_type": "execute_result",
          "data": {
            "text/plain": [
              "<matplotlib.image.AxesImage at 0x7ff553619690>"
            ]
          },
          "metadata": {},
          "execution_count": 179
        },
        {
          "output_type": "display_data",
          "data": {
            "text/plain": [
              "<Figure size 432x288 with 1 Axes>"
            ],
            "image/png": "[encoded data removed]"
          },
          "metadata": {
            "needs_background": "light"
          }
        }
      ]
    },
    {
      "cell_type": "markdown",
      "source": [
        "# Analysis"
      ],
      "metadata": {
        "id": "vadrFbQxP8Gr"
      }
    },
    {
      "cell_type": "markdown",
      "source": [
        "## Example 1 (Positive Review)"
      ],
      "metadata": {
        "id": "yNwFOXyGWquL"
      }
    },
    {
      "cell_type": "code",
      "source": [
        "#import libraries\n",
        "from textblob import TextBlob\n",
        "#TextBlob has a pre trained sentiment prediction model\n",
        "blob = TextBlob(df['review_old'][5])\n",
        "blob.sentiment"
      ],
      "metadata": {
        "colab": {
          "base_uri": "https://localhost:8080/"
        },
        "id": "0Y_pLcqVOBom",
        "outputId": "c604f385-fc8d-4b4e-9f79-b83c90a395bb"
      },
      "execution_count": 199,
      "outputs": [
        {
          "output_type": "execute_result",
          "data": {
            "text/plain": [
              "Sentiment(polarity=0.5499999999999999, subjectivity=0.6285714285714287)"
            ]
          },
          "metadata": {},
          "execution_count": 199
        }
      ]
    },
    {
      "cell_type": "code",
      "source": [
        "df['review_old'][5]"
      ],
      "metadata": {
        "colab": {
          "base_uri": "https://localhost:8080/",
          "height": 35
        },
        "id": "KgqkQc3MQFZt",
        "outputId": "1d0d6564-0918-4ecb-8c8d-81f882596321"
      },
      "execution_count": 200,
      "outputs": [
        {
          "output_type": "execute_result",
          "data": {
            "text/plain": [
              "'good place good location well maintain neat ambience good courteous staffgood food lot variety good hall small function good facility go'"
            ],
            "application/vnd.google.colaboratory.intrinsic+json": {
              "type": "string"
            }
          },
          "metadata": {},
          "execution_count": 200
        }
      ]
    },
    {
      "cell_type": "markdown",
      "source": [
        "## Example 2 (Negative Review)"
      ],
      "metadata": {
        "id": "dfrYJKlEWtKv"
      }
    },
    {
      "cell_type": "code",
      "source": [
        "#import libraries\n",
        "from textblob import TextBlob\n",
        "#TextBlob has a pre trained sentiment prediction model\n",
        "blob = TextBlob(df['review_old'][45])\n",
        "blob.sentiment"
      ],
      "metadata": {
        "colab": {
          "base_uri": "https://localhost:8080/"
        },
        "id": "G_RAufPiWo05",
        "outputId": "6c478ace-8b13-4d46-dcdc-d74f33996e82"
      },
      "execution_count": 203,
      "outputs": [
        {
          "output_type": "execute_result",
          "data": {
            "text/plain": [
              "Sentiment(polarity=-0.24, subjectivity=0.65)"
            ]
          },
          "metadata": {},
          "execution_count": 203
        }
      ]
    },
    {
      "cell_type": "code",
      "source": [
        "df['review'][45]"
      ],
      "metadata": {
        "colab": {
          "base_uri": "https://localhost:8080/",
          "height": 70
        },
        "id": "euCkh1eRWpDy",
        "outputId": "120a5a11-e37e-46bc-b693-6a3edcd6d733"
      },
      "execution_count": 202,
      "outputs": [
        {
          "output_type": "execute_result",
          "data": {
            "text/plain": [
              "'Rooms we were very dirty. My grandparents stayed in this hotel twice and we did not get hot water in the morning when we wanted to shower. If i call up the reception, the lady said that she cannot do anything as she does  not know what to do. When i spoke to the manager Mr. Sanjeev, he was very very rude and he said you cannot call for every small problem. He told us if we want we can check out. Very very rude of him. He should be fired.'"
            ],
            "application/vnd.google.colaboratory.intrinsic+json": {
              "type": "string"
            }
          },
          "metadata": {},
          "execution_count": 202
        }
      ]
    }
  ]
}