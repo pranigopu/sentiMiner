{
 "cells": [
  {
   "cell_type": "markdown",
   "id": "10b363f0",
   "metadata": {},
   "source": [
    "Example 1"
   ]
  },
  {
   "cell_type": "code",
   "execution_count": null,
   "id": "654aa8be",
   "metadata": {},
   "outputs": [],
   "source": [
    "import requests\n",
    "from bs4 import BeautifulSoup"
   ]
  },
  {
   "cell_type": "code",
   "execution_count": 22,
   "id": "6a44cfdd",
   "metadata": {},
   "outputs": [],
   "source": [
    "# Making GET request to the URL, & storing the response in a requests.models.Response object\n",
    "req = requests.get(\"https://kr.hotels.com/ho444653/?q-check-in=2022-01-26&q-check-out=2022-01-27&q-rooms=1&q-room-0-adults=2&q-room-0-children=0&sort-order=BEST_SELLER&WOD=3&WOE=4&MGT=1&ZSX=0&SYE=3&YGF=7&modal=property-reviews\")\n",
    "\n# Parsing the contents of the webpage in HTML format\n",
    "soup = BeautifulSoup(req.content, \"html.parser\")"
   ]
  },
  {
   "cell_type": "code",
   "execution_count": 58,
   "id": "efa525ef",
   "metadata": {},
   "outputs": [],
   "source": [
    "# Extracting all the paragraph elements of the HTML document\n",
    "data = soup.find_all(\"p\")"
   ]
  },
  {
   "cell_type": "code",
   "execution_count": 67,
   "id": "8f3d66bd",
   "metadata": {},
   "outputs": [
    {
     "name": "stdout",
     "output_type": "stream",
     "text": [
      "20\n"
     ]
    }
   ],
   "source": [
    "for i in range(0,len(data)):\n",
    "    if(data[i].text == \"Hotels.com 실제 이용 고객 후기\"):\n",
    "        print(i)\n",
    "        first_review = i-2\n",
    "        break",
    "# First review is given as i - 2 because in the website, the format for review is:\n",
    "# <review body>\n",
    "# <author & date details>\n",
    "# 'Verified ... guest review'",
    "\n",
    "# The last line indicates that the above body was a review.\n",
    "# Hence, we need to go two indices back to retrieve the body."
   ]
  },
  {
   "cell_type": "code",
   "execution_count": 81,
   "id": "03314aac",
   "metadata": {},
   "outputs": [
    {
     "name": "stdout",
     "output_type": "stream",
     "text": [
      "추워서 혼났어요\n",
      "싼 가격에 갔기 때문에 전혀 기대를 안했는데 굉장히 고급스런 호텔이었습니다\n",
      "오션뷰, 깨끗한 룸, 친잘한직원분들 덕분에 좋은 여행이었습니다. 아침 조식도 같이 하는 상품구매해서 잘 자고 잘 먹고 기분 좋은 여행할수 있었어요. \n",
      "매우 청결했음. 어메니티 요청에 따른 피드백이 매우 좋았음. 프론트 직원 매우 친절함.\n",
      "해변과도 가깝고 전반적으로 편안한 숙박이었습니디.\n",
      "서울시 종로구 종로5길 Tower8 9층, Tel: 02-3480-0145, Mail: CS@koreasupport.hotels.com\n",
      "이 웹사이트에서 진행하신 예약과 관련한 문의사항은 [고객서비스 02-3480-0145]로 연락 주시기 바랍니다.\n"
     ]
    }
   ],
   "source": [
    "for i in range(first_review, len(data),3):\n",
    "    print(data[i].text)"
   ]
  },
  {
   "cell_type": "markdown",
   "id": "3b19652b",
   "metadata": {},
   "source": [
    "Example 2"
   ]
  },
  {
   "cell_type": "code",
   "execution_count": null,
   "id": "2a456f18",
   "metadata": {},
   "outputs": [],
   "source": [
    "req = requests.get(\"https://in.hotels.com/ho444653/?q-check-in=2022-01-26&q-check-out=2022-01-27&q-rooms=1&q-room-0-adults=2&q-room-0-children=0\")\n",
    "req.text\n",
    "soup = BeautifulSoup(req.content, \"html.parser\")"
   ]
  },
  {
   "cell_type": "code",
   "execution_count": 99,
   "id": "d83c4eca",
   "metadata": {},
   "outputs": [],
   "source": [
    "data = soup.find_all(\"p\")"
   ]
  },
  {
   "cell_type": "code",
   "execution_count": 100,
   "id": "2b68e091",
   "metadata": {},
   "outputs": [],
   "source": [
    "for i in range(0,len(data)):\n",
    "    if(data[i].text == \"Verified Expedia guest review\"):\n",
    "        first_review = i-2\n",
    "        break"
   ]
  },
  {
   "cell_type": "code",
   "execution_count": 106,
   "id": "7169c112",
   "metadata": {},
   "outputs": [],
   "source": [
    "review = []\n",
    "for i in range(first_review, len(data),3):\n",
    "    review.append(data[i].text)"
   ]
  },
  {
   "cell_type": "code",
   "execution_count": 105,
   "id": "6932456b",
   "metadata": {},
   "outputs": [
    {
     "name": "stdout",
     "output_type": "stream",
     "text": [
      "It was terrible.\n",
      " \n",
      "\n",
      "I like American Breakfast.  \n",
      "\n",
      "I really enjoyed my stay here,it was clean and the staff was kind and very helpful.It was quiet and peaceful.I stayed 4 nights and the price was reasonable. \n",
      "\n",
      "The Hotel is OK! It it lacks a lot compared to other places! The room are really tiny unless you opt to the higher like Presidential suits! But it wasn’t as bad as I thought it was gonna be! But it would be my last option if you ask me!!! \n",
      "\n",
      "This hotel was extremely clean and had amazing water pressure.  The staff was helpful, providing us bag check and taxi service for us.  It's very close to the beach and about a 5 minute walk from the pedestrian zone.  The rooms were affordable and spacious. \n",
      "\n"
     ]
    }
   ],
   "source": [
    "for i in range(0, len(review)):\n",
    "    print(review[i],\"\\n\")"
   ]
  }
 ],
 "metadata": {
  "kernelspec": {
   "display_name": "Python 3",
   "language": "python",
   "name": "python3"
  },
  "language_info": {
   "codemirror_mode": {
    "name": "ipython",
    "version": 3
   },
   "file_extension": ".py",
   "mimetype": "text/x-python",
   "name": "python",
   "nbconvert_exporter": "python",
   "pygments_lexer": "ipython3",
   "version": "3.8.8"
  }
 },
 "nbformat": 4,
 "nbformat_minor": 5
}
