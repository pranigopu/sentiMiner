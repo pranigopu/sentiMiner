{
 "cells": [
  {
   "cell_type": "markdown",
   "metadata": {},
   "source": [
    "**References:**\n",
    "<br>\n",
    "1. https://towardsdatascience.com/web-scraping-metacritic-reviews-using-beautifulsoup-63801bbe200e\n",
    "<br>\n",
    "2. https://github.com/pranigopu/sentimentAnalysis/blob/main/basicWebScraping%20-%20Kim-Hyeokk.ipynb"
   ]
  },
  {
   "cell_type": "markdown",
   "metadata": {},
   "source": [
    "# Necessary libraries"
   ]
  },
  {
   "cell_type": "code",
   "execution_count": 3,
   "metadata": {},
   "outputs": [],
   "source": [
    "import requests\n",
    "from bs4 import BeautifulSoup"
   ]
  },
  {
   "cell_type": "markdown",
   "metadata": {},
   "source": [
    "# Obtaining & parsing response of URL GET request"
   ]
  },
  {
   "cell_type": "code",
   "execution_count": 4,
   "metadata": {},
   "outputs": [],
   "source": [
    "# Making GET request to the URL, & storing the returned requests.models.Response object:\n",
    "req = requests.get(\"https://www.booking.com/hotel/in/four-seasons-begaluru-at-embassy-one.en-gb.html?label=gen173nr-1DCAEoggI46AdIM1gEaGyIAQGYAQm4AQfIAQzYAQPoAQGIAgGoAgO4Ap2uoY8GwAIB0gIkOWIxZTNiN2MtMmU1OC00ZjUxLWFkNGMtYzQzYjA4MDYzNWIx2AIE4AIB;sid=8df0246df5fdb4a77aa749b13fb558d4;checkin=2022-01-19;checkout=2022-01-20&\")"
   ]
  },
  {
   "cell_type": "code",
   "execution_count": 5,
   "metadata": {},
   "outputs": [
    {
     "name": "stdout",
     "output_type": "stream",
     "text": [
      "Type: <class 'bs4.BeautifulSoup'>\n"
     ]
    }
   ],
   "source": [
    "# Parsing the contents of the webpage in HTML format:\n",
    "soup = BeautifulSoup(req.content, \"html.parser\")\n",
    "print(\"Type:\",type(soup))"
   ]
  },
  {
   "cell_type": "markdown",
   "metadata": {},
   "source": [
    "# Retrieving review data"
   ]
  },
  {
   "cell_type": "markdown",
   "metadata": {},
   "source": [
    "## Initialising necessary objects"
   ]
  },
  {
   "cell_type": "code",
   "execution_count": 6,
   "metadata": {},
   "outputs": [],
   "source": [
    "# Creating a dictionary to store review information:\n",
    "reviewsData = {'name': [], 'date': [], 'rating': [], 'review': []}\n",
    "\n",
    "# This dictionary will be later converted to a dataframe, & then a usable CSV data file.\n",
    "# Each key represents a field name.\n",
    "# Each value represents the column of values under each field."
   ]
  },
  {
   "cell_type": "markdown",
   "metadata": {},
   "source": [
    "### Inspecting an element of 'reviews'"
   ]
  },
  {
   "cell_type": "code",
   "execution_count": 8,
   "metadata": {},
   "outputs": [
    {
     "data": {
      "text/plain": [
       "bs4.element.ResultSet"
      ]
     },
     "execution_count": 8,
     "metadata": {},
     "output_type": "execute_result"
    }
   ],
   "source": [
    "# TYPE\n",
    "type(reviews)"
   ]
  },
  {
   "cell_type": "code",
   "execution_count": 14,
   "metadata": {},
   "outputs": [
    {
     "data": {
      "text/plain": [
       "<p class=\"trackit althotelsReview2 fixed_review_height fixed_review_top_align review_content\" data-url=\"/hotel/in/four-seasons-begaluru-at-embassy-one.en-gb.html?sid=5e226c19422077c714acb546e9ac249d;rurl=#hash-blockdisplay4\" lang=\"en\">\n",
       "<span>\n",
       "First and foremost, this is the best Pet-Friendly hotel we found in bangalore. Not only were the staff sensitive to pet requirements, but also offered multiple services/food menu so that the pet has a good time.\n",
       "</span>\n",
       "</p>"
      ]
     },
     "execution_count": 14,
     "metadata": {},
     "output_type": "execute_result"
    }
   ],
   "source": [
    "# CONTENT\n",
    "reviews[0]"
   ]
  },
  {
   "cell_type": "code",
   "execution_count": 11,
   "metadata": {},
   "outputs": [
    {
     "data": {
      "text/plain": [
       "'\\n\\nFirst and foremost, this is the best Pet-Friendly hotel we found in bangalore. Not only were the staff sensitive to pet requirements, but also offered multiple services/food menu so that the pet has a good time.\\n\\n'"
      ]
     },
     "execution_count": 11,
     "metadata": {},
     "output_type": "execute_result"
    }
   ],
   "source": [
    "# TEXT ATTRIBUTE\n",
    "reviews[0].text"
   ]
  },
  {
   "cell_type": "markdown",
   "metadata": {},
   "source": [
    "## Storing review data in respective fields"
   ]
  },
  {
   "cell_type": "code",
   "execution_count": 16,
   "metadata": {},
   "outputs": [],
   "source": [
    "for r in reviews: reviewsData['review'].append(r.text)"
   ]
  }
 ],
 "metadata": {
  "kernelspec": {
   "display_name": "Python 3",
   "language": "python",
   "name": "python3"
  },
  "language_info": {
   "codemirror_mode": {
    "name": "ipython",
    "version": 3
   },
   "file_extension": ".py",
   "mimetype": "text/x-python",
   "name": "python",
   "nbconvert_exporter": "python",
   "pygments_lexer": "ipython3",
   "version": "3.8.5"
  }
 },
 "nbformat": 4,
 "nbformat_minor": 4
}
